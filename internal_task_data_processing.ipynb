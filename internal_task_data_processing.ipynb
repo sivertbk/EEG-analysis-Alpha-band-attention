{
 "cells": [
  {
   "cell_type": "code",
   "execution_count": 6,
   "metadata": {},
   "outputs": [],
   "source": [
    "import mne\n",
    "#from mne_bids import (BIDSPath, read_raw_bids, print_dir_tree, make_report,\n",
    "#                      find_matching_paths, get_entity_vals)\n",
    "import numpy as np\n",
    "import matplotlib.pyplot as plt\n",
    "# import scipy as sp\n",
    "# from scipy import signal\n",
    "# import seaborn as sns\n",
    "import pandas as pd\n",
    "from pathlib import Path\n",
    "import os\n",
    "from time import time\n",
    "from autoreject import AutoReject, Ransac, get_rejection_threshold\n",
    "\n",
    "%matplotlib qt"
   ]
  },
  {
   "cell_type": "code",
   "execution_count": 3,
   "metadata": {},
   "outputs": [],
   "source": [
    "# Initialize an empty dictionary for subject grouping\n",
    "subject_groups = {}\n",
    "\n",
    "# Add subjects to the dictionary based on their group\n",
    "for i in range(1, 25):\n",
    "    subject_groups[f\"sub-{i:03d}\"] = \"htr\" #Himalayan\n",
    "\n",
    "for i in range(25, 56):\n",
    "    subject_groups[f\"sub-{i:03d}\"] = \"ctr\" #Control\n",
    "\n",
    "for i in range(56, 60):\n",
    "    subject_groups[f\"sub-{i:03d}\"] = \"tm\" #Transcendental???\n",
    "\n",
    "for i in range(60, 79):\n",
    "    subject_groups[f\"sub-{i:03d}\"] = \"vip\" #Vipassana\n",
    "\n",
    "for i in range(79, 99):\n",
    "    subject_groups[f\"sub-{i:03d}\"] = \"sny\" #Shoonya Yoga\n",
    "\n",
    "\n",
    "# Creating event id for each task and practice\n",
    "event_id = {'htr/med1':1, 'htr/med2':2, 'htr/think1':3, 'htr/think2':4,\n",
    "          'ctr/med1':5, 'ctr/med2':6, 'ctr/think1':7, 'ctr/think2':8,\n",
    "          'tm/med1': 9, 'tm/med2' :10, 'tm/think1':11, 'tm/think2':12,\n",
    "          'vip/med1':13, 'vip/med2':14, 'vip/think1':15, 'vip/think2':16,\n",
    "          'sny/med1':17, 'sny/med2':18, 'sny/think1':19, 'sny/think2':20}\n",
    "\n",
    "\n",
    "\n",
    "\n",
    "def load_task_data(bids_root, subject_id, tasks):\n",
    "    \"\"\"\n",
    "    Load specific task EEG data for a subject from a BIDS-like dataset.\n",
    "    \n",
    "    Parameters:\n",
    "    - bids_root: str, path to the root of the dataset.\n",
    "    - subject_id: str, subject identifier (e.g., '088').\n",
    "    - tasks: list of str, the task names to load (e.g., ['med2', 'think2']).\n",
    "    \n",
    "    Returns:\n",
    "    - raw_dict: dict, containing MNE Raw objects for each task.\n",
    "    \"\"\"\n",
    "    # Define the subject's EEG folder\n",
    "    subject_path = os.path.join(bids_root, f\"sub-{subject_id}\", \"eeg\")\n",
    "    \n",
    "    if not os.path.exists(subject_path):\n",
    "        raise FileNotFoundError(f\"Subject folder not found: {subject_path}\")\n",
    "    \n",
    "    raw_dict = {}  # Dictionary to hold Raw objects for each task\n",
    "    \n",
    "    for task in tasks:\n",
    "        # Locate the BDF file for the specific task\n",
    "        bdf_file = os.path.join(subject_path, f\"sub-{subject_id}_task-{task}_eeg.bdf\")\n",
    "        if not os.path.exists(bdf_file):\n",
    "            print(f\"WARNING: BDF file not found for task '{task}'. Skipping...\")\n",
    "            continue\n",
    "        \n",
    "        # Load the BDF file\n",
    "        raw = mne.io.read_raw_bdf(bdf_file, preload=True)\n",
    "        print(f\"Loaded BDF file for task '{task}': {bdf_file}\")\n",
    "        \n",
    "        # Optionally, load metadata from JSON/TSV files\n",
    "        # Metadata file paths\n",
    "        json_file = os.path.join(subject_path, f\"sub-{subject_id}_task-{task}_eeg.json\")\n",
    "        tsv_file = os.path.join(subject_path, f\"sub-{subject_id}_task-{task}_channels.tsv\")\n",
    "        \n",
    "        metadata = {}\n",
    "        if os.path.exists(json_file):\n",
    "            with open(json_file, 'r') as f:\n",
    "                metadata['json'] = f.read()\n",
    "            print(f\"Loaded metadata JSON for task '{task}'\")\n",
    "        \n",
    "        if os.path.exists(tsv_file):\n",
    "            metadata['tsv'] = tsv_file  # Store TSV file path for later use if needed\n",
    "            print(f\"Loaded metadata TSV for task '{task}'\")\n",
    "        \n",
    "        # Add the loaded data and metadata to the dictionary\n",
    "        raw_dict[task] = {\n",
    "            'raw': raw,\n",
    "            'metadata': metadata\n",
    "        }\n",
    "    \n",
    "    if not raw_dict:\n",
    "        raise ValueError(f\"No data was loaded for subject {subject_id} with tasks {tasks}.\")\n",
    "    \n",
    "    return raw_dict\n"
   ]
  },
  {
   "cell_type": "code",
   "execution_count": null,
   "metadata": {},
   "outputs": [
    {
     "name": "stdout",
     "output_type": "stream",
     "text": [
      "\n",
      "##### Initiating the preprocessing pipeline for the Braboszcz et al. (2017) dataset. ######\n",
      "\n",
      "##### Loading data #####\n",
      "Extracting EDF parameters from /home/sivert/Documents/Specialization_project/Datasets/ds003969/sub-078/eeg/sub-078_task-med2_eeg.bdf...\n",
      "BDF file detected\n",
      "Setting channel info structure...\n",
      "Creating raw.info structure...\n",
      "Reading 0 ... 614399  =      0.000 ...   599.999 secs...\n",
      "Loaded BDF file for task 'med2': /home/sivert/Documents/Specialization_project/Datasets/ds003969/sub-078/eeg/sub-078_task-med2_eeg.bdf\n",
      "Loaded metadata JSON for task 'med2'\n",
      "Loaded metadata TSV for task 'med2'\n",
      "Extracting EDF parameters from /home/sivert/Documents/Specialization_project/Datasets/ds003969/sub-078/eeg/sub-078_task-think2_eeg.bdf...\n",
      "BDF file detected\n",
      "Setting channel info structure...\n",
      "Creating raw.info structure...\n",
      "Reading 0 ... 622591  =      0.000 ...   607.999 secs...\n",
      "Loaded BDF file for task 'think2': /home/sivert/Documents/Specialization_project/Datasets/ds003969/sub-078/eeg/sub-078_task-think2_eeg.bdf\n",
      "Loaded metadata JSON for task 'think2'\n",
      "Loaded metadata TSV for task 'think2'\n",
      "\n",
      "##### Channel types #####\n",
      "['Fp1', 'AF7', 'AF3', 'F1', 'F3', 'F5', 'F7', 'FT7', 'FC5', 'FC3', 'FC1', 'C1', 'C3', 'C5', 'T7', 'TP7', 'CP5', 'CP3', 'CP1', 'P1', 'P3', 'P5', 'P7', 'P9', 'PO7', 'PO3', 'O1', 'Iz', 'Oz', 'POz', 'Pz', 'CPz', 'Fpz', 'Fp2', 'AF8', 'AF4', 'AFz', 'Fz', 'F2', 'F4', 'F6', 'F8', 'FT8', 'FC6', 'FC4', 'FC2', 'FCz', 'Cz', 'C2', 'C4', 'C6', 'T8', 'TP8', 'CP6', 'CP4', 'CP2', 'P2', 'P4', 'P6', 'P8', 'P10', 'PO8', 'PO4', 'O2']\n",
      "Bad channels in meditation block: []\n",
      "Bad channels in thinking block: []\n",
      "Setting channel interpolation method to {'eeg': 'spline'}.\n",
      "Setting channel interpolation method to {'eeg': 'spline'}.\n",
      "[]\n",
      "[]\n",
      "\n",
      "##### Downsampling #####\n"
     ]
    },
    {
     "name": "stderr",
     "output_type": "stream",
     "text": [
      "/tmp/ipykernel_97582/3064138965.py:20: RuntimeWarning: The unit for channel(s) EXG1, EXG2, EXG3, EXG4, EXG5, EXG6, EXG7, EXG8, Erg1, Erg2, GSR1, GSR2 has changed from V to NA.\n",
      "  raw_med.set_channel_types({'EXG1': 'misc',\n",
      "/tmp/ipykernel_97582/3064138965.py:36: RuntimeWarning: The unit for channel(s) EXG1, EXG2, EXG3, EXG4, EXG5, EXG6, EXG7, EXG8, Erg1, Erg2, GSR1, GSR2 has changed from V to NA.\n",
      "  raw_mw.set_channel_types({'EXG1': 'misc',\n",
      "/tmp/ipykernel_97582/3064138965.py:75: RuntimeWarning: No bad channels to interpolate. Doing nothing...\n",
      "  raw_med.interpolate_bads()\n",
      "/tmp/ipykernel_97582/3064138965.py:76: RuntimeWarning: No bad channels to interpolate. Doing nothing...\n",
      "  raw_mw.interpolate_bads()\n"
     ]
    },
    {
     "name": "stdout",
     "output_type": "stream",
     "text": [
      "New sampling frequency: 128.0 Hz\n",
      "\n",
      "##### Averaging and filtering raw data #####\n",
      "1 (FIFFV_MNE_CUSTOM_REF_ON)\n",
      "1 (FIFFV_MNE_CUSTOM_REF_ON)\n",
      "NOTE: plot_psd() is a legacy function. New code should use .compute_psd().plot().\n",
      "Effective window size : 16.000 (s)\n",
      "Plotting power spectral density (dB=True).\n",
      "NOTE: plot_psd() is a legacy function. New code should use .compute_psd().plot().\n",
      "Effective window size : 16.000 (s)\n",
      "Plotting power spectral density (dB=True).\n"
     ]
    },
    {
     "data": {
      "image/png": "[encoded data removed]",
      "text/plain": [
       "<MNELineFigure size 1000x350 with 1 Axes>"
      ]
     },
     "execution_count": 5,
     "metadata": {},
     "output_type": "execute_result"
    }
   ],
   "source": [
    "# Print out intiation text with path to the dataset and events\n",
    "print(\"\\n##### Initiating the preprocessing pipeline for the Braboszcz et al. (2017) dataset. ######\")\n",
    "\n",
    "bids_root = \"/home/sivert/Documents/Specialization_project/Datasets/ds003969/\"\n",
    "subject_id = \"078\"\n",
    "tasks = [\"med2\", \"think2\"]\n",
    "subject_group = subject_groups['sub-'+subject_id]\n",
    "\n",
    "\n",
    "print('\\n##### Loading data #####')\n",
    "# Load data\n",
    "subject_data = load_task_data(bids_root, subject_id, tasks)\n",
    "\n",
    "# Access raw data for a specific task\n",
    "raw_med = subject_data['med2']['raw']\n",
    "raw_mw = subject_data['think2']['raw']\n",
    "\n",
    "print('\\n##### Channel types #####')\n",
    "# Set channel types\n",
    "raw_med.set_channel_types({'EXG1': 'misc',\n",
    "                    'EXG2': 'misc',\n",
    "                    'EXG3': 'misc',\n",
    "                    'EXG4': 'misc',\n",
    "                    'EXG5': 'misc',\n",
    "                    'EXG6': 'misc',\n",
    "                    'EXG7': 'misc',\n",
    "                    'EXG8': 'misc',\n",
    "                    'GSR1': 'misc',\n",
    "                    'GSR2': 'misc',\n",
    "                    'Erg1': 'misc',\n",
    "                    'Erg2': 'misc',\n",
    "                    'Resp': 'bio',\n",
    "                    'Plet': 'bio',\n",
    "                    'Temp': 'bio'\n",
    "})\n",
    "raw_mw.set_channel_types({'EXG1': 'misc',\n",
    "                    'EXG2': 'misc',\n",
    "                    'EXG3': 'misc',\n",
    "                    'EXG4': 'misc',\n",
    "                    'EXG5': 'misc',\n",
    "                    'EXG6': 'misc',\n",
    "                    'EXG7': 'misc',\n",
    "                    'EXG8': 'misc',\n",
    "                    'GSR1': 'misc',\n",
    "                    'GSR2': 'misc',\n",
    "                    'Erg1': 'misc',\n",
    "                    'Erg2': 'misc',\n",
    "                    'Resp': 'bio',\n",
    "                    'Plet': 'bio',\n",
    "                    'Temp': 'bio'\n",
    "})\n",
    "\n",
    "# Drop non-eeg channels\n",
    "raw_med.pick('eeg')\n",
    "raw_mw.pick('eeg')\n",
    "\n",
    "# Verify the remaining channels\n",
    "print(raw_med.info['ch_names'])\n",
    "\n",
    "#Load the BioSemi 64-channel montage\n",
    "montage = mne.channels.make_standard_montage('biosemi64')\n",
    "raw_med.set_montage(montage)\n",
    "raw_mw.set_montage(montage)\n",
    "\n",
    "# Exclude bad channels\n",
    "bad_channels_med = []\n",
    "bad_channels_mw = []\n",
    "raw_med.info['bads'] = bad_channels_med\n",
    "raw_mw.info['bads'] = bad_channels_mw\n",
    "\n",
    "print('Bad channels in meditation block:', raw_med.info['bads']) \n",
    "print('Bad channels in thinking block:', raw_mw.info['bads'])  \n",
    "\n",
    "# Interpolate bad channels\n",
    "raw_med.interpolate_bads()\n",
    "raw_mw.interpolate_bads()\n",
    "\n",
    "# Verify that the bad channels have been interpolated\n",
    "print(raw_med.info['bads'])  # Should be an empty list\n",
    "print(raw_mw.info['bads'])  # Should be an empty list\n",
    "\n",
    "# Plot the data\n",
    "#raw_med.plot()\n",
    "#raw_mw.plot()\n",
    "\n",
    "print(\"\\n##### Downsampling #####\")\n",
    "\n",
    "# Downsample the data to 128 Hz\n",
    "raw_med.resample(sfreq=128, npad=\"auto\", verbose=False)\n",
    "raw_mw.resample(sfreq=128, npad=\"auto\", verbose=False)\n",
    "\n",
    "# Print the new sampling frequency\n",
    "print(f\"New sampling frequency: {raw_med.info['sfreq']} Hz\")\n",
    "\n",
    "print(\"\\n##### Averaging and filtering raw data #####\")\n",
    "\n",
    "preprocessed_data_med = raw_med.copy()\n",
    "preprocessed_data_mw = raw_mw.copy()\n",
    "# Apply an average reference to the data\n",
    "preprocessed_data_med.set_eeg_reference(ref_channels='average', verbose=False)\n",
    "preprocessed_data_mw.set_eeg_reference(ref_channels='average', verbose=False)\n",
    "\n",
    "# Filter out low frequencies and high frequencies\n",
    "preprocessed_data_med.filter(l_freq=1, h_freq=40, verbose=False)\n",
    "preprocessed_data_mw.filter(l_freq=1, h_freq=40, verbose=False)\n",
    "\n",
    "# average reference\n",
    "preprocessed_data_med.set_eeg_reference(ref_channels='average', verbose=False)\n",
    "preprocessed_data_mw.set_eeg_reference(ref_channels='average', verbose=False)\n",
    "\n",
    "# Verify the new reference\n",
    "print(preprocessed_data_med.info['custom_ref_applied'])  # Should be 1 if referencing was applied\n",
    "print(preprocessed_data_mw.info['custom_ref_applied'])  # Should be 1 if referencing was applied\n",
    "\n",
    "\n",
    "# Plot the data\n",
    "preprocessed_data_med.plot()\n",
    "preprocessed_data_mw.plot()\n",
    "\n",
    "preprocessed_data_med.plot_psd(fmin=1, fmax=40, average=True)\n",
    "preprocessed_data_mw.plot_psd(fmin=1, fmax=40, average=True)\n",
    "\n"
   ]
  },
  {
   "cell_type": "code",
   "execution_count": 10,
   "metadata": {},
   "outputs": [
    {
     "name": "stdout",
     "output_type": "stream",
     "text": [
      "\n",
      "##### ICA analysis meditation data #####\n",
      "Fitting ICA to data using 64 channels (please be patient, this may take a while)\n",
      "    Rejecting  epoch based on EEG : ['F5']\n",
      "Artifact detected in [512, 768]\n",
      "    Rejecting  epoch based on EEG : ['F5']\n",
      "Artifact detected in [5120, 5376]\n",
      "    Rejecting  epoch based on EEG : ['FCz']\n",
      "Artifact detected in [9728, 9984]\n",
      "    Rejecting  epoch based on EEG : ['FCz']\n",
      "Artifact detected in [9984, 10240]\n",
      "    Rejecting  epoch based on EEG : ['FCz']\n",
      "Artifact detected in [11776, 12032]\n",
      "    Rejecting  epoch based on EEG : ['F5', 'F7', 'F8']\n",
      "Artifact detected in [52992, 53248]\n",
      "Selecting by number: 20 components\n",
      "Computing Infomax ICA\n",
      "Fitting ICA took 6.1s.\n",
      "Creating RawArray with float64 data, n_channels=20, n_times=76928\n",
      "    Range : 0 ... 76927 =      0.000 ...   600.992 secs\n",
      "Ready.\n"
     ]
    }
   ],
   "source": [
    "\n",
    "\n",
    "print(\"\\n##### ICA analysis meditation data #####\")\n",
    "def run_ica(method, data, fit_params=None):\n",
    "    ica = mne.preprocessing.ICA(\n",
    "        n_components=20,\n",
    "        method=method,\n",
    "        fit_params=fit_params,\n",
    "        max_iter=\"auto\",\n",
    "        random_state=97,\n",
    "    )\n",
    "    t0 = time()\n",
    "    ica.fit(data, reject={'eeg': 200e-6})\n",
    "    fit_time = time() - t0\n",
    "    title = f\"ICA decomposition using {method} (took {fit_time:.1f}s)\"\n",
    "    ica.plot_components(title=title)\n",
    "    ica.plot_sources(data)\n",
    "    return ica\n",
    "\n",
    "\n",
    "ica = run_ica(\"infomax\", preprocessed_data_med)"
   ]
  },
  {
   "cell_type": "code",
   "execution_count": 89,
   "metadata": {},
   "outputs": [
    {
     "name": "stdout",
     "output_type": "stream",
     "text": [
      "Applying ICA to Raw instance\n",
      "    Transforming to ICA space (20 components)\n"
     ]
    },
    {
     "name": "stdout",
     "output_type": "stream",
     "text": [
      "    Zeroing out 1 ICA component\n",
      "    Projecting back using 64 PCA components\n"
     ]
    },
    {
     "data": {
      "text/html": [
       "<script type=\"text/javascript\">\n",
       "    const toggleVisibility = (className) => {\n",
       "\n",
       "  const elements = document.querySelectorAll(`.${className}`)\n",
       "\n",
       "  elements.forEach(element => {\n",
       "    if (element.classList.contains('repr-section-header')) {\n",
       "      // Don't collapse the section header row.\n",
       "       return\n",
       "    }\n",
       "    if (element.classList.contains('repr-element-collapsed')) {\n",
       "      // Force a reflow to ensure the display change takes effect before removing the class\n",
       "      element.classList.remove('repr-element-collapsed')\n",
       "      element.offsetHeight // This forces the browser to recalculate layout\n",
       "      element.classList.remove('repr-element-faded')\n",
       "    } else {\n",
       "      // Start transition to hide the element\n",
       "      element.classList.add('repr-element-faded')\n",
       "      element.addEventListener('transitionend', handler = (e) => {\n",
       "        if (e.propertyName === 'opacity' && getComputedStyle(element).opacity === '0.2') {\n",
       "          element.classList.add('repr-element-collapsed')\n",
       "          element.removeEventListener('transitionend', handler)\n",
       "        }\n",
       "      });\n",
       "    }\n",
       "  });\n",
       "\n",
       "  // Take care of button (adjust caret)\n",
       "  const button = document.querySelectorAll(`.repr-section-header.${className} > th.repr-section-toggle-col > button`)[0]\n",
       "  button.classList.toggle('collapsed')\n",
       "\n",
       "  // Take care of the tooltip of the section header row\n",
       "  const sectionHeaderRow = document.querySelectorAll(`tr.repr-section-header.${className}`)[0]\n",
       "  sectionHeaderRow.classList.toggle('collapsed')\n",
       "  sectionHeaderRow.title = sectionHeaderRow.title === 'Hide section' ? 'Show section' : 'Hide section'\n",
       "}\n",
       "</script>\n",
       "\n",
       "<style type=\"text/css\">\n",
       "    table.repr.table.table-hover.table-striped.table-sm.table-responsive.small {\n",
       "  /* Don't make rows wider than they need to be. */\n",
       "  display: inline;\n",
       "}\n",
       "\n",
       "table > tbody > tr.repr-element > td {\n",
       "  /* Apply a tighter layout to the table cells. */\n",
       "  padding-top: 0.1rem;\n",
       "  padding-bottom: 0.1rem;\n",
       "  padding-right: 1rem;\n",
       "}\n",
       "\n",
       "table > tbody > tr > td.repr-section-toggle-col {\n",
       "  /* Remove background and border of the first cell in every row\n",
       "     (this row is only used for the collapse / uncollapse caret)\n",
       "\n",
       "     TODO: Need to find a good solution for VS Code that works in both\n",
       "           light and dark mode. */\n",
       "  border-color: transparent;\n",
       "  --bs-table-accent-bg: transparent;\n",
       "}\n",
       "\n",
       "tr.repr-section-header {\n",
       "  /* Remove stripes from section header rows */\n",
       "  background-color: transparent;\n",
       "  border-color: transparent;\n",
       "  --bs-table-striped-bg: transparent;\n",
       "  cursor: pointer;\n",
       "}\n",
       "\n",
       "tr.repr-section-header > th {\n",
       "  text-align: left !important;\n",
       "  vertical-align: middle;\n",
       "}\n",
       "\n",
       ".repr-element, tr.repr-element > td {\n",
       "  opacity: 1;\n",
       "  text-align: left !important;\n",
       "}\n",
       "\n",
       ".repr-element-faded {\n",
       "  transition: 0.3s ease;\n",
       "  opacity: 0.2;\n",
       "}\n",
       "\n",
       ".repr-element-collapsed {\n",
       "  display: none;\n",
       "}\n",
       "\n",
       "/* Collapse / uncollapse button and the caret it contains. */\n",
       ".repr-section-toggle-col button {\n",
       "  cursor: pointer;\n",
       "  width: 1rem;\n",
       "  background-color: transparent;\n",
       "  border-color: transparent;\n",
       "}\n",
       "\n",
       "span.collapse-uncollapse-caret {\n",
       "  width: 1rem;\n",
       "  height: 1rem;\n",
       "  display: block;\n",
       "  background-repeat: no-repeat;\n",
       "  background-position: left;\n",
       "  background-size: contain;\n",
       "}\n",
       "\n",
       "/* The collapse / uncollapse carets were copied from the free Font Awesome collection and adjusted. */\n",
       "\n",
       "/* Default to black carets for light mode */\n",
       ".repr-section-toggle-col > button.collapsed > span.collapse-uncollapse-caret {\n",
       "  background-image: url('data:image/svg+xml;charset=utf8,<svg xmlns=\"http://www.w3.org/2000/svg\" viewBox=\"0 0 256 512\"><!--!Font Awesome Free 6.5.2 by @fontawesome - https://fontawesome.com License - https://fontawesome.com/license/free Copyright 2024 Fonticons, Inc.--><path fill=\"black\" d=\"M246.6 278.6c12.5-12.5 12.5-32.8 0-45.3l-128-128c-9.2-9.2-22.9-11.9-34.9-6.9s-19.8 16.6-19.8 29.6l0 256c0 12.9 7.8 24.6 19.8 29.6s25.7 2.2 34.9-6.9l128-128z\"/></svg>');\n",
       "}\n",
       "\n",
       ".repr-section-toggle-col\n",
       "  > button:not(.collapsed)\n",
       "  > span.collapse-uncollapse-caret {\n",
       "  background-image: url('data:image/svg+xml;charset=utf8,<svg xmlns=\"http://www.w3.org/2000/svg\" viewBox=\"0 0 320 512\"><!--!Font Awesome Free 6.5.2 by @fontawesome - https://fontawesome.com License - https://fontawesome.com/license/free Copyright 2024 Fonticons, Inc.--><path fill=\"black\" d=\"M137.4 374.6c12.5 12.5 32.8 12.5 45.3 0l128-128c9.2-9.2 11.9-22.9 6.9-34.9s-16.6-19.8-29.6-19.8L32 192c-12.9 0-24.6 7.8-29.6 19.8s-2.2 25.7 6.9 34.9l128 128z\"/></svg>');\n",
       "}\n",
       "\n",
       "/* Use white carets for dark mode */\n",
       "@media (prefers-color-scheme: dark) {\n",
       "  .repr-section-toggle-col > button.collapsed > span.collapse-uncollapse-caret {\n",
       "    background-image: url('data:image/svg+xml;charset=utf8,<svg xmlns=\"http://www.w3.org/2000/svg\" viewBox=\"0 0 256 512\"><!--!Font Awesome Free 6.5.2 by @fontawesome - https://fontawesome.com License - https://fontawesome.com/license/free Copyright 2024 Fonticons, Inc.--><path fill=\"white\" d=\"M246.6 278.6c12.5-12.5 12.5-32.8 0-45.3l-128-128c-9.2-9.2-22.9-11.9-34.9-6.9s-19.8 16.6-19.8 29.6l0 256c0 12.9 7.8 24.6 19.8 29.6s25.7 2.2 34.9-6.9l128-128z\"/></svg>');\n",
       "  }\n",
       "\n",
       "  .repr-section-toggle-col\n",
       "    > button:not(.collapsed)\n",
       "    > span.collapse-uncollapse-caret {\n",
       "    background-image: url('data:image/svg+xml;charset=utf8,<svg xmlns=\"http://www.w3.org/2000/svg\" viewBox=\"0 0 320 512\"><!--!Font Awesome Free 6.5.2 by @fontawesome - https://fontawesome.com License - https://fontawesome.com/license/free Copyright 2024 Fonticons, Inc.--><path fill=\"white\" d=\"M137.4 374.6c12.5 12.5 32.8 12.5 45.3 0l128-128c9.2-9.2 11.9-22.9 6.9-34.9s-16.6-19.8-29.6-19.8L32 192c-12.9 0-24.6 7.8-29.6 19.8s-2.2 25.7 6.9 34.9l128 128z\"/></svg>');\n",
       "  }\n",
       "}\n",
       "\n",
       ".channel-names-btn {\n",
       "  padding: 0;\n",
       "  border: none;\n",
       "  background: none;\n",
       "  text-decoration: underline;\n",
       "  text-decoration-style: dashed;\n",
       "  cursor: pointer;\n",
       "  color: #0d6efd;\n",
       "}\n",
       "\n",
       ".channel-names-btn:hover {\n",
       "  color: #0a58ca;\n",
       "}\n",
       "</style>\n",
       "\n",
       "\n",
       "\n",
       "<table class=\"repr table table-hover table-striped table-sm table-responsive small\">\n",
       "    \n",
       "\n",
       "\n",
       "\n",
       "\n",
       "\n",
       "\n",
       "\n",
       "<tr class=\"repr-section-header general-c3c79330-f9ad-4d5a-8f5a-1e8b29e05b59\"  title=\"Hide section\" \n",
       "    onclick=\"toggleVisibility('general-c3c79330-f9ad-4d5a-8f5a-1e8b29e05b59')\">\n",
       "    <th class=\"repr-section-toggle-col\">\n",
       "        <button>\n",
       "            \n",
       "            <span class=\"collapse-uncollapse-caret\"></span>\n",
       "        </button>\n",
       "    </th>\n",
       "    <th colspan=\"2\">\n",
       "        <strong>General</strong>\n",
       "    </th>\n",
       "</tr>\n",
       "\n",
       "<tr class=\"repr-element general-c3c79330-f9ad-4d5a-8f5a-1e8b29e05b59 \">\n",
       "    <td class=\"repr-section-toggle-col\"></td>\n",
       "    <td>Filename(s)</td>\n",
       "    <td>\n",
       "        \n",
       "        sub-072_task-med2_eeg.bdf\n",
       "        \n",
       "        \n",
       "    </td>\n",
       "</tr>\n",
       "\n",
       "<tr class=\"repr-element general-c3c79330-f9ad-4d5a-8f5a-1e8b29e05b59 \">\n",
       "    <td class=\"repr-section-toggle-col\"></td>\n",
       "    <td>MNE object type</td>\n",
       "    <td>RawEDF</td>\n",
       "</tr>\n",
       "<tr class=\"repr-element general-c3c79330-f9ad-4d5a-8f5a-1e8b29e05b59 \">\n",
       "    <td class=\"repr-section-toggle-col\"></td>\n",
       "    <td>Measurement date</td>\n",
       "    \n",
       "    <td>2011-02-19 at 15:44:49 UTC</td>\n",
       "    \n",
       "</tr>\n",
       "<tr class=\"repr-element general-c3c79330-f9ad-4d5a-8f5a-1e8b29e05b59 \">\n",
       "    <td class=\"repr-section-toggle-col\"></td>\n",
       "    <td>Participant</td>\n",
       "    \n",
       "    \n",
       "    <td></td>\n",
       "    \n",
       "    \n",
       "</tr>\n",
       "<tr class=\"repr-element general-c3c79330-f9ad-4d5a-8f5a-1e8b29e05b59 \">\n",
       "    <td class=\"repr-section-toggle-col\"></td>\n",
       "    <td>Experimenter</td>\n",
       "    \n",
       "    <td>Unknown</td>\n",
       "    \n",
       "</tr>\n",
       "    \n",
       "\n",
       "\n",
       "\n",
       "\n",
       "\n",
       "\n",
       "\n",
       "<tr class=\"repr-section-header acquisition-c4a78d8c-d267-4bc9-97a7-4156b2ca9022\" \n",
       "    title=\"Hide section\"  onclick=\"toggleVisibility('acquisition-c4a78d8c-d267-4bc9-97a7-4156b2ca9022')\">\n",
       "    <th class=\"repr-section-toggle-col\">\n",
       "        <button>\n",
       "            \n",
       "            <span class=\"collapse-uncollapse-caret\"></span>\n",
       "        </button>\n",
       "    </th>\n",
       "    <th colspan=\"2\">\n",
       "        <strong>Acquisition</strong>\n",
       "    </th>\n",
       "</tr>\n",
       "\n",
       "<tr class=\"repr-element acquisition-c4a78d8c-d267-4bc9-97a7-4156b2ca9022 \">\n",
       "    <td class=\"repr-section-toggle-col\"></td>\n",
       "    <td>Duration</td>\n",
       "    <td>00:10:08 (HH:MM:SS)</td>\n",
       "</tr>\n",
       "\n",
       "\n",
       "\n",
       "\n",
       "\n",
       "\n",
       "\n",
       "\n",
       "<tr class=\"repr-element acquisition-c4a78d8c-d267-4bc9-97a7-4156b2ca9022 \">\n",
       "    <td class=\"repr-section-toggle-col\"></td>\n",
       "    <td>Sampling frequency</td>\n",
       "    <td>128.00 Hz</td>\n",
       "</tr>\n",
       "\n",
       "\n",
       "<tr class=\"repr-element acquisition-c4a78d8c-d267-4bc9-97a7-4156b2ca9022 \">\n",
       "    <td class=\"repr-section-toggle-col\"></td>\n",
       "    <td>Time points</td>\n",
       "    <td>77,824</td>\n",
       "</tr>\n",
       "\n",
       "\n",
       "    \n",
       "\n",
       "\n",
       "\n",
       "\n",
       "\n",
       "\n",
       "\n",
       "<tr class=\"repr-section-header channels-3e994a0a-5a75-45ad-b493-aea980dd72c0\"  title=\"Hide section\" \n",
       "    onclick=\"toggleVisibility('channels-3e994a0a-5a75-45ad-b493-aea980dd72c0')\">\n",
       "    <th class=\"repr-section-toggle-col\">\n",
       "        <button>\n",
       "            \n",
       "            <span class=\"collapse-uncollapse-caret\"></span>\n",
       "        </button>\n",
       "    </th>\n",
       "    <th colspan=\"2\">\n",
       "        <strong>Channels</strong>\n",
       "    </th>\n",
       "</tr>\n",
       "\n",
       "\n",
       "<tr class=\"repr-element channels-3e994a0a-5a75-45ad-b493-aea980dd72c0 \">\n",
       "    <td class=\"repr-section-toggle-col\"></td>\n",
       "    <td>EEG</td>\n",
       "    <td>\n",
       "        <button class=\"channel-names-btn\" onclick=\"alert('Good EEG:\\n\\nFp1, AF7, AF3, F1, F3, F5, F7, FT7, FC5, FC3, FC1, C1, C3, C5, T7, TP7, CP5, CP3, CP1, P1, P3, P5, P7, P9, PO7, PO3, O1, Iz, Oz, POz, Pz, CPz, Fpz, Fp2, AF8, AF4, AFz, Fz, F2, F4, F6, F8, FT8, FC6, FC4, FC2, FCz, Cz, C2, C4, C6, T8, TP8, CP6, CP4, CP2, P2, P4, P6, P8, P10, PO8, PO4, O2')\" title=\"(Click to open in popup)&#13;&#13;Fp1, AF7, AF3, F1, F3, F5, F7, FT7, FC5, FC3, FC1, C1, C3, C5, T7, TP7, CP5, CP3, CP1, P1, P3, P5, P7, P9, PO7, PO3, O1, Iz, Oz, POz, Pz, CPz, Fpz, Fp2, AF8, AF4, AFz, Fz, F2, F4, F6, F8, FT8, FC6, FC4, FC2, FCz, Cz, C2, C4, C6, T8, TP8, CP6, CP4, CP2, P2, P4, P6, P8, P10, PO8, PO4, O2\">\n",
       "            64\n",
       "        </button>\n",
       "\n",
       "        \n",
       "    </td>\n",
       "</tr>\n",
       "\n",
       "\n",
       "<tr class=\"repr-element channels-3e994a0a-5a75-45ad-b493-aea980dd72c0 \">\n",
       "    <td class=\"repr-section-toggle-col\"></td>\n",
       "    <td>Head & sensor digitization</td>\n",
       "    \n",
       "    <td>67 points</td>\n",
       "    \n",
       "</tr>\n",
       "    \n",
       "\n",
       "\n",
       "\n",
       "\n",
       "\n",
       "\n",
       "\n",
       "<tr class=\"repr-section-header filters-ddaab08c-eff1-4a08-8fce-75934d6c7903\"  title=\"Hide section\" \n",
       "    onclick=\"toggleVisibility('filters-ddaab08c-eff1-4a08-8fce-75934d6c7903')\">\n",
       "    <th class=\"repr-section-toggle-col\">\n",
       "        <button>\n",
       "            \n",
       "            <span class=\"collapse-uncollapse-caret\"></span>\n",
       "        </button>\n",
       "    </th>\n",
       "    <th colspan=\"2\">\n",
       "        <strong>Filters</strong>\n",
       "    </th>\n",
       "</tr>\n",
       "\n",
       "<tr class=\"repr-element filters-ddaab08c-eff1-4a08-8fce-75934d6c7903 \">\n",
       "    <td class=\"repr-section-toggle-col\"></td>\n",
       "    <td>Highpass</td>\n",
       "    <td>1.00 Hz</td>\n",
       "</tr>\n",
       "\n",
       "\n",
       "<tr class=\"repr-element filters-ddaab08c-eff1-4a08-8fce-75934d6c7903 \">\n",
       "    <td class=\"repr-section-toggle-col\"></td>\n",
       "    <td>Lowpass</td>\n",
       "    <td>40.00 Hz</td>\n",
       "</tr>\n",
       "\n",
       "\n",
       "</table>"
      ],
      "text/plain": [
       "<RawEDF | sub-072_task-med2_eeg.bdf, 64 x 77824 (608.0 s), ~38.1 MB, data loaded>"
      ]
     },
     "execution_count": 89,
     "metadata": {},
     "output_type": "execute_result"
    }
   ],
   "source": [
    "ica.exclude = [4] # select components to exclude\n",
    "ICA_cleaned_data_med = preprocessed_data_med.copy()\n",
    "ica.apply(ICA_cleaned_data_med)"
   ]
  },
  {
   "cell_type": "code",
   "execution_count": 90,
   "metadata": {},
   "outputs": [
    {
     "name": "stdout",
     "output_type": "stream",
     "text": [
      "Fitting ICA to data using 64 channels (please be patient, this may take a while)\n",
      "    Rejecting  epoch based on EEG : ['T8']\n",
      "Artifact detected in [10496, 10752]\n",
      "    Rejecting  epoch based on EEG : ['F7', 'F8', 'FT8', 'FC4', 'C4', 'C6', 'T8', 'TP8', 'CP6']\n",
      "Artifact detected in [20224, 20480]\n",
      "    Rejecting  epoch based on EEG : ['Iz']\n",
      "Artifact detected in [22016, 22272]\n",
      "    Rejecting  epoch based on EEG : ['AF7', 'F5', 'F7']\n",
      "Artifact detected in [22528, 22784]\n",
      "    Rejecting  epoch based on EEG : ['FT8', 'FC4', 'C4', 'C6', 'T8', 'TP8', 'CP6']\n",
      "Artifact detected in [22784, 23040]\n",
      "    Rejecting  epoch based on EEG : ['F8']\n",
      "Artifact detected in [24064, 24320]\n",
      "    Rejecting  epoch based on EEG : ['Iz', 'F8', 'TP8', 'P8']\n",
      "Artifact detected in [24320, 24576]\n",
      "    Rejecting  epoch based on EEG : ['Iz', 'P8']\n",
      "Artifact detected in [24576, 24832]\n",
      "    Rejecting  epoch based on EEG : ['TP8', 'P8']\n",
      "Artifact detected in [24832, 25088]\n",
      "    Rejecting  epoch based on EEG : ['Iz', 'TP8']\n",
      "Artifact detected in [25088, 25344]\n",
      "    Rejecting  epoch based on EEG : ['F8']\n",
      "Artifact detected in [30976, 31232]\n",
      "    Rejecting  epoch based on EEG : ['F8']\n",
      "Artifact detected in [31232, 31488]\n",
      "    Rejecting  epoch based on EEG : ['F8', 'FC4', 'T8']\n",
      "Artifact detected in [31488, 31744]\n",
      "    Rejecting  epoch based on EEG : ['F5', 'F7', 'F8', 'FT8', 'FC6', 'FC4', 'C4', 'C6', 'T8', 'TP8', 'CP6', 'P6']\n",
      "Artifact detected in [40192, 40448]\n",
      "    Rejecting  epoch based on EEG : ['F8', 'FC4']\n",
      "Artifact detected in [40960, 41216]\n",
      "    Rejecting  epoch based on EEG : ['Iz']\n",
      "Artifact detected in [41472, 41728]\n",
      "    Rejecting  epoch based on EEG : ['F8', 'T8', 'TP8']\n",
      "Artifact detected in [41984, 42240]\n",
      "    Rejecting  epoch based on EEG : ['F5', 'Iz', 'F8', 'FT8', 'FC6', 'FC4', 'C4', 'C6', 'T8', 'TP8', 'CP6']\n",
      "Artifact detected in [56064, 56320]\n",
      "    Rejecting  epoch based on EEG : ['F5', 'F7']\n",
      "Artifact detected in [62720, 62976]\n",
      "    Rejecting  epoch based on EEG : ['AF7', 'F5', 'F7', 'FT7', 'FC5', 'F4', 'F6', 'F8', 'FT8', 'FC4', 'C4', 'T8', 'TP8', 'CP6']\n",
      "Artifact detected in [62976, 63232]\n",
      "    Rejecting  epoch based on EEG : ['F5', 'F7', 'FT7', 'FC3', 'T7', 'FT8', 'T8', 'CP6']\n",
      "Artifact detected in [63232, 63488]\n",
      "    Rejecting  epoch based on EEG : ['Iz']\n",
      "Artifact detected in [63488, 63744]\n",
      "    Rejecting  epoch based on EEG : ['F5', 'F7', 'FT8', 'C6', 'T8', 'TP8', 'CP6']\n",
      "Artifact detected in [70144, 70400]\n",
      "Selecting by number: 20 components\n",
      "Computing Infomax ICA\n",
      "Fitting ICA took 6.1s.\n",
      "Creating RawArray with float64 data, n_channels=20, n_times=77696\n",
      "    Range : 0 ... 77695 =      0.000 ...   606.992 secs\n",
      "Ready.\n"
     ]
    },
    {
     "data": {
      "text/html": [
       "<table class=\"table table-hover table-striped table-sm table-responsive small\">\n",
       "    <tr>\n",
       "        <th>Method</th>\n",
       "        <td>infomax</td>\n",
       "    </tr>\n",
       "    <tr>\n",
       "        <th>Fit parameters</th>\n",
       "        <td>extended=False<br />max_iter=500<br /></td>\n",
       "    </tr>\n",
       "    <tr>\n",
       "        <th>Fit</th>\n",
       "        <td>500 iterations on raw data (71680 samples)</td>\n",
       "    </tr>\n",
       "    \n",
       "    <tr>\n",
       "        <th>ICA components</th>\n",
       "        <td>20</td>\n",
       "    </tr>\n",
       "    <tr>\n",
       "        <th>Available PCA components</th>\n",
       "        <td>64</td>\n",
       "    </tr>\n",
       "    <tr>\n",
       "        <th>Channel types</th>\n",
       "        <td>eeg</td>\n",
       "    </tr>\n",
       "    <tr>\n",
       "        <th>ICA components marked for exclusion</th>\n",
       "        <td>&mdash;</td>\n",
       "    </tr>\n",
       "    \n",
       "</table>"
      ],
      "text/plain": [
       "<ICA | raw data decomposition, method: infomax (fit in 500 iterations on 71680 samples), 20 ICA components (64 PCA components available), channel types: eeg, no sources marked for exclusion>"
      ]
     },
     "execution_count": 90,
     "metadata": {},
     "output_type": "execute_result"
    }
   ],
   "source": [
    "run_ica('infomax', preprocessed_data_mw)"
   ]
  },
  {
   "cell_type": "code",
   "execution_count": 91,
   "metadata": {},
   "outputs": [
    {
     "name": "stdout",
     "output_type": "stream",
     "text": [
      "Applying ICA to Raw instance\n"
     ]
    },
    {
     "name": "stdout",
     "output_type": "stream",
     "text": [
      "    Transforming to ICA space (20 components)\n",
      "    Zeroing out 0 ICA components\n",
      "    Projecting back using 64 PCA components\n"
     ]
    },
    {
     "data": {
      "text/html": [
       "<script type=\"text/javascript\">\n",
       "    const toggleVisibility = (className) => {\n",
       "\n",
       "  const elements = document.querySelectorAll(`.${className}`)\n",
       "\n",
       "  elements.forEach(element => {\n",
       "    if (element.classList.contains('repr-section-header')) {\n",
       "      // Don't collapse the section header row.\n",
       "       return\n",
       "    }\n",
       "    if (element.classList.contains('repr-element-collapsed')) {\n",
       "      // Force a reflow to ensure the display change takes effect before removing the class\n",
       "      element.classList.remove('repr-element-collapsed')\n",
       "      element.offsetHeight // This forces the browser to recalculate layout\n",
       "      element.classList.remove('repr-element-faded')\n",
       "    } else {\n",
       "      // Start transition to hide the element\n",
       "      element.classList.add('repr-element-faded')\n",
       "      element.addEventListener('transitionend', handler = (e) => {\n",
       "        if (e.propertyName === 'opacity' && getComputedStyle(element).opacity === '0.2') {\n",
       "          element.classList.add('repr-element-collapsed')\n",
       "          element.removeEventListener('transitionend', handler)\n",
       "        }\n",
       "      });\n",
       "    }\n",
       "  });\n",
       "\n",
       "  // Take care of button (adjust caret)\n",
       "  const button = document.querySelectorAll(`.repr-section-header.${className} > th.repr-section-toggle-col > button`)[0]\n",
       "  button.classList.toggle('collapsed')\n",
       "\n",
       "  // Take care of the tooltip of the section header row\n",
       "  const sectionHeaderRow = document.querySelectorAll(`tr.repr-section-header.${className}`)[0]\n",
       "  sectionHeaderRow.classList.toggle('collapsed')\n",
       "  sectionHeaderRow.title = sectionHeaderRow.title === 'Hide section' ? 'Show section' : 'Hide section'\n",
       "}\n",
       "</script>\n",
       "\n",
       "<style type=\"text/css\">\n",
       "    table.repr.table.table-hover.table-striped.table-sm.table-responsive.small {\n",
       "  /* Don't make rows wider than they need to be. */\n",
       "  display: inline;\n",
       "}\n",
       "\n",
       "table > tbody > tr.repr-element > td {\n",
       "  /* Apply a tighter layout to the table cells. */\n",
       "  padding-top: 0.1rem;\n",
       "  padding-bottom: 0.1rem;\n",
       "  padding-right: 1rem;\n",
       "}\n",
       "\n",
       "table > tbody > tr > td.repr-section-toggle-col {\n",
       "  /* Remove background and border of the first cell in every row\n",
       "     (this row is only used for the collapse / uncollapse caret)\n",
       "\n",
       "     TODO: Need to find a good solution for VS Code that works in both\n",
       "           light and dark mode. */\n",
       "  border-color: transparent;\n",
       "  --bs-table-accent-bg: transparent;\n",
       "}\n",
       "\n",
       "tr.repr-section-header {\n",
       "  /* Remove stripes from section header rows */\n",
       "  background-color: transparent;\n",
       "  border-color: transparent;\n",
       "  --bs-table-striped-bg: transparent;\n",
       "  cursor: pointer;\n",
       "}\n",
       "\n",
       "tr.repr-section-header > th {\n",
       "  text-align: left !important;\n",
       "  vertical-align: middle;\n",
       "}\n",
       "\n",
       ".repr-element, tr.repr-element > td {\n",
       "  opacity: 1;\n",
       "  text-align: left !important;\n",
       "}\n",
       "\n",
       ".repr-element-faded {\n",
       "  transition: 0.3s ease;\n",
       "  opacity: 0.2;\n",
       "}\n",
       "\n",
       ".repr-element-collapsed {\n",
       "  display: none;\n",
       "}\n",
       "\n",
       "/* Collapse / uncollapse button and the caret it contains. */\n",
       ".repr-section-toggle-col button {\n",
       "  cursor: pointer;\n",
       "  width: 1rem;\n",
       "  background-color: transparent;\n",
       "  border-color: transparent;\n",
       "}\n",
       "\n",
       "span.collapse-uncollapse-caret {\n",
       "  width: 1rem;\n",
       "  height: 1rem;\n",
       "  display: block;\n",
       "  background-repeat: no-repeat;\n",
       "  background-position: left;\n",
       "  background-size: contain;\n",
       "}\n",
       "\n",
       "/* The collapse / uncollapse carets were copied from the free Font Awesome collection and adjusted. */\n",
       "\n",
       "/* Default to black carets for light mode */\n",
       ".repr-section-toggle-col > button.collapsed > span.collapse-uncollapse-caret {\n",
       "  background-image: url('data:image/svg+xml;charset=utf8,<svg xmlns=\"http://www.w3.org/2000/svg\" viewBox=\"0 0 256 512\"><!--!Font Awesome Free 6.5.2 by @fontawesome - https://fontawesome.com License - https://fontawesome.com/license/free Copyright 2024 Fonticons, Inc.--><path fill=\"black\" d=\"M246.6 278.6c12.5-12.5 12.5-32.8 0-45.3l-128-128c-9.2-9.2-22.9-11.9-34.9-6.9s-19.8 16.6-19.8 29.6l0 256c0 12.9 7.8 24.6 19.8 29.6s25.7 2.2 34.9-6.9l128-128z\"/></svg>');\n",
       "}\n",
       "\n",
       ".repr-section-toggle-col\n",
       "  > button:not(.collapsed)\n",
       "  > span.collapse-uncollapse-caret {\n",
       "  background-image: url('data:image/svg+xml;charset=utf8,<svg xmlns=\"http://www.w3.org/2000/svg\" viewBox=\"0 0 320 512\"><!--!Font Awesome Free 6.5.2 by @fontawesome - https://fontawesome.com License - https://fontawesome.com/license/free Copyright 2024 Fonticons, Inc.--><path fill=\"black\" d=\"M137.4 374.6c12.5 12.5 32.8 12.5 45.3 0l128-128c9.2-9.2 11.9-22.9 6.9-34.9s-16.6-19.8-29.6-19.8L32 192c-12.9 0-24.6 7.8-29.6 19.8s-2.2 25.7 6.9 34.9l128 128z\"/></svg>');\n",
       "}\n",
       "\n",
       "/* Use white carets for dark mode */\n",
       "@media (prefers-color-scheme: dark) {\n",
       "  .repr-section-toggle-col > button.collapsed > span.collapse-uncollapse-caret {\n",
       "    background-image: url('data:image/svg+xml;charset=utf8,<svg xmlns=\"http://www.w3.org/2000/svg\" viewBox=\"0 0 256 512\"><!--!Font Awesome Free 6.5.2 by @fontawesome - https://fontawesome.com License - https://fontawesome.com/license/free Copyright 2024 Fonticons, Inc.--><path fill=\"white\" d=\"M246.6 278.6c12.5-12.5 12.5-32.8 0-45.3l-128-128c-9.2-9.2-22.9-11.9-34.9-6.9s-19.8 16.6-19.8 29.6l0 256c0 12.9 7.8 24.6 19.8 29.6s25.7 2.2 34.9-6.9l128-128z\"/></svg>');\n",
       "  }\n",
       "\n",
       "  .repr-section-toggle-col\n",
       "    > button:not(.collapsed)\n",
       "    > span.collapse-uncollapse-caret {\n",
       "    background-image: url('data:image/svg+xml;charset=utf8,<svg xmlns=\"http://www.w3.org/2000/svg\" viewBox=\"0 0 320 512\"><!--!Font Awesome Free 6.5.2 by @fontawesome - https://fontawesome.com License - https://fontawesome.com/license/free Copyright 2024 Fonticons, Inc.--><path fill=\"white\" d=\"M137.4 374.6c12.5 12.5 32.8 12.5 45.3 0l128-128c9.2-9.2 11.9-22.9 6.9-34.9s-16.6-19.8-29.6-19.8L32 192c-12.9 0-24.6 7.8-29.6 19.8s-2.2 25.7 6.9 34.9l128 128z\"/></svg>');\n",
       "  }\n",
       "}\n",
       "\n",
       ".channel-names-btn {\n",
       "  padding: 0;\n",
       "  border: none;\n",
       "  background: none;\n",
       "  text-decoration: underline;\n",
       "  text-decoration-style: dashed;\n",
       "  cursor: pointer;\n",
       "  color: #0d6efd;\n",
       "}\n",
       "\n",
       ".channel-names-btn:hover {\n",
       "  color: #0a58ca;\n",
       "}\n",
       "</style>\n",
       "\n",
       "\n",
       "\n",
       "<table class=\"repr table table-hover table-striped table-sm table-responsive small\">\n",
       "    \n",
       "\n",
       "\n",
       "\n",
       "\n",
       "\n",
       "\n",
       "\n",
       "<tr class=\"repr-section-header general-234fa188-b8fb-4b66-86cc-921b13361ddb\"  title=\"Hide section\" \n",
       "    onclick=\"toggleVisibility('general-234fa188-b8fb-4b66-86cc-921b13361ddb')\">\n",
       "    <th class=\"repr-section-toggle-col\">\n",
       "        <button>\n",
       "            \n",
       "            <span class=\"collapse-uncollapse-caret\"></span>\n",
       "        </button>\n",
       "    </th>\n",
       "    <th colspan=\"2\">\n",
       "        <strong>General</strong>\n",
       "    </th>\n",
       "</tr>\n",
       "\n",
       "<tr class=\"repr-element general-234fa188-b8fb-4b66-86cc-921b13361ddb \">\n",
       "    <td class=\"repr-section-toggle-col\"></td>\n",
       "    <td>Filename(s)</td>\n",
       "    <td>\n",
       "        \n",
       "        sub-072_task-think2_eeg.bdf\n",
       "        \n",
       "        \n",
       "    </td>\n",
       "</tr>\n",
       "\n",
       "<tr class=\"repr-element general-234fa188-b8fb-4b66-86cc-921b13361ddb \">\n",
       "    <td class=\"repr-section-toggle-col\"></td>\n",
       "    <td>MNE object type</td>\n",
       "    <td>RawEDF</td>\n",
       "</tr>\n",
       "<tr class=\"repr-element general-234fa188-b8fb-4b66-86cc-921b13361ddb \">\n",
       "    <td class=\"repr-section-toggle-col\"></td>\n",
       "    <td>Measurement date</td>\n",
       "    \n",
       "    <td>2011-02-19 at 17:04:14 UTC</td>\n",
       "    \n",
       "</tr>\n",
       "<tr class=\"repr-element general-234fa188-b8fb-4b66-86cc-921b13361ddb \">\n",
       "    <td class=\"repr-section-toggle-col\"></td>\n",
       "    <td>Participant</td>\n",
       "    \n",
       "    \n",
       "    <td></td>\n",
       "    \n",
       "    \n",
       "</tr>\n",
       "<tr class=\"repr-element general-234fa188-b8fb-4b66-86cc-921b13361ddb \">\n",
       "    <td class=\"repr-section-toggle-col\"></td>\n",
       "    <td>Experimenter</td>\n",
       "    \n",
       "    <td>Unknown</td>\n",
       "    \n",
       "</tr>\n",
       "    \n",
       "\n",
       "\n",
       "\n",
       "\n",
       "\n",
       "\n",
       "\n",
       "<tr class=\"repr-section-header acquisition-0f69008e-7ff0-4559-aa10-ad21fb4f872f\" \n",
       "    title=\"Hide section\"  onclick=\"toggleVisibility('acquisition-0f69008e-7ff0-4559-aa10-ad21fb4f872f')\">\n",
       "    <th class=\"repr-section-toggle-col\">\n",
       "        <button>\n",
       "            \n",
       "            <span class=\"collapse-uncollapse-caret\"></span>\n",
       "        </button>\n",
       "    </th>\n",
       "    <th colspan=\"2\">\n",
       "        <strong>Acquisition</strong>\n",
       "    </th>\n",
       "</tr>\n",
       "\n",
       "<tr class=\"repr-element acquisition-0f69008e-7ff0-4559-aa10-ad21fb4f872f \">\n",
       "    <td class=\"repr-section-toggle-col\"></td>\n",
       "    <td>Duration</td>\n",
       "    <td>00:10:07 (HH:MM:SS)</td>\n",
       "</tr>\n",
       "\n",
       "\n",
       "\n",
       "\n",
       "\n",
       "\n",
       "\n",
       "\n",
       "<tr class=\"repr-element acquisition-0f69008e-7ff0-4559-aa10-ad21fb4f872f \">\n",
       "    <td class=\"repr-section-toggle-col\"></td>\n",
       "    <td>Sampling frequency</td>\n",
       "    <td>128.00 Hz</td>\n",
       "</tr>\n",
       "\n",
       "\n",
       "<tr class=\"repr-element acquisition-0f69008e-7ff0-4559-aa10-ad21fb4f872f \">\n",
       "    <td class=\"repr-section-toggle-col\"></td>\n",
       "    <td>Time points</td>\n",
       "    <td>77,696</td>\n",
       "</tr>\n",
       "\n",
       "\n",
       "    \n",
       "\n",
       "\n",
       "\n",
       "\n",
       "\n",
       "\n",
       "\n",
       "<tr class=\"repr-section-header channels-bf8e16b8-64be-441e-8fc3-672393ce27a1\"  title=\"Hide section\" \n",
       "    onclick=\"toggleVisibility('channels-bf8e16b8-64be-441e-8fc3-672393ce27a1')\">\n",
       "    <th class=\"repr-section-toggle-col\">\n",
       "        <button>\n",
       "            \n",
       "            <span class=\"collapse-uncollapse-caret\"></span>\n",
       "        </button>\n",
       "    </th>\n",
       "    <th colspan=\"2\">\n",
       "        <strong>Channels</strong>\n",
       "    </th>\n",
       "</tr>\n",
       "\n",
       "\n",
       "<tr class=\"repr-element channels-bf8e16b8-64be-441e-8fc3-672393ce27a1 \">\n",
       "    <td class=\"repr-section-toggle-col\"></td>\n",
       "    <td>EEG</td>\n",
       "    <td>\n",
       "        <button class=\"channel-names-btn\" onclick=\"alert('Good EEG:\\n\\nFp1, AF7, AF3, F1, F3, F5, F7, FT7, FC5, FC3, FC1, C1, C3, C5, T7, TP7, CP5, CP3, CP1, P1, P3, P5, P7, P9, PO7, PO3, O1, Iz, Oz, POz, Pz, CPz, Fpz, Fp2, AF8, AF4, AFz, Fz, F2, F4, F6, F8, FT8, FC6, FC4, FC2, FCz, Cz, C2, C4, C6, T8, TP8, CP6, CP4, CP2, P2, P4, P6, P8, P10, PO8, PO4, O2')\" title=\"(Click to open in popup)&#13;&#13;Fp1, AF7, AF3, F1, F3, F5, F7, FT7, FC5, FC3, FC1, C1, C3, C5, T7, TP7, CP5, CP3, CP1, P1, P3, P5, P7, P9, PO7, PO3, O1, Iz, Oz, POz, Pz, CPz, Fpz, Fp2, AF8, AF4, AFz, Fz, F2, F4, F6, F8, FT8, FC6, FC4, FC2, FCz, Cz, C2, C4, C6, T8, TP8, CP6, CP4, CP2, P2, P4, P6, P8, P10, PO8, PO4, O2\">\n",
       "            64\n",
       "        </button>\n",
       "\n",
       "        \n",
       "    </td>\n",
       "</tr>\n",
       "\n",
       "\n",
       "<tr class=\"repr-element channels-bf8e16b8-64be-441e-8fc3-672393ce27a1 \">\n",
       "    <td class=\"repr-section-toggle-col\"></td>\n",
       "    <td>Head & sensor digitization</td>\n",
       "    \n",
       "    <td>67 points</td>\n",
       "    \n",
       "</tr>\n",
       "    \n",
       "\n",
       "\n",
       "\n",
       "\n",
       "\n",
       "\n",
       "\n",
       "<tr class=\"repr-section-header filters-ced8a102-0b35-4ad6-b194-b137a5e5aa37\"  title=\"Hide section\" \n",
       "    onclick=\"toggleVisibility('filters-ced8a102-0b35-4ad6-b194-b137a5e5aa37')\">\n",
       "    <th class=\"repr-section-toggle-col\">\n",
       "        <button>\n",
       "            \n",
       "            <span class=\"collapse-uncollapse-caret\"></span>\n",
       "        </button>\n",
       "    </th>\n",
       "    <th colspan=\"2\">\n",
       "        <strong>Filters</strong>\n",
       "    </th>\n",
       "</tr>\n",
       "\n",
       "<tr class=\"repr-element filters-ced8a102-0b35-4ad6-b194-b137a5e5aa37 \">\n",
       "    <td class=\"repr-section-toggle-col\"></td>\n",
       "    <td>Highpass</td>\n",
       "    <td>1.00 Hz</td>\n",
       "</tr>\n",
       "\n",
       "\n",
       "<tr class=\"repr-element filters-ced8a102-0b35-4ad6-b194-b137a5e5aa37 \">\n",
       "    <td class=\"repr-section-toggle-col\"></td>\n",
       "    <td>Lowpass</td>\n",
       "    <td>40.00 Hz</td>\n",
       "</tr>\n",
       "\n",
       "\n",
       "</table>"
      ],
      "text/plain": [
       "<RawEDF | sub-072_task-think2_eeg.bdf, 64 x 77696 (607.0 s), ~38.0 MB, data loaded>"
      ]
     },
     "execution_count": 91,
     "metadata": {},
     "output_type": "execute_result"
    }
   ],
   "source": [
    "ica.exclude = [] # select components to exclude\n",
    "ICA_cleaned_data_mw = preprocessed_data_mw.copy()\n",
    "ica.apply(ICA_cleaned_data_mw)"
   ]
  },
  {
   "cell_type": "markdown",
   "metadata": {},
   "source": [
    "**Creating epochs of the processed data MEDITATION**"
   ]
  },
  {
   "cell_type": "code",
   "execution_count": 92,
   "metadata": {},
   "outputs": [
    {
     "name": "stdout",
     "output_type": "stream",
     "text": [
      "Not setting metadata\n",
      "122 matching events found\n",
      "No baseline correction applied\n",
      "0 projection items activated\n",
      "Using data from preloaded Raw for 122 events and 641 original time points ...\n",
      "1 bad epochs dropped\n",
      "\n",
      "##### Autorejecting bad epochs #####\n",
      "Running autoreject on ch_type=eeg\n"
     ]
    },
    {
     "name": "stderr",
     "output_type": "stream",
     "text": [
      "100%|██████████| Creating augmented epochs : 64/64 [00:01<00:00,   53.10it/s]\n",
      "100%|██████████| Computing thresholds ... : 64/64 [00:32<00:00,    1.97it/s]\n",
      "\n",
      "\u001b[A\n",
      "\u001b[A\n",
      "\u001b[A\n",
      "\u001b[A\n",
      "\u001b[A\n",
      "\u001b[A\n",
      "\u001b[A\n",
      "\u001b[A\n",
      "\u001b[A\n",
      "\u001b[A\n",
      "\u001b[A\n",
      "\u001b[A\n",
      "\u001b[A\n",
      "\u001b[A\n",
      "\u001b[A\n",
      "\u001b[A\n",
      "\u001b[A\n",
      "\u001b[A\n",
      "\u001b[A\n",
      "\u001b[A\n",
      "\u001b[A\n",
      "\u001b[A\n",
      "\u001b[A\n",
      "\u001b[A\n",
      "\u001b[A\n",
      "\u001b[A\n",
      "\u001b[A\n",
      "\u001b[A\n",
      "\u001b[A\n",
      "\u001b[A\n",
      "\u001b[A\n",
      "\u001b[A\n",
      "\u001b[A\n",
      "\u001b[A\n",
      "\u001b[A\n",
      "\u001b[A\n",
      "\u001b[A\n",
      "\u001b[A\n",
      "\u001b[A\n",
      "\u001b[A\n",
      "\u001b[A\n",
      "\u001b[A\n",
      "\u001b[A\n",
      "\u001b[A\n",
      "\u001b[A\n",
      "\u001b[A\n",
      "\u001b[A\n",
      "\u001b[A\n",
      "\u001b[A\n",
      "\u001b[A\n",
      "\u001b[A\n",
      "\u001b[A\n",
      "\u001b[A\n",
      "\u001b[A\n",
      "\u001b[A\n",
      "\u001b[A\n",
      "\u001b[A\n",
      "\u001b[A\n",
      "\u001b[A\n",
      "\u001b[A\n",
      "\u001b[A\n",
      "\u001b[A\n",
      "\u001b[A\n",
      "100%|██████████| Repairing epochs : 121/121 [00:01<00:00,   70.65it/s]\n",
      "\n",
      "\u001b[A\n",
      "\u001b[A\n",
      "\u001b[A\n",
      "\u001b[A\n",
      "\u001b[A\n",
      "\u001b[A\n",
      "\u001b[A\n",
      "\u001b[A\n",
      "\u001b[A\n",
      "\u001b[A\n",
      "\u001b[A\n",
      "\u001b[A\n",
      "\u001b[A\n",
      "\u001b[A\n",
      "\u001b[A\n",
      "\u001b[A\n",
      "\u001b[A\n",
      "\u001b[A\n",
      "\u001b[A\n",
      "\u001b[A\n",
      "\u001b[A\n",
      "\u001b[A\n",
      "\u001b[A\n",
      "\u001b[A\n",
      "\u001b[A\n",
      "\u001b[A\n",
      "\u001b[A\n",
      "\u001b[A\n",
      "\u001b[A\n",
      "\u001b[A\n",
      "\u001b[A\n",
      "\u001b[A\n",
      "\u001b[A\n",
      "\u001b[A\n",
      "\u001b[A\n",
      "\u001b[A\n",
      "\u001b[A\n",
      "\u001b[A\n",
      "\u001b[A\n",
      "\u001b[A\n",
      "\u001b[A\n",
      "\u001b[A\n",
      "\u001b[A\n",
      "\u001b[A\n",
      "\u001b[A\n",
      "\u001b[A\n",
      "\u001b[A\n",
      "\u001b[A\n",
      "\u001b[A\n",
      "\u001b[A\n",
      "\u001b[A\n",
      "\u001b[A\n",
      "\u001b[A\n",
      "\u001b[A\n",
      "\u001b[A\n",
      "\u001b[A\n",
      "\u001b[A\n",
      "\u001b[A\n",
      "\u001b[A\n",
      "\u001b[A\n",
      "\u001b[A\n",
      "\u001b[A\n",
      "\u001b[A\n",
      "\u001b[A\n",
      "\u001b[A\n",
      "\u001b[A\n",
      "\u001b[A\n",
      "\u001b[A\n",
      "\u001b[A\n",
      "\u001b[A\n",
      "\u001b[A\n",
      "\u001b[A\n",
      "\u001b[A\n",
      "\u001b[A\n",
      "\u001b[A\n",
      "\u001b[A\n",
      "\u001b[A\n",
      "\u001b[A\n",
      "\u001b[A\n",
      "\u001b[A\n",
      "\u001b[A\n",
      "\u001b[A\n",
      "\u001b[A\n",
      "\u001b[A\n",
      "\u001b[A\n",
      "\u001b[A\n",
      "\u001b[A\n",
      "\u001b[A\n",
      "\u001b[A\n",
      "\u001b[A\n",
      "\u001b[A\n",
      "\u001b[A\n",
      "\u001b[A\n",
      "\u001b[A\n",
      "\u001b[A\n",
      "\u001b[A\n",
      "\u001b[A\n",
      "\u001b[A\n",
      "\u001b[A\n",
      "\u001b[A\n",
      "\u001b[A\n",
      "\u001b[A\n",
      "\u001b[A\n",
      "\u001b[A\n",
      "\u001b[A\n",
      "\u001b[A\n",
      "\u001b[A\n",
      "\u001b[A\n",
      "\u001b[A\n",
      "\u001b[A\n",
      "\u001b[A\n",
      "\u001b[A\n",
      "\u001b[A\n",
      "\u001b[A\n",
      "\u001b[A\n",
      "\u001b[A\n",
      "\u001b[A\n",
      "\u001b[A\n",
      "\u001b[A\n",
      "\u001b[A\n",
      "\u001b[A\n",
      "100%|██████████| Repairing epochs : 121/121 [00:02<00:00,   43.54it/s]\n",
      "\n",
      "\n",
      "\u001b[A\u001b[A\n",
      "\n",
      "\u001b[A\u001b[A\n",
      "\n",
      "\u001b[A\u001b[A\n",
      "\n",
      "\u001b[A\u001b[A\n",
      "\n",
      "\u001b[A\u001b[A\n",
      "\n",
      "\u001b[A\u001b[A\n",
      "\n",
      "\u001b[A\u001b[A\n",
      "\n",
      "\u001b[A\u001b[A\n",
      "\n",
      "\u001b[A\u001b[A\n",
      "\n",
      "\u001b[A\u001b[A\n",
      "\n",
      "100%|██████████| Fold : 10/10 [00:03<00:00,    2.84it/s]\n",
      "\n",
      "\u001b[A\n",
      "\u001b[A\n",
      "\u001b[A\n",
      "\u001b[A\n",
      "\u001b[A\n",
      "\u001b[A\n",
      "\u001b[A\n",
      "\u001b[A\n",
      "\u001b[A\n",
      "\u001b[A\n",
      "\u001b[A\n",
      "\u001b[A\n",
      "\u001b[A\n",
      "\u001b[A\n",
      "\u001b[A\n",
      "\u001b[A\n",
      "\u001b[A\n",
      "\u001b[A\n",
      "\u001b[A\n",
      "\u001b[A\n",
      "\u001b[A\n",
      "\u001b[A\n",
      "\u001b[A\n",
      "\u001b[A\n",
      "\u001b[A\n",
      "\u001b[A\n",
      "\u001b[A\n",
      "\u001b[A\n",
      "\u001b[A\n",
      "\u001b[A\n",
      "\u001b[A\n",
      "\u001b[A\n",
      "\u001b[A\n",
      "\u001b[A\n",
      "\u001b[A\n",
      "\u001b[A\n",
      "\u001b[A\n",
      "\u001b[A\n",
      "\u001b[A\n",
      "\u001b[A\n",
      "\u001b[A\n",
      "\u001b[A\n",
      "\u001b[A\n",
      "\u001b[A\n",
      "\u001b[A\n",
      "\u001b[A\n",
      "\u001b[A\n",
      "\u001b[A\n",
      "\u001b[A\n",
      "\u001b[A\n",
      "\u001b[A\n",
      "\u001b[A\n",
      "\u001b[A\n",
      "\u001b[A\n",
      "\u001b[A\n",
      "\u001b[A\n",
      "\u001b[A\n",
      "\u001b[A\n",
      "\u001b[A\n",
      "\u001b[A\n",
      "\u001b[A\n",
      "\u001b[A\n",
      "\u001b[A\n",
      "\u001b[A\n",
      "\u001b[A\n",
      "\u001b[A\n",
      "\u001b[A\n",
      "\u001b[A\n",
      "\u001b[A\n",
      "\u001b[A\n",
      "\u001b[A\n",
      "\u001b[A\n",
      "\u001b[A\n",
      "\u001b[A\n",
      "\u001b[A\n",
      "\u001b[A\n",
      "\u001b[A\n",
      "\u001b[A\n",
      "\u001b[A\n",
      "\u001b[A\n",
      "\u001b[A\n",
      "\u001b[A\n",
      "\u001b[A\n",
      "\u001b[A\n",
      "\u001b[A\n",
      "\u001b[A\n",
      "\u001b[A\n",
      "\u001b[A\n",
      "\u001b[A\n",
      "\u001b[A\n",
      "\u001b[A\n",
      "\u001b[A\n",
      "\u001b[A\n",
      "\u001b[A\n",
      "\u001b[A\n",
      "\u001b[A\n",
      "\u001b[A\n",
      "\u001b[A\n",
      "\u001b[A\n",
      "\u001b[A\n",
      "\u001b[A\n",
      "\u001b[A\n",
      "\u001b[A\n",
      "\u001b[A\n",
      "\u001b[A\n",
      "\u001b[A\n",
      "\u001b[A\n",
      "\u001b[A\n",
      "\u001b[A\n",
      "\u001b[A\n",
      "\u001b[A\n",
      "\u001b[A\n",
      "\u001b[A\n",
      "\u001b[A\n",
      "\u001b[A\n",
      "\u001b[A\n",
      "\u001b[A\n",
      "\u001b[A\n",
      "\u001b[A\n",
      "\u001b[A\n",
      "\u001b[A\n",
      "100%|██████████| Repairing epochs : 121/121 [00:02<00:00,   42.51it/s]\n",
      "\n",
      "\n",
      "\u001b[A\u001b[A\n",
      "\n",
      "\u001b[A\u001b[A\n",
      "\n",
      "\u001b[A\u001b[A\n",
      "\n",
      "\u001b[A\u001b[A\n",
      "\n",
      "\u001b[A\u001b[A\n",
      "\n",
      "\u001b[A\u001b[A\n",
      "\n",
      "\u001b[A\u001b[A\n",
      "\n",
      "\u001b[A\u001b[A\n",
      "\n",
      "\u001b[A\u001b[A\n",
      "\n",
      "\u001b[A\u001b[A\n",
      "\n",
      "100%|██████████| Fold : 10/10 [00:03<00:00,    2.85it/s]\n",
      "\n",
      "\u001b[A\n",
      "\u001b[A\n",
      "\u001b[A\n",
      "\u001b[A\n",
      "\u001b[A\n",
      "\u001b[A\n",
      "\u001b[A\n",
      "\u001b[A\n",
      "\u001b[A\n",
      "\u001b[A\n",
      "\u001b[A\n",
      "\u001b[A\n",
      "\u001b[A\n",
      "\u001b[A\n",
      "\u001b[A\n",
      "\u001b[A\n",
      "\u001b[A\n",
      "\u001b[A\n",
      "\u001b[A\n",
      "\u001b[A\n",
      "\u001b[A\n",
      "\u001b[A\n",
      "\u001b[A\n",
      "\u001b[A\n",
      "\u001b[A\n",
      "\u001b[A\n",
      "\u001b[A\n",
      "\u001b[A\n",
      "\u001b[A\n",
      "\u001b[A\n",
      "\u001b[A\n",
      "\u001b[A\n",
      "\u001b[A\n",
      "\u001b[A\n",
      "\u001b[A\n",
      "\u001b[A\n",
      "\u001b[A\n",
      "\u001b[A\n",
      "\u001b[A\n",
      "\u001b[A\n",
      "\u001b[A\n",
      "\u001b[A\n",
      "\u001b[A\n",
      "\u001b[A\n",
      "\u001b[A\n",
      "\u001b[A\n",
      "\u001b[A\n",
      "\u001b[A\n",
      "\u001b[A\n",
      "\u001b[A\n",
      "\u001b[A\n",
      "\u001b[A\n",
      "\u001b[A\n",
      "\u001b[A\n",
      "\u001b[A\n",
      "\u001b[A\n",
      "\u001b[A\n",
      "\u001b[A\n",
      "\u001b[A\n",
      "\u001b[A\n",
      "\u001b[A\n",
      "\u001b[A\n",
      "\u001b[A\n",
      "\u001b[A\n",
      "\u001b[A\n",
      "\u001b[A\n",
      "\u001b[A\n",
      "\u001b[A\n",
      "\u001b[A\n",
      "\u001b[A\n",
      "\u001b[A\n",
      "\u001b[A\n",
      "\u001b[A\n",
      "\u001b[A\n",
      "\u001b[A\n",
      "\u001b[A\n",
      "\u001b[A\n",
      "\u001b[A\n",
      "\u001b[A\n",
      "\u001b[A\n",
      "\u001b[A\n",
      "\u001b[A\n",
      "\u001b[A\n",
      "\u001b[A\n",
      "\u001b[A\n",
      "\u001b[A\n",
      "\u001b[A\n",
      "\u001b[A\n",
      "\u001b[A\n",
      "\u001b[A\n",
      "\u001b[A\n",
      "\u001b[A\n",
      "\u001b[A\n",
      "\u001b[A\n",
      "\u001b[A\n",
      "\u001b[A\n",
      "\u001b[A\n",
      "\u001b[A\n",
      "\u001b[A\n",
      "\u001b[A\n",
      "\u001b[A\n",
      "\u001b[A\n",
      "\u001b[A\n",
      "\u001b[A\n",
      "\u001b[A\n",
      "\u001b[A\n",
      "\u001b[A\n",
      "\u001b[A\n",
      "\u001b[A\n",
      "\u001b[A\n",
      "\u001b[A\n",
      "\u001b[A\n",
      "\u001b[A\n",
      "\u001b[A\n",
      "\u001b[A\n",
      "\u001b[A\n",
      "\u001b[A\n",
      "\u001b[A\n",
      "\u001b[A\n",
      "\u001b[A\n",
      "\u001b[A\n",
      "100%|██████████| Repairing epochs : 121/121 [00:02<00:00,   43.12it/s]\n",
      "\n",
      "\n",
      "\u001b[A\u001b[A\n",
      "\n",
      "\u001b[A\u001b[A\n",
      "\n",
      "\u001b[A\u001b[A\n",
      "\n",
      "\u001b[A\u001b[A\n",
      "\n",
      "\u001b[A\u001b[A\n",
      "\n",
      "\u001b[A\u001b[A\n",
      "\n",
      "\u001b[A\u001b[A\n",
      "\n",
      "\u001b[A\u001b[A\n",
      "\n",
      "\u001b[A\u001b[A\n",
      "\n",
      "\u001b[A\u001b[A\n",
      "\n",
      "100%|██████████| Fold : 10/10 [00:01<00:00,    5.42it/s]\n",
      "100%|██████████| n_interp : 3/3 [00:19<00:00,    6.58s/it]\n"
     ]
    },
    {
     "name": "stdout",
     "output_type": "stream",
     "text": [
      "\n",
      "\n",
      "\n",
      "\n",
      "Estimated consensus=0.70 and n_interpolate=32\n"
     ]
    },
    {
     "name": "stderr",
     "output_type": "stream",
     "text": [
      "\n",
      "\u001b[A\n",
      "\u001b[A\n",
      "\u001b[A\n",
      "\u001b[A\n",
      "\u001b[A\n",
      "\u001b[A\n",
      "\u001b[A\n",
      "\u001b[A\n",
      "\u001b[A\n",
      "\u001b[A\n",
      "\u001b[A\n",
      "\u001b[A\n",
      "\u001b[A\n",
      "\u001b[A\n",
      "\u001b[A\n",
      "\u001b[A\n",
      "\u001b[A\n",
      "\u001b[A\n",
      "\u001b[A\n",
      "\u001b[A\n",
      "\u001b[A\n",
      "\u001b[A\n",
      "\u001b[A\n",
      "\u001b[A\n",
      "\u001b[A\n",
      "\u001b[A\n",
      "\u001b[A\n",
      "\u001b[A\n",
      "\u001b[A\n",
      "\u001b[A\n",
      "\u001b[A\n",
      "\u001b[A\n",
      "\u001b[A\n",
      "\u001b[A\n",
      "\u001b[A\n",
      "\u001b[A\n",
      "\u001b[A\n",
      "\u001b[A\n",
      "\u001b[A\n",
      "\u001b[A\n",
      "\u001b[A\n",
      "\u001b[A\n",
      "\u001b[A\n",
      "\u001b[A\n",
      "\u001b[A\n",
      "\u001b[A\n",
      "\u001b[A\n",
      "\u001b[A\n",
      "\u001b[A\n",
      "\u001b[A\n",
      "\u001b[A\n",
      "\u001b[A\n",
      "\u001b[A\n",
      "\u001b[A\n",
      "\u001b[A\n",
      "\u001b[A\n",
      "\u001b[A\n",
      "\u001b[A\n",
      "\u001b[A\n",
      "\u001b[A\n",
      "\u001b[A\n",
      "\u001b[A\n",
      "\u001b[A\n",
      "\u001b[A\n",
      "\u001b[A\n",
      "\u001b[A\n",
      "\u001b[A\n",
      "\u001b[A\n",
      "\u001b[A\n",
      "\u001b[A\n",
      "\u001b[A\n",
      "\u001b[A\n",
      "\u001b[A\n",
      "\u001b[A\n",
      "\u001b[A\n",
      "\u001b[A\n",
      "\u001b[A\n",
      "\u001b[A\n",
      "\u001b[A\n",
      "\u001b[A\n",
      "\u001b[A\n",
      "\u001b[A\n",
      "\u001b[A\n",
      "\u001b[A\n",
      "\u001b[A\n",
      "\u001b[A\n",
      "\u001b[A\n",
      "\u001b[A\n",
      "\u001b[A\n",
      "\u001b[A\n",
      "\u001b[A\n",
      "\u001b[A\n",
      "\u001b[A\n",
      "\u001b[A\n",
      "\u001b[A\n",
      "\u001b[A\n",
      "\u001b[A\n",
      "\u001b[A\n",
      "\u001b[A\n",
      "\u001b[A\n",
      "\u001b[A\n",
      "\u001b[A\n",
      "\u001b[A\n",
      "\u001b[A\n",
      "\u001b[A\n",
      "\u001b[A\n",
      "\u001b[A\n",
      "\u001b[A\n",
      "\u001b[A\n",
      "\u001b[A\n",
      "\u001b[A\n",
      "\u001b[A\n",
      "\u001b[A\n",
      "\u001b[A\n",
      "\u001b[A\n",
      "\u001b[A\n",
      "\u001b[A\n",
      "\u001b[A\n",
      "\u001b[A\n",
      "\u001b[A\n",
      "\u001b[A\n",
      "100%|██████████| Repairing epochs : 121/121 [00:02<00:00,   43.39it/s]\n"
     ]
    },
    {
     "name": "stdout",
     "output_type": "stream",
     "text": [
      "Dropped 1 epoch: 69\n",
      "Estimating rejection dictionary for eeg\n"
     ]
    },
    {
     "name": "stderr",
     "output_type": "stream",
     "text": [
      "100%|██████████| interpolating channels : 50/50 [00:00<00:00,  802.81it/s]\n",
      "[Parallel(n_jobs=1)]: Done   1 tasks      | elapsed:    0.1s\n",
      "[Parallel(n_jobs=1)]: Done   1 tasks      | elapsed:    0.1s\n",
      "100%|██████████| Iterating epochs : 120/120 [00:03<00:00,   31.13it/s]\n",
      "[Parallel(n_jobs=1)]: Done   1 tasks      | elapsed:    3.9s\n",
      "[Parallel(n_jobs=1)]: Done   1 tasks      | elapsed:    3.9s\n"
     ]
    },
    {
     "name": "stdout",
     "output_type": "stream",
     "text": [
      "[Done]\n",
      "Setting channel interpolation method to {'eeg': 'spline'}.\n",
      "Interpolating bad channels.\n",
      "    Automatic origin fit: head of radius 95.0 mm\n",
      "Computing interpolation matrix from 62 sensor positions\n",
      "Interpolating 2 sensors\n",
      "0 bad epochs dropped\n"
     ]
    },
    {
     "name": "stderr",
     "output_type": "stream",
     "text": [
      "/tmp/ipykernel_39351/68277501.py:50: UserWarning: This figure includes Axes that are not compatible with tight_layout, so results might be incorrect.\n",
      "  plt.tight_layout()\n"
     ]
    }
   ],
   "source": [
    "# Define the length of each epoch (in seconds)\n",
    "epoch_length = 5  # 5 seconds\n",
    "\n",
    "# Create custom events: start at 0, 5, 10, ... seconds\n",
    "n_samples = ICA_cleaned_data_med.n_times\n",
    "sfreq = ICA_cleaned_data_med.info['sfreq']\n",
    "epochs_samples = np.arange(0, n_samples, epoch_length * sfreq, dtype=int)\n",
    "\n",
    "# Create event array with [sample, 0, event_id] for each epoch\n",
    "event_code = event_id[f\"{subject_group}/med2\"]\n",
    "events = np.column_stack([epochs_samples, np.zeros(len(epochs_samples), dtype=int), event_code * np.ones(len(epochs_samples), dtype=int)])\n",
    "\n",
    "# Create event id for meditation task\n",
    "event_id_med = {f\"{subject_group}/med2\": event_code}\n",
    "\n",
    "# Define the epochs object using the custom events\n",
    "epochs_med = mne.Epochs(ICA_cleaned_data_med, events, event_id=event_id_med, tmin=0, tmax=epoch_length, baseline=None, detrend=1, preload=True)\n",
    "\n",
    "print(\"\\n##### Autorejecting bad epochs #####\")\n",
    "\n",
    "epochs_original_med = epochs_med.copy()\n",
    "\n",
    "ar = AutoReject() ################################                                    REMEMBER TO CITE\n",
    "epochs_med, reject_log = ar.fit_transform(epochs_med, return_log=True)\n",
    "get_rejection_threshold(epochs_med)  # Get the rejection threshold dictionary\n",
    "\n",
    "rsc = Ransac()\n",
    "epochs_med = rsc.fit_transform(epochs_med)\n",
    "\n",
    "#  Plot the epoch average before and after autorejection and RANSAC\n",
    "evoked_before = epochs_original_med.average()\n",
    "evoked_after = epochs_med.average()\n",
    "\n",
    "# Dropping bad epochs after autorejection\n",
    "reject = dict(eeg=200-6)\n",
    "epochs_med.drop_bad(reject=reject)\n",
    "epochs_med.plot_drop_log()\n",
    "\n",
    "# Create a figure with subplots\n",
    "fig, axes = plt.subplots(2, 1, figsize=(12, 6))  # 1 row, 2 columns\n",
    "\n",
    "# Plot the averages\n",
    "evoked_before.plot(axes=axes[0], show=False, spatial_colors=True, time_unit='s')\n",
    "axes[0].set_title(\"Average Before Auto-Rejection\")\n",
    "\n",
    "evoked_after.plot(axes=axes[1], show=False, spatial_colors=True, time_unit='s')\n",
    "axes[1].set_title(\"Average After Auto-Rejection\")\n",
    "\n",
    "# Adjust layout\n",
    "plt.tight_layout()\n",
    "\n",
    "# save the plot\n",
    "output_dir = \"./plots/autoreject\"\n",
    "os.makedirs(output_dir, exist_ok=True)\n",
    "plt.savefig(os.path.join(output_dir,f\"sub-{subject_id}_meditation_task_epoch_averages_before_after.png\"))\n",
    "plt.show()"
   ]
  },
  {
   "cell_type": "code",
   "execution_count": 93,
   "metadata": {},
   "outputs": [
    {
     "name": "stdout",
     "output_type": "stream",
     "text": [
      "NOTE: plot_psd() is a legacy function. New code should use .compute_psd().plot().\n",
      "    Using multitaper spectrum estimation with 7 DPSS windows\n",
      "Plotting power spectral density (dB=True).\n",
      "Averaging across epochs before plotting...\n"
     ]
    },
    {
     "data": {
      "image/png": "[encoded data removed]",
      "text/plain": [
       "<MNELineFigure size 1000x350 with 1 Axes>"
      ]
     },
     "execution_count": 93,
     "metadata": {},
     "output_type": "execute_result"
    }
   ],
   "source": [
    "epochs_med.plot_psd(fmin=1, fmax=40, average=True, spatial_colors=True)\n",
    "#epochs_med.plot()"
   ]
  },
  {
   "cell_type": "markdown",
   "metadata": {},
   "source": [
    "**Creating epochs of the processed data THINKING**"
   ]
  },
  {
   "cell_type": "code",
   "execution_count": 94,
   "metadata": {},
   "outputs": [
    {
     "name": "stdout",
     "output_type": "stream",
     "text": [
      "Not setting metadata\n",
      "122 matching events found\n",
      "No baseline correction applied\n",
      "0 projection items activated\n",
      "Using data from preloaded Raw for 122 events and 641 original time points ...\n",
      "1 bad epochs dropped\n",
      "\n",
      "##### Autorejecting bad epochs #####\n",
      "Running autoreject on ch_type=eeg\n"
     ]
    },
    {
     "name": "stderr",
     "output_type": "stream",
     "text": [
      "100%|██████████| Creating augmented epochs : 64/64 [00:01<00:00,   52.64it/s]\n",
      "100%|██████████| Computing thresholds ... : 64/64 [00:31<00:00,    2.00it/s]\n",
      "\n",
      "\u001b[A\n",
      "\u001b[A\n",
      "\u001b[A\n",
      "\u001b[A\n",
      "\u001b[A\n",
      "\u001b[A\n",
      "\u001b[A\n",
      "\u001b[A\n",
      "\u001b[A\n",
      "\u001b[A\n",
      "\u001b[A\n",
      "\u001b[A\n",
      "\u001b[A\n",
      "\u001b[A\n",
      "\u001b[A\n",
      "\u001b[A\n",
      "\u001b[A\n",
      "\u001b[A\n",
      "\u001b[A\n",
      "\u001b[A\n",
      "\u001b[A\n",
      "\u001b[A\n",
      "\u001b[A\n",
      "\u001b[A\n",
      "\u001b[A\n",
      "\u001b[A\n",
      "\u001b[A\n",
      "\u001b[A\n",
      "\u001b[A\n",
      "\u001b[A\n",
      "\u001b[A\n",
      "\u001b[A\n",
      "\u001b[A\n",
      "\u001b[A\n",
      "\u001b[A\n",
      "\u001b[A\n",
      "\u001b[A\n",
      "\u001b[A\n",
      "\u001b[A\n",
      "\u001b[A\n",
      "\u001b[A\n",
      "\u001b[A\n",
      "\u001b[A\n",
      "\u001b[A\n",
      "\u001b[A\n",
      "\u001b[A\n",
      "\u001b[A\n",
      "\u001b[A\n",
      "\u001b[A\n",
      "\u001b[A\n",
      "\u001b[A\n",
      "\u001b[A\n",
      "\u001b[A\n",
      "\u001b[A\n",
      "\u001b[A\n",
      "\u001b[A\n",
      "\u001b[A\n",
      "\u001b[A\n",
      "\u001b[A\n",
      "\u001b[A\n",
      "\u001b[A\n",
      "\u001b[A\n",
      "\u001b[A\n",
      "\u001b[A\n",
      "\u001b[A\n",
      "\u001b[A\n",
      "\u001b[A\n",
      "\u001b[A\n",
      "\u001b[A\n",
      "\u001b[A\n",
      "\u001b[A\n",
      "\u001b[A\n",
      "\u001b[A\n",
      "\u001b[A\n",
      "\u001b[A\n",
      "\u001b[A\n",
      "\u001b[A\n",
      "\u001b[A\n",
      "100%|██████████| Repairing epochs : 121/121 [00:01<00:00,   65.82it/s]\n",
      "\n",
      "\u001b[A\n",
      "\u001b[A\n",
      "\u001b[A\n",
      "\u001b[A\n",
      "\u001b[A\n",
      "\u001b[A\n",
      "\u001b[A\n",
      "\u001b[A\n",
      "\u001b[A\n",
      "\u001b[A\n",
      "\u001b[A\n",
      "\u001b[A\n",
      "\u001b[A\n",
      "\u001b[A\n",
      "\u001b[A\n",
      "\u001b[A\n",
      "\u001b[A\n",
      "\u001b[A\n",
      "\u001b[A\n",
      "\u001b[A\n",
      "\u001b[A\n",
      "\u001b[A\n",
      "\u001b[A\n",
      "\u001b[A\n",
      "\u001b[A\n",
      "\u001b[A\n",
      "\u001b[A\n",
      "\u001b[A\n",
      "\u001b[A\n",
      "\u001b[A\n",
      "\u001b[A\n",
      "\u001b[A\n",
      "\u001b[A\n",
      "\u001b[A\n",
      "\u001b[A\n",
      "\u001b[A\n",
      "\u001b[A\n",
      "\u001b[A\n",
      "\u001b[A\n",
      "\u001b[A\n",
      "\u001b[A\n",
      "\u001b[A\n",
      "\u001b[A\n",
      "\u001b[A\n",
      "\u001b[A\n",
      "\u001b[A\n",
      "\u001b[A\n",
      "\u001b[A\n",
      "\u001b[A\n",
      "\u001b[A\n",
      "\u001b[A\n",
      "\u001b[A\n",
      "\u001b[A\n",
      "\u001b[A\n",
      "\u001b[A\n",
      "\u001b[A\n",
      "\u001b[A\n",
      "\u001b[A\n",
      "\u001b[A\n",
      "\u001b[A\n",
      "\u001b[A\n",
      "\u001b[A\n",
      "\u001b[A\n",
      "\u001b[A\n",
      "\u001b[A\n",
      "\u001b[A\n",
      "\u001b[A\n",
      "\u001b[A\n",
      "\u001b[A\n",
      "\u001b[A\n",
      "\u001b[A\n",
      "\u001b[A\n",
      "\u001b[A\n",
      "\u001b[A\n",
      "\u001b[A\n",
      "\u001b[A\n",
      "\u001b[A\n",
      "\u001b[A\n",
      "\u001b[A\n",
      "\u001b[A\n",
      "\u001b[A\n",
      "\u001b[A\n",
      "\u001b[A\n",
      "\u001b[A\n",
      "\u001b[A\n",
      "\u001b[A\n",
      "\u001b[A\n",
      "\u001b[A\n",
      "\u001b[A\n",
      "\u001b[A\n",
      "\u001b[A\n",
      "\u001b[A\n",
      "\u001b[A\n",
      "\u001b[A\n",
      "\u001b[A\n",
      "\u001b[A\n",
      "\u001b[A\n",
      "\u001b[A\n",
      "\u001b[A\n",
      "\u001b[A\n",
      "\u001b[A\n",
      "\u001b[A\n",
      "\u001b[A\n",
      "\u001b[A\n",
      "\u001b[A\n",
      "\u001b[A\n",
      "\u001b[A\n",
      "\u001b[A\n",
      "\u001b[A\n",
      "\u001b[A\n",
      "\u001b[A\n",
      "\u001b[A\n",
      "\u001b[A\n",
      "\u001b[A\n",
      "\u001b[A\n",
      "\u001b[A\n",
      "\u001b[A\n",
      "\u001b[A\n",
      "\u001b[A\n",
      "\u001b[A\n",
      "\u001b[A\n",
      "100%|██████████| Repairing epochs : 121/121 [00:02<00:00,   41.02it/s]\n",
      "\n",
      "\n",
      "\u001b[A\u001b[A\n",
      "\n",
      "\u001b[A\u001b[A\n",
      "\n",
      "\u001b[A\u001b[A\n",
      "\n",
      "\u001b[A\u001b[A\n",
      "\n",
      "\u001b[A\u001b[A\n",
      "\n",
      "\u001b[A\u001b[A\n",
      "\n",
      "\u001b[A\u001b[A\n",
      "\n",
      "\u001b[A\u001b[A\n",
      "\n",
      "\u001b[A\u001b[A\n",
      "\n",
      "\u001b[A\u001b[A\n",
      "\n",
      "100%|██████████| Fold : 10/10 [00:03<00:00,    2.71it/s]\n",
      "\n",
      "\u001b[A\n",
      "\u001b[A\n",
      "\u001b[A\n",
      "\u001b[A\n",
      "\u001b[A\n",
      "\u001b[A\n",
      "\u001b[A\n",
      "\u001b[A\n",
      "\u001b[A\n",
      "\u001b[A\n",
      "\u001b[A\n",
      "\u001b[A\n",
      "\u001b[A\n",
      "\u001b[A\n",
      "\u001b[A\n",
      "\u001b[A\n",
      "\u001b[A\n",
      "\u001b[A\n",
      "\u001b[A\n",
      "\u001b[A\n",
      "\u001b[A\n",
      "\u001b[A\n",
      "\u001b[A\n",
      "\u001b[A\n",
      "\u001b[A\n",
      "\u001b[A\n",
      "\u001b[A\n",
      "\u001b[A\n",
      "\u001b[A\n",
      "\u001b[A\n",
      "\u001b[A\n",
      "\u001b[A\n",
      "\u001b[A\n",
      "\u001b[A\n",
      "\u001b[A\n",
      "\u001b[A\n",
      "\u001b[A\n",
      "\u001b[A\n",
      "\u001b[A\n",
      "\u001b[A\n",
      "\u001b[A\n",
      "\u001b[A\n",
      "\u001b[A\n",
      "\u001b[A\n",
      "\u001b[A\n",
      "\u001b[A\n",
      "\u001b[A\n",
      "\u001b[A\n",
      "\u001b[A\n",
      "\u001b[A\n",
      "\u001b[A\n",
      "\u001b[A\n",
      "\u001b[A\n",
      "\u001b[A\n",
      "\u001b[A\n",
      "\u001b[A\n",
      "\u001b[A\n",
      "\u001b[A\n",
      "\u001b[A\n",
      "\u001b[A\n",
      "\u001b[A\n",
      "\u001b[A\n",
      "\u001b[A\n",
      "\u001b[A\n",
      "\u001b[A\n",
      "\u001b[A\n",
      "\u001b[A\n",
      "\u001b[A\n",
      "\u001b[A\n",
      "\u001b[A\n",
      "\u001b[A\n",
      "\u001b[A\n",
      "\u001b[A\n",
      "\u001b[A\n",
      "\u001b[A\n",
      "\u001b[A\n",
      "\u001b[A\n",
      "\u001b[A\n",
      "\u001b[A\n",
      "\u001b[A\n",
      "\u001b[A\n",
      "\u001b[A\n",
      "\u001b[A\n",
      "\u001b[A\n",
      "\u001b[A\n",
      "\u001b[A\n",
      "\u001b[A\n",
      "\u001b[A\n",
      "\u001b[A\n",
      "\u001b[A\n",
      "\u001b[A\n",
      "\u001b[A\n",
      "\u001b[A\n",
      "\u001b[A\n",
      "\u001b[A\n",
      "\u001b[A\n",
      "\u001b[A\n",
      "\u001b[A\n",
      "\u001b[A\n",
      "\u001b[A\n",
      "\u001b[A\n",
      "\u001b[A\n",
      "\u001b[A\n",
      "\u001b[A\n",
      "\u001b[A\n",
      "\u001b[A\n",
      "\u001b[A\n",
      "\u001b[A\n",
      "\u001b[A\n",
      "\u001b[A\n",
      "\u001b[A\n",
      "\u001b[A\n",
      "\u001b[A\n",
      "\u001b[A\n",
      "\u001b[A\n",
      "\u001b[A\n",
      "\u001b[A\n",
      "\u001b[A\n",
      "\u001b[A\n",
      "100%|██████████| Repairing epochs : 121/121 [00:02<00:00,   49.95it/s]\n",
      "\n",
      "\n",
      "\u001b[A\u001b[A\n",
      "\n",
      "\u001b[A\u001b[A\n",
      "\n",
      "\u001b[A\u001b[A\n",
      "\n",
      "\u001b[A\u001b[A\n",
      "\n",
      "\u001b[A\u001b[A\n",
      "\n",
      "\u001b[A\u001b[A\n",
      "\n",
      "\u001b[A\u001b[A\n",
      "\n",
      "\u001b[A\u001b[A\n",
      "\n",
      "\u001b[A\u001b[A\n",
      "\n",
      "\u001b[A\u001b[A\n",
      "\n",
      "100%|██████████| Fold : 10/10 [00:03<00:00,    2.74it/s]\n",
      "\n",
      "\u001b[A\n",
      "\u001b[A\n",
      "\u001b[A\n",
      "\u001b[A\n",
      "\u001b[A\n",
      "\u001b[A\n",
      "\u001b[A\n",
      "\u001b[A\n",
      "\u001b[A\n",
      "\u001b[A\n",
      "\u001b[A\n",
      "\u001b[A\n",
      "\u001b[A\n",
      "\u001b[A\n",
      "\u001b[A\n",
      "\u001b[A\n",
      "\u001b[A\n",
      "\u001b[A\n",
      "\u001b[A\n",
      "\u001b[A\n",
      "\u001b[A\n",
      "\u001b[A\n",
      "\u001b[A\n",
      "\u001b[A\n",
      "\u001b[A\n",
      "\u001b[A\n",
      "\u001b[A\n",
      "\u001b[A\n",
      "\u001b[A\n",
      "\u001b[A\n",
      "\u001b[A\n",
      "\u001b[A\n",
      "\u001b[A\n",
      "\u001b[A\n",
      "\u001b[A\n",
      "\u001b[A\n",
      "\u001b[A\n",
      "\u001b[A\n",
      "\u001b[A\n",
      "\u001b[A\n",
      "\u001b[A\n",
      "\u001b[A\n",
      "\u001b[A\n",
      "\u001b[A\n",
      "\u001b[A\n",
      "\u001b[A\n",
      "\u001b[A\n",
      "\u001b[A\n",
      "\u001b[A\n",
      "\u001b[A\n",
      "\u001b[A\n",
      "\u001b[A\n",
      "\u001b[A\n",
      "\u001b[A\n",
      "\u001b[A\n",
      "\u001b[A\n",
      "\u001b[A\n",
      "\u001b[A\n",
      "\u001b[A\n",
      "\u001b[A\n",
      "\u001b[A\n",
      "\u001b[A\n",
      "\u001b[A\n",
      "\u001b[A\n",
      "\u001b[A\n",
      "\u001b[A\n",
      "\u001b[A\n",
      "\u001b[A\n",
      "\u001b[A\n",
      "\u001b[A\n",
      "\u001b[A\n",
      "\u001b[A\n",
      "\u001b[A\n",
      "\u001b[A\n",
      "\u001b[A\n",
      "\u001b[A\n",
      "\u001b[A\n",
      "\u001b[A\n",
      "\u001b[A\n",
      "\u001b[A\n",
      "\u001b[A\n",
      "\u001b[A\n",
      "\u001b[A\n",
      "\u001b[A\n",
      "\u001b[A\n",
      "\u001b[A\n",
      "\u001b[A\n",
      "\u001b[A\n",
      "\u001b[A\n",
      "\u001b[A\n",
      "\u001b[A\n",
      "\u001b[A\n",
      "\u001b[A\n",
      "\u001b[A\n",
      "\u001b[A\n",
      "\u001b[A\n",
      "\u001b[A\n",
      "\u001b[A\n",
      "\u001b[A\n",
      "\u001b[A\n",
      "\u001b[A\n",
      "\u001b[A\n",
      "\u001b[A\n",
      "\u001b[A\n",
      "\u001b[A\n",
      "\u001b[A\n",
      "\u001b[A\n",
      "\u001b[A\n",
      "\u001b[A\n",
      "\u001b[A\n",
      "\u001b[A\n",
      "\u001b[A\n",
      "\u001b[A\n",
      "\u001b[A\n",
      "\u001b[A\n",
      "\u001b[A\n",
      "\u001b[A\n",
      "\u001b[A\n",
      "\u001b[A\n",
      "\u001b[A\n",
      "\u001b[A\n",
      "100%|██████████| Repairing epochs : 121/121 [00:02<00:00,   40.37it/s]\n",
      "\n",
      "\n",
      "\u001b[A\u001b[A\n",
      "\n",
      "\u001b[A\u001b[A\n",
      "\n",
      "\u001b[A\u001b[A\n",
      "\n",
      "\u001b[A\u001b[A\n",
      "\n",
      "\u001b[A\u001b[A\n",
      "\n",
      "\u001b[A\u001b[A\n",
      "\n",
      "\u001b[A\u001b[A\n",
      "\n",
      "\u001b[A\u001b[A\n",
      "\n",
      "\u001b[A\u001b[A\n",
      "\n",
      "\u001b[A\u001b[A\n",
      "\n",
      "100%|██████████| Fold : 10/10 [00:01<00:00,    6.15it/s]\n",
      "100%|██████████| n_interp : 3/3 [00:19<00:00,    6.41s/it]\n"
     ]
    },
    {
     "name": "stdout",
     "output_type": "stream",
     "text": [
      "\n",
      "\n",
      "\n",
      "\n",
      "Estimated consensus=0.80 and n_interpolate=32\n"
     ]
    },
    {
     "name": "stderr",
     "output_type": "stream",
     "text": [
      "\n",
      "\u001b[A\n",
      "\u001b[A\n",
      "\u001b[A\n",
      "\u001b[A\n",
      "\u001b[A\n",
      "\u001b[A\n",
      "\u001b[A\n",
      "\u001b[A\n",
      "\u001b[A\n",
      "\u001b[A\n",
      "\u001b[A\n",
      "\u001b[A\n",
      "\u001b[A\n",
      "\u001b[A\n",
      "\u001b[A\n",
      "\u001b[A\n",
      "\u001b[A\n",
      "\u001b[A\n",
      "\u001b[A\n",
      "\u001b[A\n",
      "\u001b[A\n",
      "\u001b[A\n",
      "\u001b[A\n",
      "\u001b[A\n",
      "\u001b[A\n",
      "\u001b[A\n",
      "\u001b[A\n",
      "\u001b[A\n",
      "\u001b[A\n",
      "\u001b[A\n",
      "\u001b[A\n",
      "\u001b[A\n",
      "\u001b[A\n",
      "\u001b[A\n",
      "\u001b[A\n",
      "\u001b[A\n",
      "\u001b[A\n",
      "\u001b[A\n",
      "\u001b[A\n",
      "\u001b[A\n",
      "\u001b[A\n",
      "\u001b[A\n",
      "\u001b[A\n",
      "\u001b[A\n",
      "\u001b[A\n",
      "\u001b[A\n",
      "\u001b[A\n",
      "\u001b[A\n",
      "\u001b[A\n",
      "\u001b[A\n",
      "\u001b[A\n",
      "\u001b[A\n",
      "\u001b[A\n",
      "\u001b[A\n",
      "\u001b[A\n",
      "\u001b[A\n",
      "\u001b[A\n",
      "\u001b[A\n",
      "\u001b[A\n",
      "\u001b[A\n",
      "\u001b[A\n",
      "\u001b[A\n",
      "\u001b[A\n",
      "\u001b[A\n",
      "\u001b[A\n",
      "\u001b[A\n",
      "\u001b[A\n",
      "\u001b[A\n",
      "\u001b[A\n",
      "\u001b[A\n",
      "\u001b[A\n",
      "\u001b[A\n",
      "\u001b[A\n",
      "\u001b[A\n",
      "\u001b[A\n",
      "\u001b[A\n",
      "\u001b[A\n",
      "\u001b[A\n",
      "\u001b[A\n",
      "\u001b[A\n",
      "\u001b[A\n",
      "\u001b[A\n",
      "\u001b[A\n",
      "\u001b[A\n",
      "\u001b[A\n",
      "\u001b[A\n",
      "\u001b[A\n",
      "\u001b[A\n",
      "\u001b[A\n",
      "\u001b[A\n",
      "\u001b[A\n",
      "\u001b[A\n",
      "\u001b[A\n",
      "\u001b[A\n",
      "\u001b[A\n",
      "\u001b[A\n",
      "\u001b[A\n",
      "\u001b[A\n",
      "\u001b[A\n",
      "\u001b[A\n",
      "\u001b[A\n",
      "\u001b[A\n",
      "\u001b[A\n",
      "\u001b[A\n",
      "\u001b[A\n",
      "\u001b[A\n",
      "\u001b[A\n",
      "\u001b[A\n",
      "\u001b[A\n",
      "\u001b[A\n",
      "\u001b[A\n",
      "\u001b[A\n",
      "\u001b[A\n",
      "\u001b[A\n",
      "\u001b[A\n",
      "\u001b[A\n",
      "\u001b[A\n",
      "\u001b[A\n",
      "\u001b[A\n",
      "\u001b[A\n",
      "\u001b[A\n",
      "100%|██████████| Repairing epochs : 121/121 [00:02<00:00,   40.83it/s]"
     ]
    },
    {
     "name": "stdout",
     "output_type": "stream",
     "text": [
      "Dropped 9 epochs: 35, 38, 39, 49, 63, 65, 87, 98, 99\n"
     ]
    },
    {
     "name": "stderr",
     "output_type": "stream",
     "text": [
      "\n"
     ]
    },
    {
     "name": "stdout",
     "output_type": "stream",
     "text": [
      "Estimating rejection dictionary for eeg\n"
     ]
    },
    {
     "name": "stderr",
     "output_type": "stream",
     "text": [
      "100%|██████████| interpolating channels : 50/50 [00:00<00:00,  777.68it/s]\n",
      "[Parallel(n_jobs=1)]: Done   1 tasks      | elapsed:    0.1s\n",
      "[Parallel(n_jobs=1)]: Done   1 tasks      | elapsed:    0.1s\n",
      "100%|██████████| Iterating epochs : 112/112 [00:03<00:00,   30.62it/s]\n",
      "[Parallel(n_jobs=1)]: Done   1 tasks      | elapsed:    3.7s\n",
      "[Parallel(n_jobs=1)]: Done   1 tasks      | elapsed:    3.7s\n"
     ]
    },
    {
     "name": "stdout",
     "output_type": "stream",
     "text": [
      "[Done]\n",
      "Setting channel interpolation method to {'eeg': 'spline'}.\n",
      "Interpolating bad channels.\n",
      "    Automatic origin fit: head of radius 95.0 mm\n",
      "Computing interpolation matrix from 63 sensor positions\n",
      "Interpolating 1 sensors\n",
      "0 bad epochs dropped\n"
     ]
    },
    {
     "name": "stderr",
     "output_type": "stream",
     "text": [
      "/tmp/ipykernel_39351/1774122231.py:47: UserWarning: This figure includes Axes that are not compatible with tight_layout, so results might be incorrect.\n",
      "  plt.tight_layout()\n"
     ]
    }
   ],
   "source": [
    "# Define the length of each epoch (in seconds)\n",
    "epoch_length = 5  # 5 seconds\n",
    "\n",
    "# Create custom events: start at 0, 5, 10, ... seconds\n",
    "n_samples = ICA_cleaned_data_mw.n_times\n",
    "sfreq = ICA_cleaned_data_mw.info['sfreq']\n",
    "epochs_samples = np.arange(0, n_samples, epoch_length * sfreq, dtype=int)\n",
    "\n",
    "# Create event array with [sample, 0, event_id] for each epoch\n",
    "event_code = event_id[f\"{subject_group}/think2\"]\n",
    "events = np.column_stack([epochs_samples, np.zeros(len(epochs_samples), dtype=int), event_code * np.ones(len(epochs_samples), dtype=int)])\n",
    "\n",
    "# create event_id for think task\n",
    "event_id_think = {f\"{subject_group}/think2\": event_code}\n",
    "\n",
    "# Define the epochs object using the custom events\n",
    "epochs_mw = mne.Epochs(ICA_cleaned_data_mw, events, event_id=event_id_think, tmin=0, tmax=epoch_length, baseline=None, detrend=1, preload=True)\n",
    "\n",
    "print(\"\\n##### Autorejecting bad epochs #####\")\n",
    "\n",
    "epochs_original_mw = epochs_mw.copy()\n",
    "\n",
    "epochs_mw, reject_log = ar.fit_transform(epochs_mw, return_log=True)\n",
    "get_rejection_threshold(epochs_mw)  # Get the rejection threshold dictionary\n",
    "epochs_mw = rsc.fit_transform(epochs_mw)\n",
    "\n",
    "#  Plot the epoch average before and after autorejection and RANSAC\n",
    "evoked_before = epochs_original_mw.average()\n",
    "evoked_after = epochs_mw.average()\n",
    "\n",
    "# Dropping bad epochs after autorejection\n",
    "reject = dict(eeg=200-6)\n",
    "epochs_mw.drop_bad(reject=reject)\n",
    "epochs_mw.plot_drop_log()\n",
    "\n",
    "# Create a figure with subplots\n",
    "fig, axes = plt.subplots(2, 1, figsize=(12, 6))  # 1 row, 2 columns\n",
    "\n",
    "# Plot the averages\n",
    "evoked_before.plot(axes=axes[0], show=False, spatial_colors=True, time_unit='s')\n",
    "axes[0].set_title(\"Average Before Auto-Rejection\")\n",
    "\n",
    "evoked_after.plot(axes=axes[1], show=False, spatial_colors=True, time_unit='s')\n",
    "axes[1].set_title(\"Average After Auto-Rejection\")\n",
    "\n",
    "# Adjust layout\n",
    "plt.tight_layout()\n",
    "\n",
    "# save the plot\n",
    "output_dir = \"./plots/autoreject\"\n",
    "os.makedirs(output_dir, exist_ok=True)\n",
    "plt.savefig(os.path.join(output_dir,f\"sub-{subject_id}_think_task_epoch_averages_before_after.png\"))\n",
    "plt.show()"
   ]
  },
  {
   "cell_type": "markdown",
   "metadata": {},
   "source": [
    "**Saving the epochs**"
   ]
  },
  {
   "cell_type": "code",
   "execution_count": 95,
   "metadata": {},
   "outputs": [
    {
     "name": "stdout",
     "output_type": "stream",
     "text": [
      "Not setting metadata\n",
      "232 matching events found\n"
     ]
    },
    {
     "name": "stdout",
     "output_type": "stream",
     "text": [
      "No baseline correction applied\n",
      "Saved combined epochs to epochs/internal_task/sub-072_epo.fif\n"
     ]
    }
   ],
   "source": [
    "def save_epochs(epochs_med, epochs_mw, subject_id):\n",
    "    # Merge the two epochs objects\n",
    "    epochs_combined = mne.concatenate_epochs([epochs_med, epochs_mw])\n",
    "    \n",
    "    # Create the output directory if it doesn't exist\n",
    "    output_dir = os.path.join(\"epochs\", \"internal_task\")\n",
    "    os.makedirs(output_dir, exist_ok=True)\n",
    "    \n",
    "    # Define the filename\n",
    "    combined_filename = os.path.join(output_dir, f\"sub-{subject_id}_epo.fif\")\n",
    "    \n",
    "    # Save the combined epochs object\n",
    "    epochs_combined.save(combined_filename, overwrite=True)\n",
    "    \n",
    "    print(f\"Saved combined epochs to {combined_filename}\")\n",
    "\n",
    "\n",
    "save_epochs(epochs_med, epochs_mw, subject_id)"
   ]
  },
  {
   "cell_type": "markdown",
   "metadata": {},
   "source": [
    "**Auto cleaning data**"
   ]
  },
  {
   "cell_type": "code",
   "execution_count": 8,
   "metadata": {},
   "outputs": [
    {
     "name": "stdout",
     "output_type": "stream",
     "text": [
      "\n",
      "##### Preprocessing subject 060 #####\n",
      "Extracting EDF parameters from /home/sivert/Documents/Specialization_project/Datasets/ds003969/sub-060/eeg/sub-060_task-med2_eeg.bdf...\n",
      "BDF file detected\n",
      "Setting channel info structure...\n",
      "Creating raw.info structure...\n",
      "Reading 0 ... 617471  =      0.000 ...   602.999 secs...\n",
      "Loaded BDF file for task 'med2': /home/sivert/Documents/Specialization_project/Datasets/ds003969/sub-060/eeg/sub-060_task-med2_eeg.bdf\n",
      "Loaded metadata JSON for task 'med2'\n",
      "Loaded metadata TSV for task 'med2'\n",
      "Extracting EDF parameters from /home/sivert/Documents/Specialization_project/Datasets/ds003969/sub-060/eeg/sub-060_task-think2_eeg.bdf...\n",
      "BDF file detected\n",
      "Setting channel info structure...\n",
      "Creating raw.info structure...\n",
      "Reading 0 ... 629759  =      0.000 ...   614.999 secs...\n",
      "Loaded BDF file for task 'think2': /home/sivert/Documents/Specialization_project/Datasets/ds003969/sub-060/eeg/sub-060_task-think2_eeg.bdf\n",
      "Loaded metadata JSON for task 'think2'\n",
      "Loaded metadata TSV for task 'think2'\n",
      "\n",
      "##### Channel types #####\n",
      "['Fp1', 'AF7', 'AF3', 'F1', 'F3', 'F5', 'F7', 'FT7', 'FC5', 'FC3', 'FC1', 'C1', 'C3', 'C5', 'T7', 'TP7', 'CP5', 'CP3', 'CP1', 'P1', 'P3', 'P5', 'P7', 'P9', 'PO7', 'PO3', 'O1', 'Iz', 'Oz', 'POz', 'Pz', 'CPz', 'Fpz', 'Fp2', 'AF8', 'AF4', 'AFz', 'Fz', 'F2', 'F4', 'F6', 'F8', 'FT8', 'FC6', 'FC4', 'FC2', 'FCz', 'Cz', 'C2', 'C4', 'C6', 'T8', 'TP8', 'CP6', 'CP4', 'CP2', 'P2', 'P4', 'P6', 'P8', 'P10', 'PO8', 'PO4', 'O2']\n",
      "Bad channels in meditation block: []\n",
      "Bad channels in thinking block: []\n",
      "Setting channel interpolation method to {'eeg': 'spline'}.\n",
      "Setting channel interpolation method to {'eeg': 'spline'}.\n",
      "[]\n",
      "[]\n",
      "\n",
      "##### Downsampling #####\n"
     ]
    },
    {
     "name": "stderr",
     "output_type": "stream",
     "text": [
      "/tmp/ipykernel_97582/156053950.py:33: RuntimeWarning: The unit for channel(s) EXG1, EXG2, EXG3, EXG4, EXG5, EXG6, EXG7, EXG8, Erg1, Erg2, GSR1, GSR2 has changed from V to NA.\n",
      "  raw_med.set_channel_types({'EXG1': 'misc',\n",
      "/tmp/ipykernel_97582/156053950.py:49: RuntimeWarning: The unit for channel(s) EXG1, EXG2, EXG3, EXG4, EXG5, EXG6, EXG7, EXG8, Erg1, Erg2, GSR1, GSR2 has changed from V to NA.\n",
      "  raw_mw.set_channel_types({'EXG1': 'misc',\n",
      "/tmp/ipykernel_97582/156053950.py:90: RuntimeWarning: No bad channels to interpolate. Doing nothing...\n",
      "  raw_med.interpolate_bads()\n",
      "/tmp/ipykernel_97582/156053950.py:91: RuntimeWarning: No bad channels to interpolate. Doing nothing...\n",
      "  raw_mw.interpolate_bads()\n"
     ]
    },
    {
     "name": "stdout",
     "output_type": "stream",
     "text": [
      "New sampling frequency: 128.0 Hz\n",
      "\n",
      "##### Averaging and filtering raw data #####\n",
      "1 (FIFFV_MNE_CUSTOM_REF_ON)\n",
      "1 (FIFFV_MNE_CUSTOM_REF_ON)\n",
      "NOTE: plot_psd() is a legacy function. New code should use .compute_psd().plot().\n",
      "Effective window size : 16.000 (s)\n",
      "Plotting power spectral density (dB=True).\n",
      "NOTE: plot_psd() is a legacy function. New code should use .compute_psd().plot().\n",
      "Effective window size : 16.000 (s)\n",
      "Plotting power spectral density (dB=True).\n",
      "Not setting metadata\n",
      "121 matching events found\n",
      "No baseline correction applied\n",
      "0 projection items activated\n",
      "Using data from preloaded Raw for 121 events and 641 original time points ...\n",
      "1 bad epochs dropped\n",
      "\n",
      "##### Autorejecting bad epochs #####\n",
      "Running autoreject on ch_type=eeg\n"
     ]
    },
    {
     "data": {
      "application/vnd.jupyter.widget-view+json": {
       "model_id": "4546ad87b48f454eae0bb258ea44e631",
       "version_major": 2,
       "version_minor": 0
      },
      "text/plain": [
       "  0%|          | Creating augmented epochs : 0/64 [00:00<?,       ?it/s]"
      ]
     },
     "metadata": {},
     "output_type": "display_data"
    },
    {
     "data": {
      "application/vnd.jupyter.widget-view+json": {
       "model_id": "bca5ef7e96f7451dbd44e3c30854b950",
       "version_major": 2,
       "version_minor": 0
      },
      "text/plain": [
       "  0%|          | Computing thresholds ... : 0/64 [00:00<?,       ?it/s]"
      ]
     },
     "metadata": {},
     "output_type": "display_data"
    },
    {
     "data": {
      "application/vnd.jupyter.widget-view+json": {
       "model_id": "5425770a3cca460ca92b092c834d179f",
       "version_major": 2,
       "version_minor": 0
      },
      "text/plain": [
       "  0%|          | Repairing epochs : 0/120 [00:00<?,       ?it/s]"
      ]
     },
     "metadata": {},
     "output_type": "display_data"
    },
    {
     "data": {
      "application/vnd.jupyter.widget-view+json": {
       "model_id": "18d2131a7b94489d82d770312c6f9ae4",
       "version_major": 2,
       "version_minor": 0
      },
      "text/plain": [
       "  0%|          | n_interp : 0/3 [00:00<?,       ?it/s]"
      ]
     },
     "metadata": {},
     "output_type": "display_data"
    },
    {
     "data": {
      "application/vnd.jupyter.widget-view+json": {
       "model_id": "117bcb22e1eb4ae7b784e4767258ab12",
       "version_major": 2,
       "version_minor": 0
      },
      "text/plain": [
       "  0%|          | Repairing epochs : 0/120 [00:00<?,       ?it/s]"
      ]
     },
     "metadata": {},
     "output_type": "display_data"
    },
    {
     "data": {
      "application/vnd.jupyter.widget-view+json": {
       "model_id": "983abdbb53994bd695af2554a7d19cbd",
       "version_major": 2,
       "version_minor": 0
      },
      "text/plain": [
       "  0%|          | Fold : 0/10 [00:00<?,       ?it/s]"
      ]
     },
     "metadata": {},
     "output_type": "display_data"
    },
    {
     "data": {
      "application/vnd.jupyter.widget-view+json": {
       "model_id": "d2faf352dc2a49388c254e5306054a1c",
       "version_major": 2,
       "version_minor": 0
      },
      "text/plain": [
       "  0%|          | Repairing epochs : 0/120 [00:00<?,       ?it/s]"
      ]
     },
     "metadata": {},
     "output_type": "display_data"
    },
    {
     "data": {
      "application/vnd.jupyter.widget-view+json": {
       "model_id": "c2b10116eeb3418baf1ef77bdc7319ad",
       "version_major": 2,
       "version_minor": 0
      },
      "text/plain": [
       "  0%|          | Fold : 0/10 [00:00<?,       ?it/s]"
      ]
     },
     "metadata": {},
     "output_type": "display_data"
    },
    {
     "data": {
      "application/vnd.jupyter.widget-view+json": {
       "model_id": "1322e0de52b24131b1f11d3091f2062e",
       "version_major": 2,
       "version_minor": 0
      },
      "text/plain": [
       "  0%|          | Repairing epochs : 0/120 [00:00<?,       ?it/s]"
      ]
     },
     "metadata": {},
     "output_type": "display_data"
    },
    {
     "data": {
      "application/vnd.jupyter.widget-view+json": {
       "model_id": "438a2614ec104790a4bdef2921b1d6ee",
       "version_major": 2,
       "version_minor": 0
      },
      "text/plain": [
       "  0%|          | Fold : 0/10 [00:00<?,       ?it/s]"
      ]
     },
     "metadata": {},
     "output_type": "display_data"
    },
    {
     "name": "stdout",
     "output_type": "stream",
     "text": [
      "\n",
      "\n",
      "\n",
      "\n",
      "Estimated consensus=0.60 and n_interpolate=32\n"
     ]
    },
    {
     "data": {
      "application/vnd.jupyter.widget-view+json": {
       "model_id": "f46412d20815468dbb7708fde5d266d6",
       "version_major": 2,
       "version_minor": 0
      },
      "text/plain": [
       "  0%|          | Repairing epochs : 0/120 [00:00<?,       ?it/s]"
      ]
     },
     "metadata": {},
     "output_type": "display_data"
    },
    {
     "name": "stdout",
     "output_type": "stream",
     "text": [
      "No bad epochs were found for your data. Returning a copy of the data you wanted to clean. Interpolation may have been done.\n",
      "Estimating rejection dictionary for eeg\n"
     ]
    },
    {
     "data": {
      "application/vnd.jupyter.widget-view+json": {
       "model_id": "ff3b4eb87ac640eb8cc1a1a0fca02e75",
       "version_major": 2,
       "version_minor": 0
      },
      "text/plain": [
       "  0%|          | interpolating channels : 0/50 [00:00<?,       ?it/s]"
      ]
     },
     "metadata": {},
     "output_type": "display_data"
    },
    {
     "name": "stderr",
     "output_type": "stream",
     "text": [
      "[Parallel(n_jobs=1)]: Done   1 tasks      | elapsed:    0.1s\n",
      "[Parallel(n_jobs=1)]: Done   1 tasks      | elapsed:    0.1s\n"
     ]
    },
    {
     "data": {
      "application/vnd.jupyter.widget-view+json": {
       "model_id": "4d75e97c57da4ab5a6a6e10bd0871b94",
       "version_major": 2,
       "version_minor": 0
      },
      "text/plain": [
       "  0%|          | Iterating epochs : 0/120 [00:00<?,       ?it/s]"
      ]
     },
     "metadata": {},
     "output_type": "display_data"
    },
    {
     "name": "stdout",
     "output_type": "stream",
     "text": [
      "[Done]\n",
      "Setting channel interpolation method to {'eeg': 'spline'}.\n",
      "Interpolating bad channels.\n",
      "    Automatic origin fit: head of radius 95.0 mm\n",
      "Computing interpolation matrix from 61 sensor positions\n",
      "Interpolating 3 sensors\n",
      "0 bad epochs dropped\n"
     ]
    },
    {
     "name": "stderr",
     "output_type": "stream",
     "text": [
      "[Parallel(n_jobs=1)]: Done   1 tasks      | elapsed:    4.4s\n",
      "[Parallel(n_jobs=1)]: Done   1 tasks      | elapsed:    4.4s\n",
      "/tmp/ipykernel_97582/156053950.py:185: UserWarning: This figure includes Axes that are not compatible with tight_layout, so results might be incorrect.\n",
      "  plt.tight_layout()\n"
     ]
    },
    {
     "name": "stdout",
     "output_type": "stream",
     "text": [
      "NOTE: plot_psd() is a legacy function. New code should use .compute_psd().plot().\n",
      "    Using multitaper spectrum estimation with 7 DPSS windows\n",
      "Plotting power spectral density (dB=True).\n",
      "Averaging across epochs before plotting...\n",
      "Not setting metadata\n",
      "123 matching events found\n",
      "No baseline correction applied\n",
      "0 projection items activated\n",
      "Using data from preloaded Raw for 123 events and 641 original time points ...\n",
      "1 bad epochs dropped\n",
      "\n",
      "##### Autorejecting bad epochs #####\n",
      "Running autoreject on ch_type=eeg\n"
     ]
    },
    {
     "data": {
      "application/vnd.jupyter.widget-view+json": {
       "model_id": "3d90988385f0449ebb50aea68e49941b",
       "version_major": 2,
       "version_minor": 0
      },
      "text/plain": [
       "  0%|          | Creating augmented epochs : 0/64 [00:00<?,       ?it/s]"
      ]
     },
     "metadata": {},
     "output_type": "display_data"
    },
    {
     "data": {
      "application/vnd.jupyter.widget-view+json": {
       "model_id": "b458a63b08b242c9a8d7241e44c656b3",
       "version_major": 2,
       "version_minor": 0
      },
      "text/plain": [
       "  0%|          | Computing thresholds ... : 0/64 [00:00<?,       ?it/s]"
      ]
     },
     "metadata": {},
     "output_type": "display_data"
    },
    {
     "data": {
      "application/vnd.jupyter.widget-view+json": {
       "model_id": "cefc4bf4949c4a95af862d6aa742a3e0",
       "version_major": 2,
       "version_minor": 0
      },
      "text/plain": [
       "  0%|          | Repairing epochs : 0/122 [00:00<?,       ?it/s]"
      ]
     },
     "metadata": {},
     "output_type": "display_data"
    },
    {
     "data": {
      "application/vnd.jupyter.widget-view+json": {
       "model_id": "e1c98bafc51c44b5b191268b96adde3d",
       "version_major": 2,
       "version_minor": 0
      },
      "text/plain": [
       "  0%|          | n_interp : 0/3 [00:00<?,       ?it/s]"
      ]
     },
     "metadata": {},
     "output_type": "display_data"
    },
    {
     "data": {
      "application/vnd.jupyter.widget-view+json": {
       "model_id": "319c6ff82a8b487db37dfd5ef19f1406",
       "version_major": 2,
       "version_minor": 0
      },
      "text/plain": [
       "  0%|          | Repairing epochs : 0/122 [00:00<?,       ?it/s]"
      ]
     },
     "metadata": {},
     "output_type": "display_data"
    },
    {
     "data": {
      "application/vnd.jupyter.widget-view+json": {
       "model_id": "42c4700e2ad44964bef5936a7ce290e9",
       "version_major": 2,
       "version_minor": 0
      },
      "text/plain": [
       "  0%|          | Fold : 0/10 [00:00<?,       ?it/s]"
      ]
     },
     "metadata": {},
     "output_type": "display_data"
    },
    {
     "data": {
      "application/vnd.jupyter.widget-view+json": {
       "model_id": "6dc6b19b527c49c3854ed8e9b59b47d5",
       "version_major": 2,
       "version_minor": 0
      },
      "text/plain": [
       "  0%|          | Repairing epochs : 0/122 [00:00<?,       ?it/s]"
      ]
     },
     "metadata": {},
     "output_type": "display_data"
    },
    {
     "data": {
      "application/vnd.jupyter.widget-view+json": {
       "model_id": "599be6eb6d9e4fd699f0a26abb361725",
       "version_major": 2,
       "version_minor": 0
      },
      "text/plain": [
       "  0%|          | Fold : 0/10 [00:00<?,       ?it/s]"
      ]
     },
     "metadata": {},
     "output_type": "display_data"
    },
    {
     "data": {
      "application/vnd.jupyter.widget-view+json": {
       "model_id": "2ea33ae7db9a46a49822be980594e1aa",
       "version_major": 2,
       "version_minor": 0
      },
      "text/plain": [
       "  0%|          | Repairing epochs : 0/122 [00:00<?,       ?it/s]"
      ]
     },
     "metadata": {},
     "output_type": "display_data"
    },
    {
     "data": {
      "application/vnd.jupyter.widget-view+json": {
       "model_id": "ff0b8047fa754180971720cffd0805f7",
       "version_major": 2,
       "version_minor": 0
      },
      "text/plain": [
       "  0%|          | Fold : 0/10 [00:00<?,       ?it/s]"
      ]
     },
     "metadata": {},
     "output_type": "display_data"
    },
    {
     "name": "stdout",
     "output_type": "stream",
     "text": [
      "\n",
      "\n",
      "\n",
      "\n",
      "Estimated consensus=0.90 and n_interpolate=32\n"
     ]
    },
    {
     "data": {
      "application/vnd.jupyter.widget-view+json": {
       "model_id": "c5b973f2f32e479ea6285241577cd24b",
       "version_major": 2,
       "version_minor": 0
      },
      "text/plain": [
       "  0%|          | Repairing epochs : 0/122 [00:00<?,       ?it/s]"
      ]
     },
     "metadata": {},
     "output_type": "display_data"
    },
    {
     "name": "stdout",
     "output_type": "stream",
     "text": [
      "No bad epochs were found for your data. Returning a copy of the data you wanted to clean. Interpolation may have been done.\n",
      "Estimating rejection dictionary for eeg\n"
     ]
    },
    {
     "data": {
      "application/vnd.jupyter.widget-view+json": {
       "model_id": "8a34f233c0204bad82a32a9eb574a686",
       "version_major": 2,
       "version_minor": 0
      },
      "text/plain": [
       "  0%|          | interpolating channels : 0/50 [00:00<?,       ?it/s]"
      ]
     },
     "metadata": {},
     "output_type": "display_data"
    },
    {
     "name": "stderr",
     "output_type": "stream",
     "text": [
      "[Parallel(n_jobs=1)]: Done   1 tasks      | elapsed:    0.1s\n",
      "[Parallel(n_jobs=1)]: Done   1 tasks      | elapsed:    0.1s\n"
     ]
    },
    {
     "data": {
      "application/vnd.jupyter.widget-view+json": {
       "model_id": "17361a39437f481fbe19e8b92f0a0acf",
       "version_major": 2,
       "version_minor": 0
      },
      "text/plain": [
       "  0%|          | Iterating epochs : 0/122 [00:00<?,       ?it/s]"
      ]
     },
     "metadata": {},
     "output_type": "display_data"
    },
    {
     "name": "stdout",
     "output_type": "stream",
     "text": [
      "[Done]\n",
      "Setting channel interpolation method to {'eeg': 'spline'}.\n",
      "Interpolating bad channels.\n",
      "    Automatic origin fit: head of radius 95.0 mm\n",
      "Computing interpolation matrix from 63 sensor positions\n",
      "Interpolating 1 sensors\n",
      "0 bad epochs dropped\n"
     ]
    },
    {
     "name": "stderr",
     "output_type": "stream",
     "text": [
      "[Parallel(n_jobs=1)]: Done   1 tasks      | elapsed:    4.5s\n",
      "[Parallel(n_jobs=1)]: Done   1 tasks      | elapsed:    4.5s\n",
      "/tmp/ipykernel_97582/156053950.py:238: UserWarning: This figure includes Axes that are not compatible with tight_layout, so results might be incorrect.\n",
      "  plt.tight_layout()\n"
     ]
    },
    {
     "name": "stdout",
     "output_type": "stream",
     "text": [
      "Not setting metadata\n",
      "242 matching events found\n",
      "No baseline correction applied\n",
      "Saved combined epochs to epochs/internal_task/sub-060_epo.fif\n",
      "\n",
      "##### Preprocessing subject 061 #####\n",
      "Extracting EDF parameters from /home/sivert/Documents/Specialization_project/Datasets/ds003969/sub-061/eeg/sub-061_task-med2_eeg.bdf...\n",
      "BDF file detected\n",
      "Setting channel info structure...\n",
      "Creating raw.info structure...\n",
      "Reading 0 ... 619519  =      0.000 ...   604.999 secs...\n",
      "Loaded BDF file for task 'med2': /home/sivert/Documents/Specialization_project/Datasets/ds003969/sub-061/eeg/sub-061_task-med2_eeg.bdf\n",
      "Loaded metadata JSON for task 'med2'\n",
      "Loaded metadata TSV for task 'med2'\n",
      "Extracting EDF parameters from /home/sivert/Documents/Specialization_project/Datasets/ds003969/sub-061/eeg/sub-061_task-think2_eeg.bdf...\n",
      "BDF file detected\n",
      "Setting channel info structure...\n",
      "Creating raw.info structure...\n",
      "Reading 0 ... 620543  =      0.000 ...   605.999 secs...\n",
      "Loaded BDF file for task 'think2': /home/sivert/Documents/Specialization_project/Datasets/ds003969/sub-061/eeg/sub-061_task-think2_eeg.bdf\n",
      "Loaded metadata JSON for task 'think2'\n",
      "Loaded metadata TSV for task 'think2'\n",
      "\n",
      "##### Channel types #####\n",
      "['Fp1', 'AF7', 'AF3', 'F1', 'F3', 'F5', 'F7', 'FT7', 'FC5', 'FC3', 'FC1', 'C1', 'C3', 'C5', 'T7', 'TP7', 'CP5', 'CP3', 'CP1', 'P1', 'P3', 'P5', 'P7', 'P9', 'PO7', 'PO3', 'O1', 'Iz', 'Oz', 'POz', 'Pz', 'CPz', 'Fpz', 'Fp2', 'AF8', 'AF4', 'AFz', 'Fz', 'F2', 'F4', 'F6', 'F8', 'FT8', 'FC6', 'FC4', 'FC2', 'FCz', 'Cz', 'C2', 'C4', 'C6', 'T8', 'TP8', 'CP6', 'CP4', 'CP2', 'P2', 'P4', 'P6', 'P8', 'P10', 'PO8', 'PO4', 'O2']\n",
      "Bad channels in meditation block: []\n",
      "Bad channels in thinking block: []\n",
      "Setting channel interpolation method to {'eeg': 'spline'}.\n",
      "Setting channel interpolation method to {'eeg': 'spline'}.\n",
      "[]\n",
      "[]\n",
      "\n",
      "##### Downsampling #####\n"
     ]
    },
    {
     "name": "stderr",
     "output_type": "stream",
     "text": [
      "/tmp/ipykernel_97582/156053950.py:33: RuntimeWarning: The unit for channel(s) EXG1, EXG2, EXG3, EXG4, EXG5, EXG6, EXG7, EXG8, Erg1, Erg2, GSR1, GSR2 has changed from V to NA.\n",
      "  raw_med.set_channel_types({'EXG1': 'misc',\n",
      "/tmp/ipykernel_97582/156053950.py:49: RuntimeWarning: The unit for channel(s) EXG1, EXG2, EXG3, EXG4, EXG5, EXG6, EXG7, EXG8, Erg1, Erg2, GSR1, GSR2 has changed from V to NA.\n",
      "  raw_mw.set_channel_types({'EXG1': 'misc',\n",
      "/tmp/ipykernel_97582/156053950.py:90: RuntimeWarning: No bad channels to interpolate. Doing nothing...\n",
      "  raw_med.interpolate_bads()\n",
      "/tmp/ipykernel_97582/156053950.py:91: RuntimeWarning: No bad channels to interpolate. Doing nothing...\n",
      "  raw_mw.interpolate_bads()\n"
     ]
    },
    {
     "name": "stdout",
     "output_type": "stream",
     "text": [
      "New sampling frequency: 128.0 Hz\n",
      "\n",
      "##### Averaging and filtering raw data #####\n",
      "1 (FIFFV_MNE_CUSTOM_REF_ON)\n",
      "1 (FIFFV_MNE_CUSTOM_REF_ON)\n",
      "NOTE: plot_psd() is a legacy function. New code should use .compute_psd().plot().\n",
      "Effective window size : 16.000 (s)\n",
      "Plotting power spectral density (dB=True).\n",
      "NOTE: plot_psd() is a legacy function. New code should use .compute_psd().plot().\n",
      "Effective window size : 16.000 (s)\n",
      "Plotting power spectral density (dB=True).\n",
      "Not setting metadata\n",
      "121 matching events found\n",
      "No baseline correction applied\n",
      "0 projection items activated\n",
      "Using data from preloaded Raw for 121 events and 641 original time points ...\n",
      "1 bad epochs dropped\n",
      "\n",
      "##### Autorejecting bad epochs #####\n",
      "Running autoreject on ch_type=eeg\n"
     ]
    },
    {
     "data": {
      "application/vnd.jupyter.widget-view+json": {
       "model_id": "52ff2efe5f0e409c845b5f6fb80df839",
       "version_major": 2,
       "version_minor": 0
      },
      "text/plain": [
       "  0%|          | Creating augmented epochs : 0/64 [00:00<?,       ?it/s]"
      ]
     },
     "metadata": {},
     "output_type": "display_data"
    },
    {
     "data": {
      "application/vnd.jupyter.widget-view+json": {
       "model_id": "d7f634116e3c451fa2c812d02497d952",
       "version_major": 2,
       "version_minor": 0
      },
      "text/plain": [
       "  0%|          | Computing thresholds ... : 0/64 [00:00<?,       ?it/s]"
      ]
     },
     "metadata": {},
     "output_type": "display_data"
    },
    {
     "data": {
      "application/vnd.jupyter.widget-view+json": {
       "model_id": "e68d17a1d37f4fd8a1cd93f113097be7",
       "version_major": 2,
       "version_minor": 0
      },
      "text/plain": [
       "  0%|          | Repairing epochs : 0/120 [00:00<?,       ?it/s]"
      ]
     },
     "metadata": {},
     "output_type": "display_data"
    },
    {
     "data": {
      "application/vnd.jupyter.widget-view+json": {
       "model_id": "0506ef96d3a84a3e800afc35c897506f",
       "version_major": 2,
       "version_minor": 0
      },
      "text/plain": [
       "  0%|          | n_interp : 0/3 [00:00<?,       ?it/s]"
      ]
     },
     "metadata": {},
     "output_type": "display_data"
    },
    {
     "data": {
      "application/vnd.jupyter.widget-view+json": {
       "model_id": "1fa7c25c3a42481b851ca3ecdd6f6b3d",
       "version_major": 2,
       "version_minor": 0
      },
      "text/plain": [
       "  0%|          | Repairing epochs : 0/120 [00:00<?,       ?it/s]"
      ]
     },
     "metadata": {},
     "output_type": "display_data"
    },
    {
     "data": {
      "application/vnd.jupyter.widget-view+json": {
       "model_id": "5fbdce0cbf74438e91e9995dd9554b5d",
       "version_major": 2,
       "version_minor": 0
      },
      "text/plain": [
       "  0%|          | Fold : 0/10 [00:00<?,       ?it/s]"
      ]
     },
     "metadata": {},
     "output_type": "display_data"
    },
    {
     "data": {
      "application/vnd.jupyter.widget-view+json": {
       "model_id": "b24e988df81a47bdbd86ca00fcb42b57",
       "version_major": 2,
       "version_minor": 0
      },
      "text/plain": [
       "  0%|          | Repairing epochs : 0/120 [00:00<?,       ?it/s]"
      ]
     },
     "metadata": {},
     "output_type": "display_data"
    },
    {
     "data": {
      "application/vnd.jupyter.widget-view+json": {
       "model_id": "bee3405243374404b63312de642da1d9",
       "version_major": 2,
       "version_minor": 0
      },
      "text/plain": [
       "  0%|          | Fold : 0/10 [00:00<?,       ?it/s]"
      ]
     },
     "metadata": {},
     "output_type": "display_data"
    },
    {
     "data": {
      "application/vnd.jupyter.widget-view+json": {
       "model_id": "03b0629850dd464492c14e1f0b9dfcd4",
       "version_major": 2,
       "version_minor": 0
      },
      "text/plain": [
       "  0%|          | Repairing epochs : 0/120 [00:00<?,       ?it/s]"
      ]
     },
     "metadata": {},
     "output_type": "display_data"
    },
    {
     "data": {
      "application/vnd.jupyter.widget-view+json": {
       "model_id": "06b7f44a617c4cf5923bceb36ddd57bd",
       "version_major": 2,
       "version_minor": 0
      },
      "text/plain": [
       "  0%|          | Fold : 0/10 [00:00<?,       ?it/s]"
      ]
     },
     "metadata": {},
     "output_type": "display_data"
    },
    {
     "name": "stdout",
     "output_type": "stream",
     "text": [
      "\n",
      "\n",
      "\n",
      "\n",
      "Estimated consensus=0.90 and n_interpolate=32\n"
     ]
    },
    {
     "data": {
      "application/vnd.jupyter.widget-view+json": {
       "model_id": "d18d0c5db2044542a081a8402be4666c",
       "version_major": 2,
       "version_minor": 0
      },
      "text/plain": [
       "  0%|          | Repairing epochs : 0/120 [00:00<?,       ?it/s]"
      ]
     },
     "metadata": {},
     "output_type": "display_data"
    },
    {
     "name": "stdout",
     "output_type": "stream",
     "text": [
      "No bad epochs were found for your data. Returning a copy of the data you wanted to clean. Interpolation may have been done.\n",
      "Estimating rejection dictionary for eeg\n"
     ]
    },
    {
     "data": {
      "application/vnd.jupyter.widget-view+json": {
       "model_id": "f4d4a472b30643948c52d826dc505da3",
       "version_major": 2,
       "version_minor": 0
      },
      "text/plain": [
       "  0%|          | interpolating channels : 0/50 [00:00<?,       ?it/s]"
      ]
     },
     "metadata": {},
     "output_type": "display_data"
    },
    {
     "name": "stderr",
     "output_type": "stream",
     "text": [
      "[Parallel(n_jobs=1)]: Done   1 tasks      | elapsed:    0.1s\n",
      "[Parallel(n_jobs=1)]: Done   1 tasks      | elapsed:    0.1s\n"
     ]
    },
    {
     "data": {
      "application/vnd.jupyter.widget-view+json": {
       "model_id": "48311983f0a34dcd91ad19f98c16230d",
       "version_major": 2,
       "version_minor": 0
      },
      "text/plain": [
       "  0%|          | Iterating epochs : 0/120 [00:00<?,       ?it/s]"
      ]
     },
     "metadata": {},
     "output_type": "display_data"
    },
    {
     "name": "stdout",
     "output_type": "stream",
     "text": [
      "[Done]\n",
      "Setting channel interpolation method to {'eeg': 'spline'}.\n",
      "Interpolating bad channels.\n",
      "    Automatic origin fit: head of radius 95.0 mm\n",
      "Computing interpolation matrix from 62 sensor positions\n",
      "Interpolating 2 sensors\n",
      "0 bad epochs dropped\n"
     ]
    },
    {
     "name": "stderr",
     "output_type": "stream",
     "text": [
      "[Parallel(n_jobs=1)]: Done   1 tasks      | elapsed:    4.5s\n",
      "[Parallel(n_jobs=1)]: Done   1 tasks      | elapsed:    4.5s\n",
      "/tmp/ipykernel_97582/156053950.py:185: UserWarning: This figure includes Axes that are not compatible with tight_layout, so results might be incorrect.\n",
      "  plt.tight_layout()\n"
     ]
    },
    {
     "name": "stdout",
     "output_type": "stream",
     "text": [
      "NOTE: plot_psd() is a legacy function. New code should use .compute_psd().plot().\n",
      "    Using multitaper spectrum estimation with 7 DPSS windows\n",
      "Plotting power spectral density (dB=True).\n",
      "Averaging across epochs before plotting...\n",
      "Not setting metadata\n",
      "122 matching events found\n",
      "No baseline correction applied\n",
      "0 projection items activated\n",
      "Using data from preloaded Raw for 122 events and 641 original time points ...\n",
      "1 bad epochs dropped\n",
      "\n",
      "##### Autorejecting bad epochs #####\n",
      "Running autoreject on ch_type=eeg\n"
     ]
    },
    {
     "data": {
      "application/vnd.jupyter.widget-view+json": {
       "model_id": "67464a0dac0c445d820d156b2920b612",
       "version_major": 2,
       "version_minor": 0
      },
      "text/plain": [
       "  0%|          | Creating augmented epochs : 0/64 [00:00<?,       ?it/s]"
      ]
     },
     "metadata": {},
     "output_type": "display_data"
    },
    {
     "data": {
      "application/vnd.jupyter.widget-view+json": {
       "model_id": "3cce0b79c6774f4097605a31b50d6a3d",
       "version_major": 2,
       "version_minor": 0
      },
      "text/plain": [
       "  0%|          | Computing thresholds ... : 0/64 [00:00<?,       ?it/s]"
      ]
     },
     "metadata": {},
     "output_type": "display_data"
    },
    {
     "data": {
      "application/vnd.jupyter.widget-view+json": {
       "model_id": "b64320668efc4fa8aa7c033be2380467",
       "version_major": 2,
       "version_minor": 0
      },
      "text/plain": [
       "  0%|          | Repairing epochs : 0/121 [00:00<?,       ?it/s]"
      ]
     },
     "metadata": {},
     "output_type": "display_data"
    },
    {
     "data": {
      "application/vnd.jupyter.widget-view+json": {
       "model_id": "b46e2d46fa664376a005c1253cd11467",
       "version_major": 2,
       "version_minor": 0
      },
      "text/plain": [
       "  0%|          | n_interp : 0/3 [00:00<?,       ?it/s]"
      ]
     },
     "metadata": {},
     "output_type": "display_data"
    },
    {
     "data": {
      "application/vnd.jupyter.widget-view+json": {
       "model_id": "9a7656547ded4c98b48c5d992d9bdfce",
       "version_major": 2,
       "version_minor": 0
      },
      "text/plain": [
       "  0%|          | Repairing epochs : 0/121 [00:00<?,       ?it/s]"
      ]
     },
     "metadata": {},
     "output_type": "display_data"
    },
    {
     "data": {
      "application/vnd.jupyter.widget-view+json": {
       "model_id": "2ca571ff027745d2bd67e93b06e0de85",
       "version_major": 2,
       "version_minor": 0
      },
      "text/plain": [
       "  0%|          | Fold : 0/10 [00:00<?,       ?it/s]"
      ]
     },
     "metadata": {},
     "output_type": "display_data"
    },
    {
     "data": {
      "application/vnd.jupyter.widget-view+json": {
       "model_id": "ebc5f95265874947bb5a85a0fa0f3a1b",
       "version_major": 2,
       "version_minor": 0
      },
      "text/plain": [
       "  0%|          | Repairing epochs : 0/121 [00:00<?,       ?it/s]"
      ]
     },
     "metadata": {},
     "output_type": "display_data"
    },
    {
     "data": {
      "application/vnd.jupyter.widget-view+json": {
       "model_id": "57597506fcd44a528ee7fd7fd6bc6376",
       "version_major": 2,
       "version_minor": 0
      },
      "text/plain": [
       "  0%|          | Fold : 0/10 [00:00<?,       ?it/s]"
      ]
     },
     "metadata": {},
     "output_type": "display_data"
    },
    {
     "data": {
      "application/vnd.jupyter.widget-view+json": {
       "model_id": "2f6b00eb2cb34693ae8ad3feaf0cc33f",
       "version_major": 2,
       "version_minor": 0
      },
      "text/plain": [
       "  0%|          | Repairing epochs : 0/121 [00:00<?,       ?it/s]"
      ]
     },
     "metadata": {},
     "output_type": "display_data"
    },
    {
     "data": {
      "application/vnd.jupyter.widget-view+json": {
       "model_id": "75e3a80b7b56435f969d8625e4e313e3",
       "version_major": 2,
       "version_minor": 0
      },
      "text/plain": [
       "  0%|          | Fold : 0/10 [00:00<?,       ?it/s]"
      ]
     },
     "metadata": {},
     "output_type": "display_data"
    },
    {
     "name": "stdout",
     "output_type": "stream",
     "text": [
      "\n",
      "\n",
      "\n",
      "\n",
      "Estimated consensus=0.80 and n_interpolate=32\n"
     ]
    },
    {
     "data": {
      "application/vnd.jupyter.widget-view+json": {
       "model_id": "44116675f4fb4a08b678a0bde16f8f02",
       "version_major": 2,
       "version_minor": 0
      },
      "text/plain": [
       "  0%|          | Repairing epochs : 0/121 [00:00<?,       ?it/s]"
      ]
     },
     "metadata": {},
     "output_type": "display_data"
    },
    {
     "name": "stdout",
     "output_type": "stream",
     "text": [
      "Dropped 1 epoch: 68\n",
      "Estimating rejection dictionary for eeg\n"
     ]
    },
    {
     "data": {
      "application/vnd.jupyter.widget-view+json": {
       "model_id": "58bbf4bbb3cb4df9a16197956507f67e",
       "version_major": 2,
       "version_minor": 0
      },
      "text/plain": [
       "  0%|          | interpolating channels : 0/50 [00:00<?,       ?it/s]"
      ]
     },
     "metadata": {},
     "output_type": "display_data"
    },
    {
     "name": "stderr",
     "output_type": "stream",
     "text": [
      "[Parallel(n_jobs=1)]: Done   1 tasks      | elapsed:    0.1s\n",
      "[Parallel(n_jobs=1)]: Done   1 tasks      | elapsed:    0.1s\n"
     ]
    },
    {
     "data": {
      "application/vnd.jupyter.widget-view+json": {
       "model_id": "8ba181c4d06a4edab7cfc33a66c6302e",
       "version_major": 2,
       "version_minor": 0
      },
      "text/plain": [
       "  0%|          | Iterating epochs : 0/120 [00:00<?,       ?it/s]"
      ]
     },
     "metadata": {},
     "output_type": "display_data"
    },
    {
     "name": "stdout",
     "output_type": "stream",
     "text": [
      "[Done]\n",
      "Setting channel interpolation method to {'eeg': 'spline'}.\n",
      "Interpolating bad channels.\n",
      "    Automatic origin fit: head of radius 95.0 mm\n",
      "Computing interpolation matrix from 62 sensor positions\n",
      "Interpolating 2 sensors\n",
      "0 bad epochs dropped\n"
     ]
    },
    {
     "name": "stderr",
     "output_type": "stream",
     "text": [
      "[Parallel(n_jobs=1)]: Done   1 tasks      | elapsed:    4.4s\n",
      "[Parallel(n_jobs=1)]: Done   1 tasks      | elapsed:    4.4s\n",
      "/tmp/ipykernel_97582/156053950.py:238: UserWarning: This figure includes Axes that are not compatible with tight_layout, so results might be incorrect.\n",
      "  plt.tight_layout()\n"
     ]
    },
    {
     "name": "stdout",
     "output_type": "stream",
     "text": [
      "Not setting metadata\n",
      "240 matching events found\n",
      "No baseline correction applied\n",
      "Saved combined epochs to epochs/internal_task/sub-061_epo.fif\n",
      "\n",
      "##### Preprocessing subject 062 #####\n",
      "Extracting EDF parameters from /home/sivert/Documents/Specialization_project/Datasets/ds003969/sub-062/eeg/sub-062_task-med2_eeg.bdf...\n",
      "BDF file detected\n",
      "Setting channel info structure...\n",
      "Creating raw.info structure...\n",
      "Reading 0 ... 615423  =      0.000 ...   600.999 secs...\n",
      "Loaded BDF file for task 'med2': /home/sivert/Documents/Specialization_project/Datasets/ds003969/sub-062/eeg/sub-062_task-med2_eeg.bdf\n",
      "Loaded metadata JSON for task 'med2'\n",
      "Loaded metadata TSV for task 'med2'\n",
      "Extracting EDF parameters from /home/sivert/Documents/Specialization_project/Datasets/ds003969/sub-062/eeg/sub-062_task-think2_eeg.bdf...\n",
      "BDF file detected\n",
      "Setting channel info structure...\n",
      "Creating raw.info structure...\n",
      "Reading 0 ... 619519  =      0.000 ...   604.999 secs...\n",
      "Loaded BDF file for task 'think2': /home/sivert/Documents/Specialization_project/Datasets/ds003969/sub-062/eeg/sub-062_task-think2_eeg.bdf\n",
      "Loaded metadata JSON for task 'think2'\n",
      "Loaded metadata TSV for task 'think2'\n",
      "\n",
      "##### Channel types #####\n",
      "['Fp1', 'AF7', 'AF3', 'F1', 'F3', 'F5', 'F7', 'FT7', 'FC5', 'FC3', 'FC1', 'C1', 'C3', 'C5', 'T7', 'TP7', 'CP5', 'CP3', 'CP1', 'P1', 'P3', 'P5', 'P7', 'P9', 'PO7', 'PO3', 'O1', 'Iz', 'Oz', 'POz', 'Pz', 'CPz', 'Fpz', 'Fp2', 'AF8', 'AF4', 'AFz', 'Fz', 'F2', 'F4', 'F6', 'F8', 'FT8', 'FC6', 'FC4', 'FC2', 'FCz', 'Cz', 'C2', 'C4', 'C6', 'T8', 'TP8', 'CP6', 'CP4', 'CP2', 'P2', 'P4', 'P6', 'P8', 'P10', 'PO8', 'PO4', 'O2']\n",
      "Bad channels in meditation block: []\n",
      "Bad channels in thinking block: []\n",
      "Setting channel interpolation method to {'eeg': 'spline'}.\n",
      "Setting channel interpolation method to {'eeg': 'spline'}.\n",
      "[]\n",
      "[]\n",
      "\n",
      "##### Downsampling #####\n"
     ]
    },
    {
     "name": "stderr",
     "output_type": "stream",
     "text": [
      "/tmp/ipykernel_97582/156053950.py:33: RuntimeWarning: The unit for channel(s) EXG1, EXG2, EXG3, EXG4, EXG5, EXG6, EXG7, EXG8, Erg1, Erg2, GSR1, GSR2 has changed from V to NA.\n",
      "  raw_med.set_channel_types({'EXG1': 'misc',\n",
      "/tmp/ipykernel_97582/156053950.py:49: RuntimeWarning: The unit for channel(s) EXG1, EXG2, EXG3, EXG4, EXG5, EXG6, EXG7, EXG8, Erg1, Erg2, GSR1, GSR2 has changed from V to NA.\n",
      "  raw_mw.set_channel_types({'EXG1': 'misc',\n",
      "/tmp/ipykernel_97582/156053950.py:90: RuntimeWarning: No bad channels to interpolate. Doing nothing...\n",
      "  raw_med.interpolate_bads()\n",
      "/tmp/ipykernel_97582/156053950.py:91: RuntimeWarning: No bad channels to interpolate. Doing nothing...\n",
      "  raw_mw.interpolate_bads()\n"
     ]
    },
    {
     "name": "stdout",
     "output_type": "stream",
     "text": [
      "New sampling frequency: 128.0 Hz\n",
      "\n",
      "##### Averaging and filtering raw data #####\n",
      "1 (FIFFV_MNE_CUSTOM_REF_ON)\n",
      "1 (FIFFV_MNE_CUSTOM_REF_ON)\n",
      "NOTE: plot_psd() is a legacy function. New code should use .compute_psd().plot().\n",
      "Effective window size : 16.000 (s)\n",
      "Plotting power spectral density (dB=True).\n",
      "NOTE: plot_psd() is a legacy function. New code should use .compute_psd().plot().\n",
      "Effective window size : 16.000 (s)\n",
      "Plotting power spectral density (dB=True).\n",
      "Not setting metadata\n",
      "121 matching events found\n",
      "No baseline correction applied\n",
      "0 projection items activated\n",
      "Using data from preloaded Raw for 121 events and 641 original time points ...\n",
      "1 bad epochs dropped\n",
      "\n",
      "##### Autorejecting bad epochs #####\n",
      "Running autoreject on ch_type=eeg\n"
     ]
    },
    {
     "data": {
      "application/vnd.jupyter.widget-view+json": {
       "model_id": "7ab9d805eb5043c7a18bf433bd1a046d",
       "version_major": 2,
       "version_minor": 0
      },
      "text/plain": [
       "  0%|          | Creating augmented epochs : 0/64 [00:00<?,       ?it/s]"
      ]
     },
     "metadata": {},
     "output_type": "display_data"
    },
    {
     "data": {
      "application/vnd.jupyter.widget-view+json": {
       "model_id": "10db4c92753c47aa9f280736913d2505",
       "version_major": 2,
       "version_minor": 0
      },
      "text/plain": [
       "  0%|          | Computing thresholds ... : 0/64 [00:00<?,       ?it/s]"
      ]
     },
     "metadata": {},
     "output_type": "display_data"
    },
    {
     "data": {
      "application/vnd.jupyter.widget-view+json": {
       "model_id": "fb46d8bf8fdc48b99483310338899881",
       "version_major": 2,
       "version_minor": 0
      },
      "text/plain": [
       "  0%|          | Repairing epochs : 0/120 [00:00<?,       ?it/s]"
      ]
     },
     "metadata": {},
     "output_type": "display_data"
    },
    {
     "data": {
      "application/vnd.jupyter.widget-view+json": {
       "model_id": "258229babe524d448747354542409838",
       "version_major": 2,
       "version_minor": 0
      },
      "text/plain": [
       "  0%|          | n_interp : 0/3 [00:00<?,       ?it/s]"
      ]
     },
     "metadata": {},
     "output_type": "display_data"
    },
    {
     "data": {
      "application/vnd.jupyter.widget-view+json": {
       "model_id": "659a9d471f9941e48499570f519ed3ff",
       "version_major": 2,
       "version_minor": 0
      },
      "text/plain": [
       "  0%|          | Repairing epochs : 0/120 [00:00<?,       ?it/s]"
      ]
     },
     "metadata": {},
     "output_type": "display_data"
    },
    {
     "data": {
      "application/vnd.jupyter.widget-view+json": {
       "model_id": "8a56817b6ba74d5fb7049d05ffeca0f0",
       "version_major": 2,
       "version_minor": 0
      },
      "text/plain": [
       "  0%|          | Fold : 0/10 [00:00<?,       ?it/s]"
      ]
     },
     "metadata": {},
     "output_type": "display_data"
    },
    {
     "data": {
      "application/vnd.jupyter.widget-view+json": {
       "model_id": "878356fa84074aa68cb8c9f078bf44f6",
       "version_major": 2,
       "version_minor": 0
      },
      "text/plain": [
       "  0%|          | Repairing epochs : 0/120 [00:00<?,       ?it/s]"
      ]
     },
     "metadata": {},
     "output_type": "display_data"
    },
    {
     "data": {
      "application/vnd.jupyter.widget-view+json": {
       "model_id": "e35feeebfe6b468b9d3d1573943856bd",
       "version_major": 2,
       "version_minor": 0
      },
      "text/plain": [
       "  0%|          | Fold : 0/10 [00:00<?,       ?it/s]"
      ]
     },
     "metadata": {},
     "output_type": "display_data"
    },
    {
     "data": {
      "application/vnd.jupyter.widget-view+json": {
       "model_id": "9ee3cae7607647f894bd10bd7a43268f",
       "version_major": 2,
       "version_minor": 0
      },
      "text/plain": [
       "  0%|          | Repairing epochs : 0/120 [00:00<?,       ?it/s]"
      ]
     },
     "metadata": {},
     "output_type": "display_data"
    },
    {
     "data": {
      "application/vnd.jupyter.widget-view+json": {
       "model_id": "78aebdd0455343529dc3c2b37c909205",
       "version_major": 2,
       "version_minor": 0
      },
      "text/plain": [
       "  0%|          | Fold : 0/10 [00:00<?,       ?it/s]"
      ]
     },
     "metadata": {},
     "output_type": "display_data"
    },
    {
     "name": "stdout",
     "output_type": "stream",
     "text": [
      "\n",
      "\n",
      "\n",
      "\n",
      "Estimated consensus=0.60 and n_interpolate=32\n"
     ]
    },
    {
     "data": {
      "application/vnd.jupyter.widget-view+json": {
       "model_id": "ad195fc788f549a99372438939ccb192",
       "version_major": 2,
       "version_minor": 0
      },
      "text/plain": [
       "  0%|          | Repairing epochs : 0/120 [00:00<?,       ?it/s]"
      ]
     },
     "metadata": {},
     "output_type": "display_data"
    },
    {
     "name": "stdout",
     "output_type": "stream",
     "text": [
      "No bad epochs were found for your data. Returning a copy of the data you wanted to clean. Interpolation may have been done.\n",
      "Estimating rejection dictionary for eeg\n"
     ]
    },
    {
     "data": {
      "application/vnd.jupyter.widget-view+json": {
       "model_id": "6aa3ebd7cb5f46b7a92870155300f234",
       "version_major": 2,
       "version_minor": 0
      },
      "text/plain": [
       "  0%|          | interpolating channels : 0/50 [00:00<?,       ?it/s]"
      ]
     },
     "metadata": {},
     "output_type": "display_data"
    },
    {
     "name": "stderr",
     "output_type": "stream",
     "text": [
      "[Parallel(n_jobs=1)]: Done   1 tasks      | elapsed:    0.1s\n",
      "[Parallel(n_jobs=1)]: Done   1 tasks      | elapsed:    0.1s\n"
     ]
    },
    {
     "data": {
      "application/vnd.jupyter.widget-view+json": {
       "model_id": "1121df4bd6354fecad6521c9833c5bc6",
       "version_major": 2,
       "version_minor": 0
      },
      "text/plain": [
       "  0%|          | Iterating epochs : 0/120 [00:00<?,       ?it/s]"
      ]
     },
     "metadata": {},
     "output_type": "display_data"
    },
    {
     "name": "stdout",
     "output_type": "stream",
     "text": [
      "[Done]\n",
      "Setting channel interpolation method to {'eeg': 'spline'}.\n",
      "Interpolating bad channels.\n",
      "    Automatic origin fit: head of radius 95.0 mm\n",
      "Computing interpolation matrix from 61 sensor positions\n",
      "Interpolating 3 sensors\n",
      "0 bad epochs dropped\n"
     ]
    },
    {
     "name": "stderr",
     "output_type": "stream",
     "text": [
      "[Parallel(n_jobs=1)]: Done   1 tasks      | elapsed:    4.4s\n",
      "[Parallel(n_jobs=1)]: Done   1 tasks      | elapsed:    4.4s\n",
      "/tmp/ipykernel_97582/156053950.py:185: UserWarning: This figure includes Axes that are not compatible with tight_layout, so results might be incorrect.\n",
      "  plt.tight_layout()\n"
     ]
    },
    {
     "name": "stdout",
     "output_type": "stream",
     "text": [
      "NOTE: plot_psd() is a legacy function. New code should use .compute_psd().plot().\n",
      "    Using multitaper spectrum estimation with 7 DPSS windows\n",
      "Plotting power spectral density (dB=True).\n",
      "Averaging across epochs before plotting...\n",
      "Not setting metadata\n",
      "121 matching events found\n",
      "No baseline correction applied\n",
      "0 projection items activated\n",
      "Using data from preloaded Raw for 121 events and 641 original time points ...\n",
      "1 bad epochs dropped\n",
      "\n",
      "##### Autorejecting bad epochs #####\n",
      "Running autoreject on ch_type=eeg\n"
     ]
    },
    {
     "data": {
      "application/vnd.jupyter.widget-view+json": {
       "model_id": "f6bb94bc1a6e4600a3c2fb3d3ac8ff87",
       "version_major": 2,
       "version_minor": 0
      },
      "text/plain": [
       "  0%|          | Creating augmented epochs : 0/64 [00:00<?,       ?it/s]"
      ]
     },
     "metadata": {},
     "output_type": "display_data"
    },
    {
     "data": {
      "application/vnd.jupyter.widget-view+json": {
       "model_id": "4518c99ba10d4ff9a7f97cf3d632229b",
       "version_major": 2,
       "version_minor": 0
      },
      "text/plain": [
       "  0%|          | Computing thresholds ... : 0/64 [00:00<?,       ?it/s]"
      ]
     },
     "metadata": {},
     "output_type": "display_data"
    },
    {
     "data": {
      "application/vnd.jupyter.widget-view+json": {
       "model_id": "b5b2bcd629994a33acb9c3f2bfe67b86",
       "version_major": 2,
       "version_minor": 0
      },
      "text/plain": [
       "  0%|          | Repairing epochs : 0/120 [00:00<?,       ?it/s]"
      ]
     },
     "metadata": {},
     "output_type": "display_data"
    },
    {
     "data": {
      "application/vnd.jupyter.widget-view+json": {
       "model_id": "05c76ffa377a46a1be83a031d493cd8e",
       "version_major": 2,
       "version_minor": 0
      },
      "text/plain": [
       "  0%|          | n_interp : 0/3 [00:00<?,       ?it/s]"
      ]
     },
     "metadata": {},
     "output_type": "display_data"
    },
    {
     "data": {
      "application/vnd.jupyter.widget-view+json": {
       "model_id": "160863eb26614a9cb668948ce932f358",
       "version_major": 2,
       "version_minor": 0
      },
      "text/plain": [
       "  0%|          | Repairing epochs : 0/120 [00:00<?,       ?it/s]"
      ]
     },
     "metadata": {},
     "output_type": "display_data"
    },
    {
     "data": {
      "application/vnd.jupyter.widget-view+json": {
       "model_id": "3d19187971144ed7a39db503c0ce0ce6",
       "version_major": 2,
       "version_minor": 0
      },
      "text/plain": [
       "  0%|          | Fold : 0/10 [00:00<?,       ?it/s]"
      ]
     },
     "metadata": {},
     "output_type": "display_data"
    },
    {
     "data": {
      "application/vnd.jupyter.widget-view+json": {
       "model_id": "10dace510af7450b939e648398528746",
       "version_major": 2,
       "version_minor": 0
      },
      "text/plain": [
       "  0%|          | Repairing epochs : 0/120 [00:00<?,       ?it/s]"
      ]
     },
     "metadata": {},
     "output_type": "display_data"
    },
    {
     "data": {
      "application/vnd.jupyter.widget-view+json": {
       "model_id": "359d8ce1d6c7408e9f263bcab16ba759",
       "version_major": 2,
       "version_minor": 0
      },
      "text/plain": [
       "  0%|          | Fold : 0/10 [00:00<?,       ?it/s]"
      ]
     },
     "metadata": {},
     "output_type": "display_data"
    },
    {
     "data": {
      "application/vnd.jupyter.widget-view+json": {
       "model_id": "4fd292b5625c4b808c95de6901d697b5",
       "version_major": 2,
       "version_minor": 0
      },
      "text/plain": [
       "  0%|          | Repairing epochs : 0/120 [00:00<?,       ?it/s]"
      ]
     },
     "metadata": {},
     "output_type": "display_data"
    },
    {
     "data": {
      "application/vnd.jupyter.widget-view+json": {
       "model_id": "0a1d14023edf43d28e3b8b1593abccaa",
       "version_major": 2,
       "version_minor": 0
      },
      "text/plain": [
       "  0%|          | Fold : 0/10 [00:00<?,       ?it/s]"
      ]
     },
     "metadata": {},
     "output_type": "display_data"
    },
    {
     "name": "stdout",
     "output_type": "stream",
     "text": [
      "\n",
      "\n",
      "\n",
      "\n",
      "Estimated consensus=0.60 and n_interpolate=32\n"
     ]
    },
    {
     "data": {
      "application/vnd.jupyter.widget-view+json": {
       "model_id": "405c89129dee4c458aea640d9d89e0ed",
       "version_major": 2,
       "version_minor": 0
      },
      "text/plain": [
       "  0%|          | Repairing epochs : 0/120 [00:00<?,       ?it/s]"
      ]
     },
     "metadata": {},
     "output_type": "display_data"
    },
    {
     "name": "stdout",
     "output_type": "stream",
     "text": [
      "No bad epochs were found for your data. Returning a copy of the data you wanted to clean. Interpolation may have been done.\n",
      "Estimating rejection dictionary for eeg\n"
     ]
    },
    {
     "data": {
      "application/vnd.jupyter.widget-view+json": {
       "model_id": "04347a38ae5c49ada66f770d7ac8fe40",
       "version_major": 2,
       "version_minor": 0
      },
      "text/plain": [
       "  0%|          | interpolating channels : 0/50 [00:00<?,       ?it/s]"
      ]
     },
     "metadata": {},
     "output_type": "display_data"
    },
    {
     "name": "stderr",
     "output_type": "stream",
     "text": [
      "[Parallel(n_jobs=1)]: Done   1 tasks      | elapsed:    0.1s\n",
      "[Parallel(n_jobs=1)]: Done   1 tasks      | elapsed:    0.1s\n"
     ]
    },
    {
     "data": {
      "application/vnd.jupyter.widget-view+json": {
       "model_id": "5d8086cb9313456fb09d9a4eb24390ff",
       "version_major": 2,
       "version_minor": 0
      },
      "text/plain": [
       "  0%|          | Iterating epochs : 0/120 [00:00<?,       ?it/s]"
      ]
     },
     "metadata": {},
     "output_type": "display_data"
    },
    {
     "name": "stdout",
     "output_type": "stream",
     "text": [
      "[Done]\n",
      "Setting channel interpolation method to {'eeg': 'spline'}.\n",
      "Interpolating bad channels.\n",
      "    Automatic origin fit: head of radius 95.0 mm\n",
      "Computing interpolation matrix from 61 sensor positions\n",
      "Interpolating 3 sensors\n",
      "0 bad epochs dropped\n"
     ]
    },
    {
     "name": "stderr",
     "output_type": "stream",
     "text": [
      "[Parallel(n_jobs=1)]: Done   1 tasks      | elapsed:    4.5s\n",
      "[Parallel(n_jobs=1)]: Done   1 tasks      | elapsed:    4.5s\n",
      "/tmp/ipykernel_97582/156053950.py:228: RuntimeWarning: More than 20 figures have been opened. Figures created through the pyplot interface (`matplotlib.pyplot.figure`) are retained until explicitly closed and may consume too much memory. (To control this warning, see the rcParam `figure.max_open_warning`). Consider using `matplotlib.pyplot.close()`.\n",
      "  fig, axes = plt.subplots(2, 1, figsize=(12, 6))  # 1 row, 2 columns\n",
      "/tmp/ipykernel_97582/156053950.py:238: UserWarning: This figure includes Axes that are not compatible with tight_layout, so results might be incorrect.\n",
      "  plt.tight_layout()\n"
     ]
    },
    {
     "name": "stdout",
     "output_type": "stream",
     "text": [
      "Not setting metadata\n",
      "240 matching events found\n",
      "No baseline correction applied\n",
      "Saved combined epochs to epochs/internal_task/sub-062_epo.fif\n",
      "\n",
      "##### Preprocessing subject 063 #####\n",
      "Extracting EDF parameters from /home/sivert/Documents/Specialization_project/Datasets/ds003969/sub-063/eeg/sub-063_task-med2_eeg.bdf...\n",
      "BDF file detected\n",
      "Setting channel info structure...\n",
      "Creating raw.info structure...\n",
      "Reading 0 ... 619519  =      0.000 ...   604.999 secs...\n",
      "Loaded BDF file for task 'med2': /home/sivert/Documents/Specialization_project/Datasets/ds003969/sub-063/eeg/sub-063_task-med2_eeg.bdf\n",
      "Loaded metadata JSON for task 'med2'\n",
      "Loaded metadata TSV for task 'med2'\n",
      "Extracting EDF parameters from /home/sivert/Documents/Specialization_project/Datasets/ds003969/sub-063/eeg/sub-063_task-think2_eeg.bdf...\n",
      "BDF file detected\n",
      "Setting channel info structure...\n",
      "Creating raw.info structure...\n",
      "Reading 0 ... 622591  =      0.000 ...   607.999 secs...\n",
      "Loaded BDF file for task 'think2': /home/sivert/Documents/Specialization_project/Datasets/ds003969/sub-063/eeg/sub-063_task-think2_eeg.bdf\n",
      "Loaded metadata JSON for task 'think2'\n",
      "Loaded metadata TSV for task 'think2'\n",
      "\n",
      "##### Channel types #####\n",
      "['Fp1', 'AF7', 'AF3', 'F1', 'F3', 'F5', 'F7', 'FT7', 'FC5', 'FC3', 'FC1', 'C1', 'C3', 'C5', 'T7', 'TP7', 'CP5', 'CP3', 'CP1', 'P1', 'P3', 'P5', 'P7', 'P9', 'PO7', 'PO3', 'O1', 'Iz', 'Oz', 'POz', 'Pz', 'CPz', 'Fpz', 'Fp2', 'AF8', 'AF4', 'AFz', 'Fz', 'F2', 'F4', 'F6', 'F8', 'FT8', 'FC6', 'FC4', 'FC2', 'FCz', 'Cz', 'C2', 'C4', 'C6', 'T8', 'TP8', 'CP6', 'CP4', 'CP2', 'P2', 'P4', 'P6', 'P8', 'P10', 'PO8', 'PO4', 'O2']\n",
      "Bad channels in meditation block: []\n",
      "Bad channels in thinking block: []\n",
      "Setting channel interpolation method to {'eeg': 'spline'}.\n",
      "Setting channel interpolation method to {'eeg': 'spline'}.\n",
      "[]\n",
      "[]\n",
      "\n",
      "##### Downsampling #####\n"
     ]
    },
    {
     "name": "stderr",
     "output_type": "stream",
     "text": [
      "/tmp/ipykernel_97582/156053950.py:33: RuntimeWarning: The unit for channel(s) EXG1, EXG2, EXG3, EXG4, EXG5, EXG6, EXG7, EXG8, Erg1, Erg2, GSR1, GSR2 has changed from V to NA.\n",
      "  raw_med.set_channel_types({'EXG1': 'misc',\n",
      "/tmp/ipykernel_97582/156053950.py:49: RuntimeWarning: The unit for channel(s) EXG1, EXG2, EXG3, EXG4, EXG5, EXG6, EXG7, EXG8, Erg1, Erg2, GSR1, GSR2 has changed from V to NA.\n",
      "  raw_mw.set_channel_types({'EXG1': 'misc',\n",
      "/tmp/ipykernel_97582/156053950.py:90: RuntimeWarning: No bad channels to interpolate. Doing nothing...\n",
      "  raw_med.interpolate_bads()\n",
      "/tmp/ipykernel_97582/156053950.py:91: RuntimeWarning: No bad channels to interpolate. Doing nothing...\n",
      "  raw_mw.interpolate_bads()\n"
     ]
    },
    {
     "name": "stdout",
     "output_type": "stream",
     "text": [
      "New sampling frequency: 128.0 Hz\n",
      "\n",
      "##### Averaging and filtering raw data #####\n",
      "1 (FIFFV_MNE_CUSTOM_REF_ON)\n",
      "1 (FIFFV_MNE_CUSTOM_REF_ON)\n",
      "NOTE: plot_psd() is a legacy function. New code should use .compute_psd().plot().\n",
      "Effective window size : 16.000 (s)\n",
      "Plotting power spectral density (dB=True).\n",
      "NOTE: plot_psd() is a legacy function. New code should use .compute_psd().plot().\n",
      "Effective window size : 16.000 (s)\n",
      "Plotting power spectral density (dB=True).\n",
      "Not setting metadata\n",
      "121 matching events found\n",
      "No baseline correction applied\n",
      "0 projection items activated\n",
      "Using data from preloaded Raw for 121 events and 641 original time points ...\n",
      "1 bad epochs dropped\n",
      "\n",
      "##### Autorejecting bad epochs #####\n",
      "Running autoreject on ch_type=eeg\n"
     ]
    },
    {
     "data": {
      "application/vnd.jupyter.widget-view+json": {
       "model_id": "d00fd6618ed943beb84f2944344093bd",
       "version_major": 2,
       "version_minor": 0
      },
      "text/plain": [
       "  0%|          | Creating augmented epochs : 0/64 [00:00<?,       ?it/s]"
      ]
     },
     "metadata": {},
     "output_type": "display_data"
    },
    {
     "data": {
      "application/vnd.jupyter.widget-view+json": {
       "model_id": "c3e75fc0ec3d4a8ea32b64ca1d1049e0",
       "version_major": 2,
       "version_minor": 0
      },
      "text/plain": [
       "  0%|          | Computing thresholds ... : 0/64 [00:00<?,       ?it/s]"
      ]
     },
     "metadata": {},
     "output_type": "display_data"
    },
    {
     "data": {
      "application/vnd.jupyter.widget-view+json": {
       "model_id": "c452e7c1de014dbd9e28238864589243",
       "version_major": 2,
       "version_minor": 0
      },
      "text/plain": [
       "  0%|          | Repairing epochs : 0/120 [00:00<?,       ?it/s]"
      ]
     },
     "metadata": {},
     "output_type": "display_data"
    },
    {
     "data": {
      "application/vnd.jupyter.widget-view+json": {
       "model_id": "46c5b348779644e1943dc2164c627430",
       "version_major": 2,
       "version_minor": 0
      },
      "text/plain": [
       "  0%|          | n_interp : 0/3 [00:00<?,       ?it/s]"
      ]
     },
     "metadata": {},
     "output_type": "display_data"
    },
    {
     "data": {
      "application/vnd.jupyter.widget-view+json": {
       "model_id": "002798c981f54fb28611724306666333",
       "version_major": 2,
       "version_minor": 0
      },
      "text/plain": [
       "  0%|          | Repairing epochs : 0/120 [00:00<?,       ?it/s]"
      ]
     },
     "metadata": {},
     "output_type": "display_data"
    },
    {
     "data": {
      "application/vnd.jupyter.widget-view+json": {
       "model_id": "ea8eaf39142245e38146b8504009e250",
       "version_major": 2,
       "version_minor": 0
      },
      "text/plain": [
       "  0%|          | Fold : 0/10 [00:00<?,       ?it/s]"
      ]
     },
     "metadata": {},
     "output_type": "display_data"
    },
    {
     "data": {
      "application/vnd.jupyter.widget-view+json": {
       "model_id": "8e591c16b7b848ff9a16a94b3a54f4b0",
       "version_major": 2,
       "version_minor": 0
      },
      "text/plain": [
       "  0%|          | Repairing epochs : 0/120 [00:00<?,       ?it/s]"
      ]
     },
     "metadata": {},
     "output_type": "display_data"
    },
    {
     "data": {
      "application/vnd.jupyter.widget-view+json": {
       "model_id": "61b11673f8164b0e945b0cbac173071c",
       "version_major": 2,
       "version_minor": 0
      },
      "text/plain": [
       "  0%|          | Fold : 0/10 [00:00<?,       ?it/s]"
      ]
     },
     "metadata": {},
     "output_type": "display_data"
    },
    {
     "data": {
      "application/vnd.jupyter.widget-view+json": {
       "model_id": "a74be67a0059494e90e28cb64e4bad3b",
       "version_major": 2,
       "version_minor": 0
      },
      "text/plain": [
       "  0%|          | Repairing epochs : 0/120 [00:00<?,       ?it/s]"
      ]
     },
     "metadata": {},
     "output_type": "display_data"
    },
    {
     "data": {
      "application/vnd.jupyter.widget-view+json": {
       "model_id": "f715afd1f3684fa7a6503afae0d12935",
       "version_major": 2,
       "version_minor": 0
      },
      "text/plain": [
       "  0%|          | Fold : 0/10 [00:00<?,       ?it/s]"
      ]
     },
     "metadata": {},
     "output_type": "display_data"
    },
    {
     "name": "stdout",
     "output_type": "stream",
     "text": [
      "\n",
      "\n",
      "\n",
      "\n",
      "Estimated consensus=0.70 and n_interpolate=32\n"
     ]
    },
    {
     "data": {
      "application/vnd.jupyter.widget-view+json": {
       "model_id": "4ccae81ec663421c883c5a42c9fdfde9",
       "version_major": 2,
       "version_minor": 0
      },
      "text/plain": [
       "  0%|          | Repairing epochs : 0/120 [00:00<?,       ?it/s]"
      ]
     },
     "metadata": {},
     "output_type": "display_data"
    },
    {
     "name": "stdout",
     "output_type": "stream",
     "text": [
      "Dropped 1 epoch: 40\n",
      "Estimating rejection dictionary for eeg\n"
     ]
    },
    {
     "data": {
      "application/vnd.jupyter.widget-view+json": {
       "model_id": "6e08e0e2171a4c6da086f542cc4fc49c",
       "version_major": 2,
       "version_minor": 0
      },
      "text/plain": [
       "  0%|          | interpolating channels : 0/50 [00:00<?,       ?it/s]"
      ]
     },
     "metadata": {},
     "output_type": "display_data"
    },
    {
     "name": "stderr",
     "output_type": "stream",
     "text": [
      "[Parallel(n_jobs=1)]: Done   1 tasks      | elapsed:    0.1s\n",
      "[Parallel(n_jobs=1)]: Done   1 tasks      | elapsed:    0.1s\n"
     ]
    },
    {
     "data": {
      "application/vnd.jupyter.widget-view+json": {
       "model_id": "f272f178c2b94f378d835f19fe1900a2",
       "version_major": 2,
       "version_minor": 0
      },
      "text/plain": [
       "  0%|          | Iterating epochs : 0/119 [00:00<?,       ?it/s]"
      ]
     },
     "metadata": {},
     "output_type": "display_data"
    },
    {
     "name": "stdout",
     "output_type": "stream",
     "text": [
      "[Done]\n",
      "Setting channel interpolation method to {'eeg': 'spline'}.\n",
      "Interpolating bad channels.\n",
      "    Automatic origin fit: head of radius 95.0 mm\n",
      "Computing interpolation matrix from 57 sensor positions\n",
      "Interpolating 7 sensors\n",
      "0 bad epochs dropped\n"
     ]
    },
    {
     "name": "stderr",
     "output_type": "stream",
     "text": [
      "[Parallel(n_jobs=1)]: Done   1 tasks      | elapsed:    4.4s\n",
      "[Parallel(n_jobs=1)]: Done   1 tasks      | elapsed:    4.4s\n",
      "/tmp/ipykernel_97582/156053950.py:185: UserWarning: This figure includes Axes that are not compatible with tight_layout, so results might be incorrect.\n",
      "  plt.tight_layout()\n"
     ]
    },
    {
     "name": "stdout",
     "output_type": "stream",
     "text": [
      "NOTE: plot_psd() is a legacy function. New code should use .compute_psd().plot().\n",
      "    Using multitaper spectrum estimation with 7 DPSS windows\n",
      "Plotting power spectral density (dB=True).\n",
      "Averaging across epochs before plotting...\n",
      "Not setting metadata\n",
      "122 matching events found\n",
      "No baseline correction applied\n",
      "0 projection items activated\n",
      "Using data from preloaded Raw for 122 events and 641 original time points ...\n",
      "1 bad epochs dropped\n",
      "\n",
      "##### Autorejecting bad epochs #####\n",
      "Running autoreject on ch_type=eeg\n"
     ]
    },
    {
     "data": {
      "application/vnd.jupyter.widget-view+json": {
       "model_id": "1253b076250a46fd858268b6a78078f1",
       "version_major": 2,
       "version_minor": 0
      },
      "text/plain": [
       "  0%|          | Creating augmented epochs : 0/64 [00:00<?,       ?it/s]"
      ]
     },
     "metadata": {},
     "output_type": "display_data"
    },
    {
     "data": {
      "application/vnd.jupyter.widget-view+json": {
       "model_id": "4a53c116c1644f41829fa1d44d4bebcd",
       "version_major": 2,
       "version_minor": 0
      },
      "text/plain": [
       "  0%|          | Computing thresholds ... : 0/64 [00:00<?,       ?it/s]"
      ]
     },
     "metadata": {},
     "output_type": "display_data"
    },
    {
     "data": {
      "application/vnd.jupyter.widget-view+json": {
       "model_id": "7b35397e4f9942b1a45196d1be8f9cc7",
       "version_major": 2,
       "version_minor": 0
      },
      "text/plain": [
       "  0%|          | Repairing epochs : 0/121 [00:00<?,       ?it/s]"
      ]
     },
     "metadata": {},
     "output_type": "display_data"
    },
    {
     "data": {
      "application/vnd.jupyter.widget-view+json": {
       "model_id": "c8d53d568326474c87fda6b2b89bf0d2",
       "version_major": 2,
       "version_minor": 0
      },
      "text/plain": [
       "  0%|          | n_interp : 0/3 [00:00<?,       ?it/s]"
      ]
     },
     "metadata": {},
     "output_type": "display_data"
    },
    {
     "data": {
      "application/vnd.jupyter.widget-view+json": {
       "model_id": "37999771d0c14b33ad3299ecf20b0ea2",
       "version_major": 2,
       "version_minor": 0
      },
      "text/plain": [
       "  0%|          | Repairing epochs : 0/121 [00:00<?,       ?it/s]"
      ]
     },
     "metadata": {},
     "output_type": "display_data"
    },
    {
     "data": {
      "application/vnd.jupyter.widget-view+json": {
       "model_id": "630598e1bbf14c43b1d56b8a1280b532",
       "version_major": 2,
       "version_minor": 0
      },
      "text/plain": [
       "  0%|          | Fold : 0/10 [00:00<?,       ?it/s]"
      ]
     },
     "metadata": {},
     "output_type": "display_data"
    },
    {
     "data": {
      "application/vnd.jupyter.widget-view+json": {
       "model_id": "1850008bd94148cfba551c7d29b1e9a1",
       "version_major": 2,
       "version_minor": 0
      },
      "text/plain": [
       "  0%|          | Repairing epochs : 0/121 [00:00<?,       ?it/s]"
      ]
     },
     "metadata": {},
     "output_type": "display_data"
    },
    {
     "data": {
      "application/vnd.jupyter.widget-view+json": {
       "model_id": "0f5399c7cd61419bba8d3f565a2b053e",
       "version_major": 2,
       "version_minor": 0
      },
      "text/plain": [
       "  0%|          | Fold : 0/10 [00:00<?,       ?it/s]"
      ]
     },
     "metadata": {},
     "output_type": "display_data"
    },
    {
     "data": {
      "application/vnd.jupyter.widget-view+json": {
       "model_id": "a34b9f0b14f14d60852332d00181a099",
       "version_major": 2,
       "version_minor": 0
      },
      "text/plain": [
       "  0%|          | Repairing epochs : 0/121 [00:00<?,       ?it/s]"
      ]
     },
     "metadata": {},
     "output_type": "display_data"
    },
    {
     "data": {
      "application/vnd.jupyter.widget-view+json": {
       "model_id": "4ebde48287c9499184d4271d7c9d7713",
       "version_major": 2,
       "version_minor": 0
      },
      "text/plain": [
       "  0%|          | Fold : 0/10 [00:00<?,       ?it/s]"
      ]
     },
     "metadata": {},
     "output_type": "display_data"
    },
    {
     "name": "stdout",
     "output_type": "stream",
     "text": [
      "\n",
      "\n",
      "\n",
      "\n",
      "Estimated consensus=0.70 and n_interpolate=32\n"
     ]
    },
    {
     "data": {
      "application/vnd.jupyter.widget-view+json": {
       "model_id": "cf2f0545a1824a2a913c88fe1067205c",
       "version_major": 2,
       "version_minor": 0
      },
      "text/plain": [
       "  0%|          | Repairing epochs : 0/121 [00:00<?,       ?it/s]"
      ]
     },
     "metadata": {},
     "output_type": "display_data"
    },
    {
     "name": "stdout",
     "output_type": "stream",
     "text": [
      "No bad epochs were found for your data. Returning a copy of the data you wanted to clean. Interpolation may have been done.\n",
      "Estimating rejection dictionary for eeg\n"
     ]
    },
    {
     "data": {
      "application/vnd.jupyter.widget-view+json": {
       "model_id": "256e7d38bc5f4198a0262b8f656478b0",
       "version_major": 2,
       "version_minor": 0
      },
      "text/plain": [
       "  0%|          | interpolating channels : 0/50 [00:00<?,       ?it/s]"
      ]
     },
     "metadata": {},
     "output_type": "display_data"
    },
    {
     "name": "stderr",
     "output_type": "stream",
     "text": [
      "[Parallel(n_jobs=1)]: Done   1 tasks      | elapsed:    0.1s\n",
      "[Parallel(n_jobs=1)]: Done   1 tasks      | elapsed:    0.1s\n"
     ]
    },
    {
     "data": {
      "application/vnd.jupyter.widget-view+json": {
       "model_id": "4ae8b6f9b63946b5bb2cce17f5e4fee2",
       "version_major": 2,
       "version_minor": 0
      },
      "text/plain": [
       "  0%|          | Iterating epochs : 0/121 [00:00<?,       ?it/s]"
      ]
     },
     "metadata": {},
     "output_type": "display_data"
    },
    {
     "name": "stdout",
     "output_type": "stream",
     "text": [
      "[Done]\n",
      "Setting channel interpolation method to {'eeg': 'spline'}.\n",
      "Interpolating bad channels.\n",
      "    Automatic origin fit: head of radius 95.0 mm\n",
      "Computing interpolation matrix from 56 sensor positions\n",
      "Interpolating 8 sensors\n",
      "0 bad epochs dropped\n"
     ]
    },
    {
     "name": "stderr",
     "output_type": "stream",
     "text": [
      "[Parallel(n_jobs=1)]: Done   1 tasks      | elapsed:    4.5s\n",
      "[Parallel(n_jobs=1)]: Done   1 tasks      | elapsed:    4.5s\n",
      "/tmp/ipykernel_97582/156053950.py:238: UserWarning: This figure includes Axes that are not compatible with tight_layout, so results might be incorrect.\n",
      "  plt.tight_layout()\n"
     ]
    },
    {
     "name": "stdout",
     "output_type": "stream",
     "text": [
      "Not setting metadata\n",
      "240 matching events found\n",
      "No baseline correction applied\n",
      "Saved combined epochs to epochs/internal_task/sub-063_epo.fif\n",
      "\n",
      "##### Preprocessing subject 064 #####\n",
      "Extracting EDF parameters from /home/sivert/Documents/Specialization_project/Datasets/ds003969/sub-064/eeg/sub-064_task-med2_eeg.bdf...\n",
      "BDF file detected\n",
      "Setting channel info structure...\n",
      "Creating raw.info structure...\n",
      "Reading 0 ... 620543  =      0.000 ...   605.999 secs...\n",
      "Loaded BDF file for task 'med2': /home/sivert/Documents/Specialization_project/Datasets/ds003969/sub-064/eeg/sub-064_task-med2_eeg.bdf\n",
      "Loaded metadata JSON for task 'med2'\n",
      "Loaded metadata TSV for task 'med2'\n",
      "Extracting EDF parameters from /home/sivert/Documents/Specialization_project/Datasets/ds003969/sub-064/eeg/sub-064_task-think2_eeg.bdf...\n",
      "BDF file detected\n",
      "Setting channel info structure...\n",
      "Creating raw.info structure...\n",
      "Reading 0 ... 647167  =      0.000 ...   631.999 secs...\n",
      "Loaded BDF file for task 'think2': /home/sivert/Documents/Specialization_project/Datasets/ds003969/sub-064/eeg/sub-064_task-think2_eeg.bdf\n",
      "Loaded metadata JSON for task 'think2'\n",
      "Loaded metadata TSV for task 'think2'\n",
      "\n",
      "##### Channel types #####\n",
      "['Fp1', 'AF7', 'AF3', 'F1', 'F3', 'F5', 'F7', 'FT7', 'FC5', 'FC3', 'FC1', 'C1', 'C3', 'C5', 'T7', 'TP7', 'CP5', 'CP3', 'CP1', 'P1', 'P3', 'P5', 'P7', 'P9', 'PO7', 'PO3', 'O1', 'Iz', 'Oz', 'POz', 'Pz', 'CPz', 'Fpz', 'Fp2', 'AF8', 'AF4', 'AFz', 'Fz', 'F2', 'F4', 'F6', 'F8', 'FT8', 'FC6', 'FC4', 'FC2', 'FCz', 'Cz', 'C2', 'C4', 'C6', 'T8', 'TP8', 'CP6', 'CP4', 'CP2', 'P2', 'P4', 'P6', 'P8', 'P10', 'PO8', 'PO4', 'O2']\n",
      "Bad channels in meditation block: []\n",
      "Bad channels in thinking block: []\n",
      "Setting channel interpolation method to {'eeg': 'spline'}.\n",
      "Setting channel interpolation method to {'eeg': 'spline'}.\n",
      "[]\n",
      "[]\n",
      "\n",
      "##### Downsampling #####\n"
     ]
    },
    {
     "name": "stderr",
     "output_type": "stream",
     "text": [
      "/tmp/ipykernel_97582/156053950.py:33: RuntimeWarning: The unit for channel(s) EXG1, EXG2, EXG3, EXG4, EXG5, EXG6, EXG7, EXG8, Erg1, Erg2, GSR1, GSR2 has changed from V to NA.\n",
      "  raw_med.set_channel_types({'EXG1': 'misc',\n",
      "/tmp/ipykernel_97582/156053950.py:49: RuntimeWarning: The unit for channel(s) EXG1, EXG2, EXG3, EXG4, EXG5, EXG6, EXG7, EXG8, Erg1, Erg2, GSR1, GSR2 has changed from V to NA.\n",
      "  raw_mw.set_channel_types({'EXG1': 'misc',\n",
      "/tmp/ipykernel_97582/156053950.py:90: RuntimeWarning: No bad channels to interpolate. Doing nothing...\n",
      "  raw_med.interpolate_bads()\n",
      "/tmp/ipykernel_97582/156053950.py:91: RuntimeWarning: No bad channels to interpolate. Doing nothing...\n",
      "  raw_mw.interpolate_bads()\n"
     ]
    },
    {
     "name": "stdout",
     "output_type": "stream",
     "text": [
      "New sampling frequency: 128.0 Hz\n",
      "\n",
      "##### Averaging and filtering raw data #####\n",
      "1 (FIFFV_MNE_CUSTOM_REF_ON)\n",
      "1 (FIFFV_MNE_CUSTOM_REF_ON)\n",
      "NOTE: plot_psd() is a legacy function. New code should use .compute_psd().plot().\n",
      "Effective window size : 16.000 (s)\n",
      "Plotting power spectral density (dB=True).\n",
      "NOTE: plot_psd() is a legacy function. New code should use .compute_psd().plot().\n",
      "Effective window size : 16.000 (s)\n",
      "Plotting power spectral density (dB=True).\n",
      "Not setting metadata\n",
      "122 matching events found\n",
      "No baseline correction applied\n",
      "0 projection items activated\n",
      "Using data from preloaded Raw for 122 events and 641 original time points ...\n",
      "1 bad epochs dropped\n",
      "\n",
      "##### Autorejecting bad epochs #####\n",
      "Running autoreject on ch_type=eeg\n"
     ]
    },
    {
     "data": {
      "application/vnd.jupyter.widget-view+json": {
       "model_id": "625d4afaf2fb42b98c0afc6729d51874",
       "version_major": 2,
       "version_minor": 0
      },
      "text/plain": [
       "  0%|          | Creating augmented epochs : 0/64 [00:00<?,       ?it/s]"
      ]
     },
     "metadata": {},
     "output_type": "display_data"
    },
    {
     "data": {
      "application/vnd.jupyter.widget-view+json": {
       "model_id": "134f0d5eb1744662b342e24fb6343053",
       "version_major": 2,
       "version_minor": 0
      },
      "text/plain": [
       "  0%|          | Computing thresholds ... : 0/64 [00:00<?,       ?it/s]"
      ]
     },
     "metadata": {},
     "output_type": "display_data"
    },
    {
     "data": {
      "application/vnd.jupyter.widget-view+json": {
       "model_id": "98e5fdd45c7d48488ca8a8e4a09ac392",
       "version_major": 2,
       "version_minor": 0
      },
      "text/plain": [
       "  0%|          | Repairing epochs : 0/121 [00:00<?,       ?it/s]"
      ]
     },
     "metadata": {},
     "output_type": "display_data"
    },
    {
     "data": {
      "application/vnd.jupyter.widget-view+json": {
       "model_id": "ff1bc67ed26f4bf6af2ca3af6faa13a6",
       "version_major": 2,
       "version_minor": 0
      },
      "text/plain": [
       "  0%|          | n_interp : 0/3 [00:00<?,       ?it/s]"
      ]
     },
     "metadata": {},
     "output_type": "display_data"
    },
    {
     "data": {
      "application/vnd.jupyter.widget-view+json": {
       "model_id": "09e26d0255a84f2fbc73be4e1b80d1fe",
       "version_major": 2,
       "version_minor": 0
      },
      "text/plain": [
       "  0%|          | Repairing epochs : 0/121 [00:00<?,       ?it/s]"
      ]
     },
     "metadata": {},
     "output_type": "display_data"
    },
    {
     "data": {
      "application/vnd.jupyter.widget-view+json": {
       "model_id": "853f1d47f1784f03b88f181337d82bf3",
       "version_major": 2,
       "version_minor": 0
      },
      "text/plain": [
       "  0%|          | Fold : 0/10 [00:00<?,       ?it/s]"
      ]
     },
     "metadata": {},
     "output_type": "display_data"
    },
    {
     "data": {
      "application/vnd.jupyter.widget-view+json": {
       "model_id": "270602a007d2493bbebad78cac441229",
       "version_major": 2,
       "version_minor": 0
      },
      "text/plain": [
       "  0%|          | Repairing epochs : 0/121 [00:00<?,       ?it/s]"
      ]
     },
     "metadata": {},
     "output_type": "display_data"
    },
    {
     "data": {
      "application/vnd.jupyter.widget-view+json": {
       "model_id": "b93058848b274aeaae1fc30342381e22",
       "version_major": 2,
       "version_minor": 0
      },
      "text/plain": [
       "  0%|          | Fold : 0/10 [00:00<?,       ?it/s]"
      ]
     },
     "metadata": {},
     "output_type": "display_data"
    },
    {
     "data": {
      "application/vnd.jupyter.widget-view+json": {
       "model_id": "47ffb3b72e35487994bdc3aaef09008a",
       "version_major": 2,
       "version_minor": 0
      },
      "text/plain": [
       "  0%|          | Repairing epochs : 0/121 [00:00<?,       ?it/s]"
      ]
     },
     "metadata": {},
     "output_type": "display_data"
    },
    {
     "data": {
      "application/vnd.jupyter.widget-view+json": {
       "model_id": "eb92e91c62454adcab1e74ea7cb28c85",
       "version_major": 2,
       "version_minor": 0
      },
      "text/plain": [
       "  0%|          | Fold : 0/10 [00:00<?,       ?it/s]"
      ]
     },
     "metadata": {},
     "output_type": "display_data"
    },
    {
     "name": "stdout",
     "output_type": "stream",
     "text": [
      "\n",
      "\n",
      "\n",
      "\n",
      "Estimated consensus=0.70 and n_interpolate=32\n"
     ]
    },
    {
     "data": {
      "application/vnd.jupyter.widget-view+json": {
       "model_id": "3f32d5d4ee754978bdb81cc5fc515ea2",
       "version_major": 2,
       "version_minor": 0
      },
      "text/plain": [
       "  0%|          | Repairing epochs : 0/121 [00:00<?,       ?it/s]"
      ]
     },
     "metadata": {},
     "output_type": "display_data"
    },
    {
     "name": "stdout",
     "output_type": "stream",
     "text": [
      "No bad epochs were found for your data. Returning a copy of the data you wanted to clean. Interpolation may have been done.\n",
      "Estimating rejection dictionary for eeg\n"
     ]
    },
    {
     "data": {
      "application/vnd.jupyter.widget-view+json": {
       "model_id": "73c58d88992c42e1853c514a390f620e",
       "version_major": 2,
       "version_minor": 0
      },
      "text/plain": [
       "  0%|          | interpolating channels : 0/50 [00:00<?,       ?it/s]"
      ]
     },
     "metadata": {},
     "output_type": "display_data"
    },
    {
     "name": "stderr",
     "output_type": "stream",
     "text": [
      "[Parallel(n_jobs=1)]: Done   1 tasks      | elapsed:    0.1s\n",
      "[Parallel(n_jobs=1)]: Done   1 tasks      | elapsed:    0.1s\n"
     ]
    },
    {
     "data": {
      "application/vnd.jupyter.widget-view+json": {
       "model_id": "ba34150a9eae4af4a58f13ca96124a76",
       "version_major": 2,
       "version_minor": 0
      },
      "text/plain": [
       "  0%|          | Iterating epochs : 0/121 [00:00<?,       ?it/s]"
      ]
     },
     "metadata": {},
     "output_type": "display_data"
    },
    {
     "name": "stdout",
     "output_type": "stream",
     "text": [
      "[Done]\n",
      "Setting channel interpolation method to {'eeg': 'spline'}.\n",
      "Interpolating bad channels.\n",
      "    Automatic origin fit: head of radius 95.0 mm\n",
      "Computing interpolation matrix from 63 sensor positions\n",
      "Interpolating 1 sensors\n",
      "0 bad epochs dropped\n"
     ]
    },
    {
     "name": "stderr",
     "output_type": "stream",
     "text": [
      "[Parallel(n_jobs=1)]: Done   1 tasks      | elapsed:    4.6s\n",
      "[Parallel(n_jobs=1)]: Done   1 tasks      | elapsed:    4.6s\n",
      "/tmp/ipykernel_97582/156053950.py:185: UserWarning: This figure includes Axes that are not compatible with tight_layout, so results might be incorrect.\n",
      "  plt.tight_layout()\n"
     ]
    },
    {
     "name": "stdout",
     "output_type": "stream",
     "text": [
      "NOTE: plot_psd() is a legacy function. New code should use .compute_psd().plot().\n",
      "    Using multitaper spectrum estimation with 7 DPSS windows\n",
      "Plotting power spectral density (dB=True).\n",
      "Averaging across epochs before plotting...\n",
      "Not setting metadata\n",
      "127 matching events found\n",
      "No baseline correction applied\n",
      "0 projection items activated\n",
      "Using data from preloaded Raw for 127 events and 641 original time points ...\n",
      "1 bad epochs dropped\n",
      "\n",
      "##### Autorejecting bad epochs #####\n",
      "Running autoreject on ch_type=eeg\n"
     ]
    },
    {
     "data": {
      "application/vnd.jupyter.widget-view+json": {
       "model_id": "dc3dc126062f4c2cac68e70df90f22c6",
       "version_major": 2,
       "version_minor": 0
      },
      "text/plain": [
       "  0%|          | Creating augmented epochs : 0/64 [00:00<?,       ?it/s]"
      ]
     },
     "metadata": {},
     "output_type": "display_data"
    },
    {
     "data": {
      "application/vnd.jupyter.widget-view+json": {
       "model_id": "c54af3ce82ff465fbc55e4af097eae54",
       "version_major": 2,
       "version_minor": 0
      },
      "text/plain": [
       "  0%|          | Computing thresholds ... : 0/64 [00:00<?,       ?it/s]"
      ]
     },
     "metadata": {},
     "output_type": "display_data"
    },
    {
     "data": {
      "application/vnd.jupyter.widget-view+json": {
       "model_id": "2feef47eb44d4fecadd21fae86dd7de1",
       "version_major": 2,
       "version_minor": 0
      },
      "text/plain": [
       "  0%|          | Repairing epochs : 0/126 [00:00<?,       ?it/s]"
      ]
     },
     "metadata": {},
     "output_type": "display_data"
    },
    {
     "data": {
      "application/vnd.jupyter.widget-view+json": {
       "model_id": "bf8f8b47f07f415ea212970f133d8546",
       "version_major": 2,
       "version_minor": 0
      },
      "text/plain": [
       "  0%|          | n_interp : 0/3 [00:00<?,       ?it/s]"
      ]
     },
     "metadata": {},
     "output_type": "display_data"
    },
    {
     "data": {
      "application/vnd.jupyter.widget-view+json": {
       "model_id": "0d904aec9da64ca4a5be84e1594bd3e2",
       "version_major": 2,
       "version_minor": 0
      },
      "text/plain": [
       "  0%|          | Repairing epochs : 0/126 [00:00<?,       ?it/s]"
      ]
     },
     "metadata": {},
     "output_type": "display_data"
    },
    {
     "data": {
      "application/vnd.jupyter.widget-view+json": {
       "model_id": "27af680b693149ffb92b249b4972c2b6",
       "version_major": 2,
       "version_minor": 0
      },
      "text/plain": [
       "  0%|          | Fold : 0/10 [00:00<?,       ?it/s]"
      ]
     },
     "metadata": {},
     "output_type": "display_data"
    },
    {
     "data": {
      "application/vnd.jupyter.widget-view+json": {
       "model_id": "5161b7fc9dfc4f9087548337322dc58c",
       "version_major": 2,
       "version_minor": 0
      },
      "text/plain": [
       "  0%|          | Repairing epochs : 0/126 [00:00<?,       ?it/s]"
      ]
     },
     "metadata": {},
     "output_type": "display_data"
    },
    {
     "data": {
      "application/vnd.jupyter.widget-view+json": {
       "model_id": "14cf65c8a514487b97449fe04d58db75",
       "version_major": 2,
       "version_minor": 0
      },
      "text/plain": [
       "  0%|          | Fold : 0/10 [00:00<?,       ?it/s]"
      ]
     },
     "metadata": {},
     "output_type": "display_data"
    },
    {
     "data": {
      "application/vnd.jupyter.widget-view+json": {
       "model_id": "a82f2f7db7e043fb8755247836db3513",
       "version_major": 2,
       "version_minor": 0
      },
      "text/plain": [
       "  0%|          | Repairing epochs : 0/126 [00:00<?,       ?it/s]"
      ]
     },
     "metadata": {},
     "output_type": "display_data"
    },
    {
     "data": {
      "application/vnd.jupyter.widget-view+json": {
       "model_id": "469ae821984743029a2eb38afac6ce9c",
       "version_major": 2,
       "version_minor": 0
      },
      "text/plain": [
       "  0%|          | Fold : 0/10 [00:00<?,       ?it/s]"
      ]
     },
     "metadata": {},
     "output_type": "display_data"
    },
    {
     "name": "stdout",
     "output_type": "stream",
     "text": [
      "\n",
      "\n",
      "\n",
      "\n",
      "Estimated consensus=0.80 and n_interpolate=32\n"
     ]
    },
    {
     "data": {
      "application/vnd.jupyter.widget-view+json": {
       "model_id": "17e7048f29374157a6e5eb6117966a67",
       "version_major": 2,
       "version_minor": 0
      },
      "text/plain": [
       "  0%|          | Repairing epochs : 0/126 [00:00<?,       ?it/s]"
      ]
     },
     "metadata": {},
     "output_type": "display_data"
    },
    {
     "name": "stdout",
     "output_type": "stream",
     "text": [
      "No bad epochs were found for your data. Returning a copy of the data you wanted to clean. Interpolation may have been done.\n",
      "Estimating rejection dictionary for eeg\n"
     ]
    },
    {
     "data": {
      "application/vnd.jupyter.widget-view+json": {
       "model_id": "d0566b4c77c44bb891d6e14f3de94fee",
       "version_major": 2,
       "version_minor": 0
      },
      "text/plain": [
       "  0%|          | interpolating channels : 0/50 [00:00<?,       ?it/s]"
      ]
     },
     "metadata": {},
     "output_type": "display_data"
    },
    {
     "name": "stderr",
     "output_type": "stream",
     "text": [
      "[Parallel(n_jobs=1)]: Done   1 tasks      | elapsed:    0.1s\n",
      "[Parallel(n_jobs=1)]: Done   1 tasks      | elapsed:    0.1s\n"
     ]
    },
    {
     "data": {
      "application/vnd.jupyter.widget-view+json": {
       "model_id": "7b090eba142845eaa04b1b462cef404b",
       "version_major": 2,
       "version_minor": 0
      },
      "text/plain": [
       "  0%|          | Iterating epochs : 0/126 [00:00<?,       ?it/s]"
      ]
     },
     "metadata": {},
     "output_type": "display_data"
    },
    {
     "name": "stdout",
     "output_type": "stream",
     "text": [
      "[Done]\n",
      "Setting channel interpolation method to {'eeg': 'spline'}.\n",
      "Interpolating bad channels.\n",
      "    Automatic origin fit: head of radius 95.0 mm\n",
      "Computing interpolation matrix from 62 sensor positions\n",
      "Interpolating 2 sensors\n",
      "0 bad epochs dropped\n"
     ]
    },
    {
     "name": "stderr",
     "output_type": "stream",
     "text": [
      "[Parallel(n_jobs=1)]: Done   1 tasks      | elapsed:    4.6s\n",
      "[Parallel(n_jobs=1)]: Done   1 tasks      | elapsed:    4.6s\n",
      "/tmp/ipykernel_97582/156053950.py:238: UserWarning: This figure includes Axes that are not compatible with tight_layout, so results might be incorrect.\n",
      "  plt.tight_layout()\n"
     ]
    },
    {
     "name": "stdout",
     "output_type": "stream",
     "text": [
      "Not setting metadata\n",
      "247 matching events found\n",
      "No baseline correction applied\n",
      "Saved combined epochs to epochs/internal_task/sub-064_epo.fif\n",
      "\n",
      "##### Preprocessing subject 065 #####\n",
      "Extracting EDF parameters from /home/sivert/Documents/Specialization_project/Datasets/ds003969/sub-065/eeg/sub-065_task-med2_eeg.bdf...\n",
      "BDF file detected\n",
      "Setting channel info structure...\n",
      "Creating raw.info structure...\n",
      "Reading 0 ... 748543  =      0.000 ...   730.999 secs...\n",
      "Loaded BDF file for task 'med2': /home/sivert/Documents/Specialization_project/Datasets/ds003969/sub-065/eeg/sub-065_task-med2_eeg.bdf\n",
      "Loaded metadata JSON for task 'med2'\n",
      "Loaded metadata TSV for task 'med2'\n",
      "Extracting EDF parameters from /home/sivert/Documents/Specialization_project/Datasets/ds003969/sub-065/eeg/sub-065_task-think2_eeg.bdf...\n",
      "BDF file detected\n",
      "Setting channel info structure...\n",
      "Creating raw.info structure...\n",
      "Reading 0 ... 1241087  =      0.000 ...   606.000 secs...\n",
      "Loaded BDF file for task 'think2': /home/sivert/Documents/Specialization_project/Datasets/ds003969/sub-065/eeg/sub-065_task-think2_eeg.bdf\n",
      "Loaded metadata JSON for task 'think2'\n",
      "Loaded metadata TSV for task 'think2'\n",
      "\n",
      "##### Channel types #####\n"
     ]
    },
    {
     "name": "stderr",
     "output_type": "stream",
     "text": [
      "/tmp/ipykernel_97582/156053950.py:33: RuntimeWarning: The unit for channel(s) EXG1, EXG2, EXG3, EXG4, EXG5, EXG6, EXG7, EXG8, Erg1, Erg2, GSR1, GSR2 has changed from V to NA.\n",
      "  raw_med.set_channel_types({'EXG1': 'misc',\n",
      "/tmp/ipykernel_97582/156053950.py:49: RuntimeWarning: The unit for channel(s) EXG1, EXG2, EXG3, EXG4, EXG5, EXG6, EXG7, EXG8, Erg1, Erg2, GSR1, GSR2 has changed from V to NA.\n",
      "  raw_mw.set_channel_types({'EXG1': 'misc',\n"
     ]
    },
    {
     "name": "stdout",
     "output_type": "stream",
     "text": [
      "['Fp1', 'AF7', 'AF3', 'F1', 'F3', 'F5', 'F7', 'FT7', 'FC5', 'FC3', 'FC1', 'C1', 'C3', 'C5', 'T7', 'TP7', 'CP5', 'CP3', 'CP1', 'P1', 'P3', 'P5', 'P7', 'P9', 'PO7', 'PO3', 'O1', 'Iz', 'Oz', 'POz', 'Pz', 'CPz', 'Fpz', 'Fp2', 'AF8', 'AF4', 'AFz', 'Fz', 'F2', 'F4', 'F6', 'F8', 'FT8', 'FC6', 'FC4', 'FC2', 'FCz', 'Cz', 'C2', 'C4', 'C6', 'T8', 'TP8', 'CP6', 'CP4', 'CP2', 'P2', 'P4', 'P6', 'P8', 'P10', 'PO8', 'PO4', 'O2']\n",
      "Bad channels in meditation block: []\n",
      "Bad channels in thinking block: []\n",
      "Setting channel interpolation method to {'eeg': 'spline'}.\n",
      "Setting channel interpolation method to {'eeg': 'spline'}.\n",
      "[]\n",
      "[]\n",
      "\n",
      "##### Downsampling #####\n"
     ]
    },
    {
     "name": "stderr",
     "output_type": "stream",
     "text": [
      "/tmp/ipykernel_97582/156053950.py:90: RuntimeWarning: No bad channels to interpolate. Doing nothing...\n",
      "  raw_med.interpolate_bads()\n",
      "/tmp/ipykernel_97582/156053950.py:91: RuntimeWarning: No bad channels to interpolate. Doing nothing...\n",
      "  raw_mw.interpolate_bads()\n"
     ]
    },
    {
     "name": "stdout",
     "output_type": "stream",
     "text": [
      "New sampling frequency: 128.0 Hz\n",
      "\n",
      "##### Averaging and filtering raw data #####\n",
      "1 (FIFFV_MNE_CUSTOM_REF_ON)\n",
      "1 (FIFFV_MNE_CUSTOM_REF_ON)\n",
      "NOTE: plot_psd() is a legacy function. New code should use .compute_psd().plot().\n",
      "Effective window size : 16.000 (s)\n",
      "Plotting power spectral density (dB=True).\n",
      "NOTE: plot_psd() is a legacy function. New code should use .compute_psd().plot().\n",
      "Effective window size : 16.000 (s)\n",
      "Plotting power spectral density (dB=True).\n",
      "Not setting metadata\n",
      "147 matching events found\n",
      "No baseline correction applied\n",
      "0 projection items activated\n",
      "Using data from preloaded Raw for 147 events and 641 original time points ...\n",
      "1 bad epochs dropped\n",
      "\n",
      "##### Autorejecting bad epochs #####\n",
      "Running autoreject on ch_type=eeg\n"
     ]
    },
    {
     "data": {
      "application/vnd.jupyter.widget-view+json": {
       "model_id": "f10606c883214408affffc8dec859b69",
       "version_major": 2,
       "version_minor": 0
      },
      "text/plain": [
       "  0%|          | Creating augmented epochs : 0/64 [00:00<?,       ?it/s]"
      ]
     },
     "metadata": {},
     "output_type": "display_data"
    },
    {
     "data": {
      "application/vnd.jupyter.widget-view+json": {
       "model_id": "471ab0593e4740afba11b841a8a2941e",
       "version_major": 2,
       "version_minor": 0
      },
      "text/plain": [
       "  0%|          | Computing thresholds ... : 0/64 [00:00<?,       ?it/s]"
      ]
     },
     "metadata": {},
     "output_type": "display_data"
    },
    {
     "data": {
      "application/vnd.jupyter.widget-view+json": {
       "model_id": "8209883a5f694f8092e84a97266928fa",
       "version_major": 2,
       "version_minor": 0
      },
      "text/plain": [
       "  0%|          | Repairing epochs : 0/146 [00:00<?,       ?it/s]"
      ]
     },
     "metadata": {},
     "output_type": "display_data"
    },
    {
     "data": {
      "application/vnd.jupyter.widget-view+json": {
       "model_id": "385e477de5144eedbe08b8c0677dede4",
       "version_major": 2,
       "version_minor": 0
      },
      "text/plain": [
       "  0%|          | n_interp : 0/3 [00:00<?,       ?it/s]"
      ]
     },
     "metadata": {},
     "output_type": "display_data"
    },
    {
     "data": {
      "application/vnd.jupyter.widget-view+json": {
       "model_id": "dfc202c9e0364811a29cfda4120801a3",
       "version_major": 2,
       "version_minor": 0
      },
      "text/plain": [
       "  0%|          | Repairing epochs : 0/146 [00:00<?,       ?it/s]"
      ]
     },
     "metadata": {},
     "output_type": "display_data"
    },
    {
     "data": {
      "application/vnd.jupyter.widget-view+json": {
       "model_id": "7880e48be9d94749aa4043484f69713f",
       "version_major": 2,
       "version_minor": 0
      },
      "text/plain": [
       "  0%|          | Fold : 0/10 [00:00<?,       ?it/s]"
      ]
     },
     "metadata": {},
     "output_type": "display_data"
    },
    {
     "data": {
      "application/vnd.jupyter.widget-view+json": {
       "model_id": "7ebbbd91aa4945adad8148410bdfd16e",
       "version_major": 2,
       "version_minor": 0
      },
      "text/plain": [
       "  0%|          | Repairing epochs : 0/146 [00:00<?,       ?it/s]"
      ]
     },
     "metadata": {},
     "output_type": "display_data"
    },
    {
     "data": {
      "application/vnd.jupyter.widget-view+json": {
       "model_id": "d512de6d64d5402ead6608bc4c020268",
       "version_major": 2,
       "version_minor": 0
      },
      "text/plain": [
       "  0%|          | Fold : 0/10 [00:00<?,       ?it/s]"
      ]
     },
     "metadata": {},
     "output_type": "display_data"
    },
    {
     "data": {
      "application/vnd.jupyter.widget-view+json": {
       "model_id": "ee2379c526054a51b15fafd17409e7f3",
       "version_major": 2,
       "version_minor": 0
      },
      "text/plain": [
       "  0%|          | Repairing epochs : 0/146 [00:00<?,       ?it/s]"
      ]
     },
     "metadata": {},
     "output_type": "display_data"
    },
    {
     "data": {
      "application/vnd.jupyter.widget-view+json": {
       "model_id": "c34f988f9fa54df2a1b2541856553b74",
       "version_major": 2,
       "version_minor": 0
      },
      "text/plain": [
       "  0%|          | Fold : 0/10 [00:00<?,       ?it/s]"
      ]
     },
     "metadata": {},
     "output_type": "display_data"
    },
    {
     "name": "stdout",
     "output_type": "stream",
     "text": [
      "\n",
      "\n",
      "\n",
      "\n",
      "Estimated consensus=0.60 and n_interpolate=32\n"
     ]
    },
    {
     "data": {
      "application/vnd.jupyter.widget-view+json": {
       "model_id": "15a81d2786bc4b7f993238d074110998",
       "version_major": 2,
       "version_minor": 0
      },
      "text/plain": [
       "  0%|          | Repairing epochs : 0/146 [00:00<?,       ?it/s]"
      ]
     },
     "metadata": {},
     "output_type": "display_data"
    },
    {
     "name": "stdout",
     "output_type": "stream",
     "text": [
      "Dropped 5 epochs: 15, 63, 128, 144, 145\n",
      "Estimating rejection dictionary for eeg\n"
     ]
    },
    {
     "data": {
      "application/vnd.jupyter.widget-view+json": {
       "model_id": "f820d909c9544a44a3d5b95a8c83736a",
       "version_major": 2,
       "version_minor": 0
      },
      "text/plain": [
       "  0%|          | interpolating channels : 0/50 [00:00<?,       ?it/s]"
      ]
     },
     "metadata": {},
     "output_type": "display_data"
    },
    {
     "name": "stderr",
     "output_type": "stream",
     "text": [
      "[Parallel(n_jobs=1)]: Done   1 tasks      | elapsed:    0.1s\n",
      "[Parallel(n_jobs=1)]: Done   1 tasks      | elapsed:    0.1s\n"
     ]
    },
    {
     "data": {
      "application/vnd.jupyter.widget-view+json": {
       "model_id": "8aa6449c25bc46b9ad5bc0a52318c8d1",
       "version_major": 2,
       "version_minor": 0
      },
      "text/plain": [
       "  0%|          | Iterating epochs : 0/141 [00:00<?,       ?it/s]"
      ]
     },
     "metadata": {},
     "output_type": "display_data"
    },
    {
     "name": "stdout",
     "output_type": "stream",
     "text": [
      "[Done]\n",
      "Setting channel interpolation method to {'eeg': 'spline'}.\n",
      "Interpolating bad channels.\n",
      "    Automatic origin fit: head of radius 95.0 mm\n",
      "Computing interpolation matrix from 63 sensor positions\n",
      "Interpolating 1 sensors\n",
      "0 bad epochs dropped\n"
     ]
    },
    {
     "name": "stderr",
     "output_type": "stream",
     "text": [
      "[Parallel(n_jobs=1)]: Done   1 tasks      | elapsed:    5.2s\n",
      "[Parallel(n_jobs=1)]: Done   1 tasks      | elapsed:    5.2s\n",
      "/tmp/ipykernel_97582/156053950.py:185: UserWarning: This figure includes Axes that are not compatible with tight_layout, so results might be incorrect.\n",
      "  plt.tight_layout()\n"
     ]
    },
    {
     "name": "stdout",
     "output_type": "stream",
     "text": [
      "NOTE: plot_psd() is a legacy function. New code should use .compute_psd().plot().\n",
      "    Using multitaper spectrum estimation with 7 DPSS windows\n",
      "Plotting power spectral density (dB=True).\n",
      "Averaging across epochs before plotting...\n",
      "Not setting metadata\n",
      "122 matching events found\n",
      "No baseline correction applied\n",
      "0 projection items activated\n",
      "Using data from preloaded Raw for 122 events and 641 original time points ...\n",
      "1 bad epochs dropped\n",
      "\n",
      "##### Autorejecting bad epochs #####\n",
      "Running autoreject on ch_type=eeg\n"
     ]
    },
    {
     "data": {
      "application/vnd.jupyter.widget-view+json": {
       "model_id": "63644f376b6b4963b4952adbba55f90a",
       "version_major": 2,
       "version_minor": 0
      },
      "text/plain": [
       "  0%|          | Creating augmented epochs : 0/64 [00:00<?,       ?it/s]"
      ]
     },
     "metadata": {},
     "output_type": "display_data"
    },
    {
     "data": {
      "application/vnd.jupyter.widget-view+json": {
       "model_id": "32dd0aba2f6c4aa4ae4edb743ccf90a4",
       "version_major": 2,
       "version_minor": 0
      },
      "text/plain": [
       "  0%|          | Computing thresholds ... : 0/64 [00:00<?,       ?it/s]"
      ]
     },
     "metadata": {},
     "output_type": "display_data"
    },
    {
     "data": {
      "application/vnd.jupyter.widget-view+json": {
       "model_id": "97f78c134ae54de58ea5ef29dd62a307",
       "version_major": 2,
       "version_minor": 0
      },
      "text/plain": [
       "  0%|          | Repairing epochs : 0/121 [00:00<?,       ?it/s]"
      ]
     },
     "metadata": {},
     "output_type": "display_data"
    },
    {
     "data": {
      "application/vnd.jupyter.widget-view+json": {
       "model_id": "96424597ba1c4ffb99fcb009d864181e",
       "version_major": 2,
       "version_minor": 0
      },
      "text/plain": [
       "  0%|          | n_interp : 0/3 [00:00<?,       ?it/s]"
      ]
     },
     "metadata": {},
     "output_type": "display_data"
    },
    {
     "data": {
      "application/vnd.jupyter.widget-view+json": {
       "model_id": "3040cd853445497c80e10f12787e2238",
       "version_major": 2,
       "version_minor": 0
      },
      "text/plain": [
       "  0%|          | Repairing epochs : 0/121 [00:00<?,       ?it/s]"
      ]
     },
     "metadata": {},
     "output_type": "display_data"
    },
    {
     "data": {
      "application/vnd.jupyter.widget-view+json": {
       "model_id": "0d3f8335d07a4f8aa763537cabc52078",
       "version_major": 2,
       "version_minor": 0
      },
      "text/plain": [
       "  0%|          | Fold : 0/10 [00:00<?,       ?it/s]"
      ]
     },
     "metadata": {},
     "output_type": "display_data"
    },
    {
     "data": {
      "application/vnd.jupyter.widget-view+json": {
       "model_id": "ca67b9e88bf7421ab48d30e6f2d0b7e7",
       "version_major": 2,
       "version_minor": 0
      },
      "text/plain": [
       "  0%|          | Repairing epochs : 0/121 [00:00<?,       ?it/s]"
      ]
     },
     "metadata": {},
     "output_type": "display_data"
    },
    {
     "data": {
      "application/vnd.jupyter.widget-view+json": {
       "model_id": "5fc832808aee49cdb0049eef34856e95",
       "version_major": 2,
       "version_minor": 0
      },
      "text/plain": [
       "  0%|          | Fold : 0/10 [00:00<?,       ?it/s]"
      ]
     },
     "metadata": {},
     "output_type": "display_data"
    },
    {
     "data": {
      "application/vnd.jupyter.widget-view+json": {
       "model_id": "af9c1ff93b0046af84d879784ee65701",
       "version_major": 2,
       "version_minor": 0
      },
      "text/plain": [
       "  0%|          | Repairing epochs : 0/121 [00:00<?,       ?it/s]"
      ]
     },
     "metadata": {},
     "output_type": "display_data"
    },
    {
     "data": {
      "application/vnd.jupyter.widget-view+json": {
       "model_id": "f6b8752066814a93b69d171fd5fa3eae",
       "version_major": 2,
       "version_minor": 0
      },
      "text/plain": [
       "  0%|          | Fold : 0/10 [00:00<?,       ?it/s]"
      ]
     },
     "metadata": {},
     "output_type": "display_data"
    },
    {
     "name": "stdout",
     "output_type": "stream",
     "text": [
      "\n",
      "\n",
      "\n",
      "\n",
      "Estimated consensus=0.70 and n_interpolate=32\n"
     ]
    },
    {
     "data": {
      "application/vnd.jupyter.widget-view+json": {
       "model_id": "b690c3ff94234d10a2197117104d5091",
       "version_major": 2,
       "version_minor": 0
      },
      "text/plain": [
       "  0%|          | Repairing epochs : 0/121 [00:00<?,       ?it/s]"
      ]
     },
     "metadata": {},
     "output_type": "display_data"
    },
    {
     "name": "stdout",
     "output_type": "stream",
     "text": [
      "Dropped 3 epochs: 109, 115, 119\n",
      "Estimating rejection dictionary for eeg\n"
     ]
    },
    {
     "data": {
      "application/vnd.jupyter.widget-view+json": {
       "model_id": "be70b82a95b64d49a6c6fa3b95b94c6a",
       "version_major": 2,
       "version_minor": 0
      },
      "text/plain": [
       "  0%|          | interpolating channels : 0/50 [00:00<?,       ?it/s]"
      ]
     },
     "metadata": {},
     "output_type": "display_data"
    },
    {
     "name": "stderr",
     "output_type": "stream",
     "text": [
      "[Parallel(n_jobs=1)]: Done   1 tasks      | elapsed:    0.1s\n",
      "[Parallel(n_jobs=1)]: Done   1 tasks      | elapsed:    0.1s\n"
     ]
    },
    {
     "data": {
      "application/vnd.jupyter.widget-view+json": {
       "model_id": "bfae97755b4a49f69b463085d1981f07",
       "version_major": 2,
       "version_minor": 0
      },
      "text/plain": [
       "  0%|          | Iterating epochs : 0/118 [00:00<?,       ?it/s]"
      ]
     },
     "metadata": {},
     "output_type": "display_data"
    },
    {
     "name": "stdout",
     "output_type": "stream",
     "text": [
      "[Done]\n",
      "Setting channel interpolation method to {'eeg': 'spline'}.\n",
      "Interpolating bad channels.\n",
      "    Automatic origin fit: head of radius 95.0 mm\n",
      "Computing interpolation matrix from 63 sensor positions\n",
      "Interpolating 1 sensors\n",
      "0 bad epochs dropped\n"
     ]
    },
    {
     "name": "stderr",
     "output_type": "stream",
     "text": [
      "[Parallel(n_jobs=1)]: Done   1 tasks      | elapsed:    4.5s\n",
      "[Parallel(n_jobs=1)]: Done   1 tasks      | elapsed:    4.5s\n",
      "/tmp/ipykernel_97582/156053950.py:238: UserWarning: This figure includes Axes that are not compatible with tight_layout, so results might be incorrect.\n",
      "  plt.tight_layout()\n"
     ]
    },
    {
     "name": "stdout",
     "output_type": "stream",
     "text": [
      "Not setting metadata\n",
      "259 matching events found\n",
      "No baseline correction applied\n",
      "Saved combined epochs to epochs/internal_task/sub-065_epo.fif\n",
      "\n",
      "##### Preprocessing subject 066 #####\n",
      "Extracting EDF parameters from /home/sivert/Documents/Specialization_project/Datasets/ds003969/sub-066/eeg/sub-066_task-med2_eeg.bdf...\n",
      "BDF file detected\n",
      "Setting channel info structure...\n",
      "Creating raw.info structure...\n",
      "Reading 0 ... 615423  =      0.000 ...   600.999 secs...\n",
      "Loaded BDF file for task 'med2': /home/sivert/Documents/Specialization_project/Datasets/ds003969/sub-066/eeg/sub-066_task-med2_eeg.bdf\n",
      "Loaded metadata JSON for task 'med2'\n",
      "Loaded metadata TSV for task 'med2'\n",
      "Extracting EDF parameters from /home/sivert/Documents/Specialization_project/Datasets/ds003969/sub-066/eeg/sub-066_task-think2_eeg.bdf...\n",
      "BDF file detected\n",
      "Setting channel info structure...\n",
      "Creating raw.info structure...\n",
      "Reading 0 ... 619519  =      0.000 ...   604.999 secs...\n",
      "Loaded BDF file for task 'think2': /home/sivert/Documents/Specialization_project/Datasets/ds003969/sub-066/eeg/sub-066_task-think2_eeg.bdf\n",
      "Loaded metadata JSON for task 'think2'\n",
      "Loaded metadata TSV for task 'think2'\n",
      "\n",
      "##### Channel types #####\n",
      "['Fp1', 'AF7', 'AF3', 'F1', 'F3', 'F5', 'F7', 'FT7', 'FC5', 'FC3', 'FC1', 'C1', 'C3', 'C5', 'T7', 'TP7', 'CP5', 'CP3', 'CP1', 'P1', 'P3', 'P5', 'P7', 'P9', 'PO7', 'PO3', 'O1', 'Iz', 'Oz', 'POz', 'Pz', 'CPz', 'Fpz', 'Fp2', 'AF8', 'AF4', 'AFz', 'Fz', 'F2', 'F4', 'F6', 'F8', 'FT8', 'FC6', 'FC4', 'FC2', 'FCz', 'Cz', 'C2', 'C4', 'C6', 'T8', 'TP8', 'CP6', 'CP4', 'CP2', 'P2', 'P4', 'P6', 'P8', 'P10', 'PO8', 'PO4', 'O2']\n",
      "Bad channels in meditation block: []\n",
      "Bad channels in thinking block: []\n",
      "Setting channel interpolation method to {'eeg': 'spline'}.\n",
      "Setting channel interpolation method to {'eeg': 'spline'}.\n",
      "[]\n",
      "[]\n",
      "\n",
      "##### Downsampling #####\n"
     ]
    },
    {
     "name": "stderr",
     "output_type": "stream",
     "text": [
      "/tmp/ipykernel_97582/156053950.py:33: RuntimeWarning: The unit for channel(s) EXG1, EXG2, EXG3, EXG4, EXG5, EXG6, EXG7, EXG8, Erg1, Erg2, GSR1, GSR2 has changed from V to NA.\n",
      "  raw_med.set_channel_types({'EXG1': 'misc',\n",
      "/tmp/ipykernel_97582/156053950.py:49: RuntimeWarning: The unit for channel(s) EXG1, EXG2, EXG3, EXG4, EXG5, EXG6, EXG7, EXG8, Erg1, Erg2, GSR1, GSR2 has changed from V to NA.\n",
      "  raw_mw.set_channel_types({'EXG1': 'misc',\n",
      "/tmp/ipykernel_97582/156053950.py:90: RuntimeWarning: No bad channels to interpolate. Doing nothing...\n",
      "  raw_med.interpolate_bads()\n",
      "/tmp/ipykernel_97582/156053950.py:91: RuntimeWarning: No bad channels to interpolate. Doing nothing...\n",
      "  raw_mw.interpolate_bads()\n"
     ]
    },
    {
     "name": "stdout",
     "output_type": "stream",
     "text": [
      "New sampling frequency: 128.0 Hz\n",
      "\n",
      "##### Averaging and filtering raw data #####\n",
      "1 (FIFFV_MNE_CUSTOM_REF_ON)\n",
      "1 (FIFFV_MNE_CUSTOM_REF_ON)\n",
      "NOTE: plot_psd() is a legacy function. New code should use .compute_psd().plot().\n",
      "Effective window size : 16.000 (s)\n",
      "Plotting power spectral density (dB=True).\n",
      "NOTE: plot_psd() is a legacy function. New code should use .compute_psd().plot().\n",
      "Effective window size : 16.000 (s)\n",
      "Plotting power spectral density (dB=True).\n",
      "Not setting metadata\n",
      "121 matching events found\n",
      "No baseline correction applied\n",
      "0 projection items activated\n",
      "Using data from preloaded Raw for 121 events and 641 original time points ...\n",
      "1 bad epochs dropped\n",
      "\n",
      "##### Autorejecting bad epochs #####\n",
      "Running autoreject on ch_type=eeg\n"
     ]
    },
    {
     "data": {
      "application/vnd.jupyter.widget-view+json": {
       "model_id": "c2c9357f3bd14c3a9b7c67f8c9ed635c",
       "version_major": 2,
       "version_minor": 0
      },
      "text/plain": [
       "  0%|          | Creating augmented epochs : 0/64 [00:00<?,       ?it/s]"
      ]
     },
     "metadata": {},
     "output_type": "display_data"
    },
    {
     "data": {
      "application/vnd.jupyter.widget-view+json": {
       "model_id": "7349cc91f38d4107b9e33c5a12e16bff",
       "version_major": 2,
       "version_minor": 0
      },
      "text/plain": [
       "  0%|          | Computing thresholds ... : 0/64 [00:00<?,       ?it/s]"
      ]
     },
     "metadata": {},
     "output_type": "display_data"
    },
    {
     "data": {
      "application/vnd.jupyter.widget-view+json": {
       "model_id": "01a11ca4a5fd4f39b079dbe602e061ca",
       "version_major": 2,
       "version_minor": 0
      },
      "text/plain": [
       "  0%|          | Repairing epochs : 0/120 [00:00<?,       ?it/s]"
      ]
     },
     "metadata": {},
     "output_type": "display_data"
    },
    {
     "data": {
      "application/vnd.jupyter.widget-view+json": {
       "model_id": "f34a5c40e0ae41d8adf14c025b5aeb39",
       "version_major": 2,
       "version_minor": 0
      },
      "text/plain": [
       "  0%|          | n_interp : 0/3 [00:00<?,       ?it/s]"
      ]
     },
     "metadata": {},
     "output_type": "display_data"
    },
    {
     "data": {
      "application/vnd.jupyter.widget-view+json": {
       "model_id": "bd49bb876bd64be1ba517370eead1969",
       "version_major": 2,
       "version_minor": 0
      },
      "text/plain": [
       "  0%|          | Repairing epochs : 0/120 [00:00<?,       ?it/s]"
      ]
     },
     "metadata": {},
     "output_type": "display_data"
    },
    {
     "data": {
      "application/vnd.jupyter.widget-view+json": {
       "model_id": "a35750e96c804bb2ae3cbb8ec0264bda",
       "version_major": 2,
       "version_minor": 0
      },
      "text/plain": [
       "  0%|          | Fold : 0/10 [00:00<?,       ?it/s]"
      ]
     },
     "metadata": {},
     "output_type": "display_data"
    },
    {
     "data": {
      "application/vnd.jupyter.widget-view+json": {
       "model_id": "9d6d905820bb454ca8f76bc780cbc428",
       "version_major": 2,
       "version_minor": 0
      },
      "text/plain": [
       "  0%|          | Repairing epochs : 0/120 [00:00<?,       ?it/s]"
      ]
     },
     "metadata": {},
     "output_type": "display_data"
    },
    {
     "data": {
      "application/vnd.jupyter.widget-view+json": {
       "model_id": "83bd0b7eda6e4d29aecc9c492af7d041",
       "version_major": 2,
       "version_minor": 0
      },
      "text/plain": [
       "  0%|          | Fold : 0/10 [00:00<?,       ?it/s]"
      ]
     },
     "metadata": {},
     "output_type": "display_data"
    },
    {
     "data": {
      "application/vnd.jupyter.widget-view+json": {
       "model_id": "86d6530e939c4c27b2b0fda0e1b55d7f",
       "version_major": 2,
       "version_minor": 0
      },
      "text/plain": [
       "  0%|          | Repairing epochs : 0/120 [00:00<?,       ?it/s]"
      ]
     },
     "metadata": {},
     "output_type": "display_data"
    },
    {
     "data": {
      "application/vnd.jupyter.widget-view+json": {
       "model_id": "fd30f3efea6442ddaca872da437a5530",
       "version_major": 2,
       "version_minor": 0
      },
      "text/plain": [
       "  0%|          | Fold : 0/10 [00:00<?,       ?it/s]"
      ]
     },
     "metadata": {},
     "output_type": "display_data"
    },
    {
     "name": "stdout",
     "output_type": "stream",
     "text": [
      "\n",
      "\n",
      "\n",
      "\n",
      "Estimated consensus=0.60 and n_interpolate=32\n"
     ]
    },
    {
     "data": {
      "application/vnd.jupyter.widget-view+json": {
       "model_id": "cd72176af3b04659a59f6a530a4cb618",
       "version_major": 2,
       "version_minor": 0
      },
      "text/plain": [
       "  0%|          | Repairing epochs : 0/120 [00:00<?,       ?it/s]"
      ]
     },
     "metadata": {},
     "output_type": "display_data"
    },
    {
     "name": "stdout",
     "output_type": "stream",
     "text": [
      "Dropped 3 epochs: 60, 86, 87\n",
      "Estimating rejection dictionary for eeg\n"
     ]
    },
    {
     "data": {
      "application/vnd.jupyter.widget-view+json": {
       "model_id": "f622a9021b9440cfa729663c38b30ccd",
       "version_major": 2,
       "version_minor": 0
      },
      "text/plain": [
       "  0%|          | interpolating channels : 0/50 [00:00<?,       ?it/s]"
      ]
     },
     "metadata": {},
     "output_type": "display_data"
    },
    {
     "name": "stderr",
     "output_type": "stream",
     "text": [
      "[Parallel(n_jobs=1)]: Done   1 tasks      | elapsed:    0.1s\n",
      "[Parallel(n_jobs=1)]: Done   1 tasks      | elapsed:    0.1s\n"
     ]
    },
    {
     "data": {
      "application/vnd.jupyter.widget-view+json": {
       "model_id": "46309c45fb0e42a6a4f35d6d44ac527c",
       "version_major": 2,
       "version_minor": 0
      },
      "text/plain": [
       "  0%|          | Iterating epochs : 0/117 [00:00<?,       ?it/s]"
      ]
     },
     "metadata": {},
     "output_type": "display_data"
    },
    {
     "name": "stdout",
     "output_type": "stream",
     "text": [
      "[Done]\n",
      "Setting channel interpolation method to {'eeg': 'spline'}.\n",
      "Interpolating bad channels.\n",
      "    Automatic origin fit: head of radius 95.0 mm\n",
      "Computing interpolation matrix from 61 sensor positions\n",
      "Interpolating 3 sensors\n",
      "0 bad epochs dropped\n"
     ]
    },
    {
     "name": "stderr",
     "output_type": "stream",
     "text": [
      "[Parallel(n_jobs=1)]: Done   1 tasks      | elapsed:    4.5s\n",
      "[Parallel(n_jobs=1)]: Done   1 tasks      | elapsed:    4.5s\n",
      "/tmp/ipykernel_97582/156053950.py:185: UserWarning: This figure includes Axes that are not compatible with tight_layout, so results might be incorrect.\n",
      "  plt.tight_layout()\n"
     ]
    },
    {
     "name": "stdout",
     "output_type": "stream",
     "text": [
      "NOTE: plot_psd() is a legacy function. New code should use .compute_psd().plot().\n",
      "    Using multitaper spectrum estimation with 7 DPSS windows\n",
      "Plotting power spectral density (dB=True).\n",
      "Averaging across epochs before plotting...\n",
      "Not setting metadata\n",
      "121 matching events found\n",
      "No baseline correction applied\n",
      "0 projection items activated\n",
      "Using data from preloaded Raw for 121 events and 641 original time points ...\n",
      "1 bad epochs dropped\n",
      "\n",
      "##### Autorejecting bad epochs #####\n",
      "Running autoreject on ch_type=eeg\n"
     ]
    },
    {
     "data": {
      "application/vnd.jupyter.widget-view+json": {
       "model_id": "2783af14e4d841cf846f74163d517cce",
       "version_major": 2,
       "version_minor": 0
      },
      "text/plain": [
       "  0%|          | Creating augmented epochs : 0/64 [00:00<?,       ?it/s]"
      ]
     },
     "metadata": {},
     "output_type": "display_data"
    },
    {
     "data": {
      "application/vnd.jupyter.widget-view+json": {
       "model_id": "00abf9f6d2cd400f89e29c2cf0748964",
       "version_major": 2,
       "version_minor": 0
      },
      "text/plain": [
       "  0%|          | Computing thresholds ... : 0/64 [00:00<?,       ?it/s]"
      ]
     },
     "metadata": {},
     "output_type": "display_data"
    },
    {
     "data": {
      "application/vnd.jupyter.widget-view+json": {
       "model_id": "a4730b91e2de42b088ec804ad48ac0a3",
       "version_major": 2,
       "version_minor": 0
      },
      "text/plain": [
       "  0%|          | Repairing epochs : 0/120 [00:00<?,       ?it/s]"
      ]
     },
     "metadata": {},
     "output_type": "display_data"
    },
    {
     "data": {
      "application/vnd.jupyter.widget-view+json": {
       "model_id": "ec54a9e5ed9d4c72b2f01abd07a96394",
       "version_major": 2,
       "version_minor": 0
      },
      "text/plain": [
       "  0%|          | n_interp : 0/3 [00:00<?,       ?it/s]"
      ]
     },
     "metadata": {},
     "output_type": "display_data"
    },
    {
     "data": {
      "application/vnd.jupyter.widget-view+json": {
       "model_id": "f5c6beea3d8d4088b1c61314d0abcfe9",
       "version_major": 2,
       "version_minor": 0
      },
      "text/plain": [
       "  0%|          | Repairing epochs : 0/120 [00:00<?,       ?it/s]"
      ]
     },
     "metadata": {},
     "output_type": "display_data"
    },
    {
     "data": {
      "application/vnd.jupyter.widget-view+json": {
       "model_id": "eaee024cb23c4743846a07d37ae482b2",
       "version_major": 2,
       "version_minor": 0
      },
      "text/plain": [
       "  0%|          | Fold : 0/10 [00:00<?,       ?it/s]"
      ]
     },
     "metadata": {},
     "output_type": "display_data"
    },
    {
     "data": {
      "application/vnd.jupyter.widget-view+json": {
       "model_id": "c3963814f1b64662b7f8e2c14ed778b1",
       "version_major": 2,
       "version_minor": 0
      },
      "text/plain": [
       "  0%|          | Repairing epochs : 0/120 [00:00<?,       ?it/s]"
      ]
     },
     "metadata": {},
     "output_type": "display_data"
    },
    {
     "data": {
      "application/vnd.jupyter.widget-view+json": {
       "model_id": "e20757e89890461bb164364a5a437bc3",
       "version_major": 2,
       "version_minor": 0
      },
      "text/plain": [
       "  0%|          | Fold : 0/10 [00:00<?,       ?it/s]"
      ]
     },
     "metadata": {},
     "output_type": "display_data"
    },
    {
     "data": {
      "application/vnd.jupyter.widget-view+json": {
       "model_id": "495db4618a434af4ad0ec76a130f0455",
       "version_major": 2,
       "version_minor": 0
      },
      "text/plain": [
       "  0%|          | Repairing epochs : 0/120 [00:00<?,       ?it/s]"
      ]
     },
     "metadata": {},
     "output_type": "display_data"
    },
    {
     "data": {
      "application/vnd.jupyter.widget-view+json": {
       "model_id": "b8a8064d77ee48f8bcb48c99df0d2cfa",
       "version_major": 2,
       "version_minor": 0
      },
      "text/plain": [
       "  0%|          | Fold : 0/10 [00:00<?,       ?it/s]"
      ]
     },
     "metadata": {},
     "output_type": "display_data"
    },
    {
     "name": "stdout",
     "output_type": "stream",
     "text": [
      "\n",
      "\n",
      "\n",
      "\n",
      "Estimated consensus=0.70 and n_interpolate=32\n"
     ]
    },
    {
     "data": {
      "application/vnd.jupyter.widget-view+json": {
       "model_id": "dd12edc2efdc4c81b925f548ea98ca40",
       "version_major": 2,
       "version_minor": 0
      },
      "text/plain": [
       "  0%|          | Repairing epochs : 0/120 [00:00<?,       ?it/s]"
      ]
     },
     "metadata": {},
     "output_type": "display_data"
    },
    {
     "name": "stdout",
     "output_type": "stream",
     "text": [
      "Dropped 28 epochs: 1, 5, 13, 20, 21, 28, 29, 30, 32, 38, 39, 84, 85, 88, 97, 98, 99, 102, 105, 106, 107, 108, 112, 113, 115, 117, 118, 119\n",
      "Estimating rejection dictionary for eeg\n"
     ]
    },
    {
     "data": {
      "application/vnd.jupyter.widget-view+json": {
       "model_id": "9ae99cc087cf4a92965f3dd7edd8acf1",
       "version_major": 2,
       "version_minor": 0
      },
      "text/plain": [
       "  0%|          | interpolating channels : 0/50 [00:00<?,       ?it/s]"
      ]
     },
     "metadata": {},
     "output_type": "display_data"
    },
    {
     "name": "stderr",
     "output_type": "stream",
     "text": [
      "[Parallel(n_jobs=1)]: Done   1 tasks      | elapsed:    0.1s\n",
      "[Parallel(n_jobs=1)]: Done   1 tasks      | elapsed:    0.1s\n"
     ]
    },
    {
     "data": {
      "application/vnd.jupyter.widget-view+json": {
       "model_id": "ec25aab98e85403a96815ae37f115e07",
       "version_major": 2,
       "version_minor": 0
      },
      "text/plain": [
       "  0%|          | Iterating epochs : 0/92 [00:00<?,       ?it/s]"
      ]
     },
     "metadata": {},
     "output_type": "display_data"
    },
    {
     "name": "stdout",
     "output_type": "stream",
     "text": [
      "[Done]\n",
      "Setting channel interpolation method to {'eeg': 'spline'}.\n",
      "Interpolating bad channels.\n",
      "    Automatic origin fit: head of radius 95.0 mm\n",
      "Computing interpolation matrix from 63 sensor positions\n",
      "Interpolating 1 sensors\n",
      "0 bad epochs dropped\n"
     ]
    },
    {
     "name": "stderr",
     "output_type": "stream",
     "text": [
      "[Parallel(n_jobs=1)]: Done   1 tasks      | elapsed:    3.5s\n",
      "[Parallel(n_jobs=1)]: Done   1 tasks      | elapsed:    3.5s\n",
      "/tmp/ipykernel_97582/156053950.py:238: UserWarning: This figure includes Axes that are not compatible with tight_layout, so results might be incorrect.\n",
      "  plt.tight_layout()\n"
     ]
    },
    {
     "name": "stdout",
     "output_type": "stream",
     "text": [
      "Not setting metadata\n",
      "209 matching events found\n",
      "No baseline correction applied\n",
      "Saved combined epochs to epochs/internal_task/sub-066_epo.fif\n",
      "\n",
      "##### Preprocessing subject 067 #####\n",
      "Extracting EDF parameters from /home/sivert/Documents/Specialization_project/Datasets/ds003969/sub-067/eeg/sub-067_task-med2_eeg.bdf...\n",
      "BDF file detected\n",
      "Setting channel info structure...\n",
      "Creating raw.info structure...\n",
      "Reading 0 ... 618495  =      0.000 ...   603.999 secs...\n",
      "Loaded BDF file for task 'med2': /home/sivert/Documents/Specialization_project/Datasets/ds003969/sub-067/eeg/sub-067_task-med2_eeg.bdf\n",
      "Loaded metadata JSON for task 'med2'\n",
      "Loaded metadata TSV for task 'med2'\n",
      "Extracting EDF parameters from /home/sivert/Documents/Specialization_project/Datasets/ds003969/sub-067/eeg/sub-067_task-think2_eeg.bdf...\n",
      "BDF file detected\n",
      "Setting channel info structure...\n",
      "Creating raw.info structure...\n",
      "Reading 0 ... 625663  =      0.000 ...   610.999 secs...\n",
      "Loaded BDF file for task 'think2': /home/sivert/Documents/Specialization_project/Datasets/ds003969/sub-067/eeg/sub-067_task-think2_eeg.bdf\n",
      "Loaded metadata JSON for task 'think2'\n",
      "Loaded metadata TSV for task 'think2'\n",
      "\n",
      "##### Channel types #####\n",
      "['Fp1', 'AF7', 'AF3', 'F1', 'F3', 'F5', 'F7', 'FT7', 'FC5', 'FC3', 'FC1', 'C1', 'C3', 'C5', 'T7', 'TP7', 'CP5', 'CP3', 'CP1', 'P1', 'P3', 'P5', 'P7', 'P9', 'PO7', 'PO3', 'O1', 'Iz', 'Oz', 'POz', 'Pz', 'CPz', 'Fpz', 'Fp2', 'AF8', 'AF4', 'AFz', 'Fz', 'F2', 'F4', 'F6', 'F8', 'FT8', 'FC6', 'FC4', 'FC2', 'FCz', 'Cz', 'C2', 'C4', 'C6', 'T8', 'TP8', 'CP6', 'CP4', 'CP2', 'P2', 'P4', 'P6', 'P8', 'P10', 'PO8', 'PO4', 'O2']\n",
      "Bad channels in meditation block: []\n",
      "Bad channels in thinking block: []\n",
      "Setting channel interpolation method to {'eeg': 'spline'}.\n",
      "Setting channel interpolation method to {'eeg': 'spline'}.\n",
      "[]\n",
      "[]\n",
      "\n",
      "##### Downsampling #####\n"
     ]
    },
    {
     "name": "stderr",
     "output_type": "stream",
     "text": [
      "/tmp/ipykernel_97582/156053950.py:33: RuntimeWarning: The unit for channel(s) EXG1, EXG2, EXG3, EXG4, EXG5, EXG6, EXG7, EXG8, Erg1, Erg2, GSR1, GSR2 has changed from V to NA.\n",
      "  raw_med.set_channel_types({'EXG1': 'misc',\n",
      "/tmp/ipykernel_97582/156053950.py:49: RuntimeWarning: The unit for channel(s) EXG1, EXG2, EXG3, EXG4, EXG5, EXG6, EXG7, EXG8, Erg1, Erg2, GSR1, GSR2 has changed from V to NA.\n",
      "  raw_mw.set_channel_types({'EXG1': 'misc',\n",
      "/tmp/ipykernel_97582/156053950.py:90: RuntimeWarning: No bad channels to interpolate. Doing nothing...\n",
      "  raw_med.interpolate_bads()\n",
      "/tmp/ipykernel_97582/156053950.py:91: RuntimeWarning: No bad channels to interpolate. Doing nothing...\n",
      "  raw_mw.interpolate_bads()\n"
     ]
    },
    {
     "name": "stdout",
     "output_type": "stream",
     "text": [
      "New sampling frequency: 128.0 Hz\n",
      "\n",
      "##### Averaging and filtering raw data #####\n",
      "1 (FIFFV_MNE_CUSTOM_REF_ON)\n",
      "1 (FIFFV_MNE_CUSTOM_REF_ON)\n",
      "NOTE: plot_psd() is a legacy function. New code should use .compute_psd().plot().\n",
      "Effective window size : 16.000 (s)\n",
      "Plotting power spectral density (dB=True).\n",
      "NOTE: plot_psd() is a legacy function. New code should use .compute_psd().plot().\n",
      "Effective window size : 16.000 (s)\n",
      "Plotting power spectral density (dB=True).\n",
      "Not setting metadata\n",
      "121 matching events found\n",
      "No baseline correction applied\n",
      "0 projection items activated\n",
      "Using data from preloaded Raw for 121 events and 641 original time points ...\n",
      "1 bad epochs dropped\n",
      "\n",
      "##### Autorejecting bad epochs #####\n",
      "Running autoreject on ch_type=eeg\n"
     ]
    },
    {
     "data": {
      "application/vnd.jupyter.widget-view+json": {
       "model_id": "cff8f7e229914d3cacb4a25c81e37884",
       "version_major": 2,
       "version_minor": 0
      },
      "text/plain": [
       "  0%|          | Creating augmented epochs : 0/64 [00:00<?,       ?it/s]"
      ]
     },
     "metadata": {},
     "output_type": "display_data"
    },
    {
     "data": {
      "application/vnd.jupyter.widget-view+json": {
       "model_id": "e9cb65cba23c4462b03ba99ca7b2d5c9",
       "version_major": 2,
       "version_minor": 0
      },
      "text/plain": [
       "  0%|          | Computing thresholds ... : 0/64 [00:00<?,       ?it/s]"
      ]
     },
     "metadata": {},
     "output_type": "display_data"
    },
    {
     "data": {
      "application/vnd.jupyter.widget-view+json": {
       "model_id": "25f71dac1c2242bab5d2a33533fbecfd",
       "version_major": 2,
       "version_minor": 0
      },
      "text/plain": [
       "  0%|          | Repairing epochs : 0/120 [00:00<?,       ?it/s]"
      ]
     },
     "metadata": {},
     "output_type": "display_data"
    },
    {
     "data": {
      "application/vnd.jupyter.widget-view+json": {
       "model_id": "e4f2cd9e21e14173aafc7679cf4e0834",
       "version_major": 2,
       "version_minor": 0
      },
      "text/plain": [
       "  0%|          | n_interp : 0/3 [00:00<?,       ?it/s]"
      ]
     },
     "metadata": {},
     "output_type": "display_data"
    },
    {
     "data": {
      "application/vnd.jupyter.widget-view+json": {
       "model_id": "42681fbd07394fa08c650157f9c69c45",
       "version_major": 2,
       "version_minor": 0
      },
      "text/plain": [
       "  0%|          | Repairing epochs : 0/120 [00:00<?,       ?it/s]"
      ]
     },
     "metadata": {},
     "output_type": "display_data"
    },
    {
     "data": {
      "application/vnd.jupyter.widget-view+json": {
       "model_id": "4e1abad7d33e4a728b2cbf9591526372",
       "version_major": 2,
       "version_minor": 0
      },
      "text/plain": [
       "  0%|          | Fold : 0/10 [00:00<?,       ?it/s]"
      ]
     },
     "metadata": {},
     "output_type": "display_data"
    },
    {
     "data": {
      "application/vnd.jupyter.widget-view+json": {
       "model_id": "dee3c31fd4e544f092dbdc1824e1c7dd",
       "version_major": 2,
       "version_minor": 0
      },
      "text/plain": [
       "  0%|          | Repairing epochs : 0/120 [00:00<?,       ?it/s]"
      ]
     },
     "metadata": {},
     "output_type": "display_data"
    },
    {
     "data": {
      "application/vnd.jupyter.widget-view+json": {
       "model_id": "e93f9012a7ea4a1798019bdc5038ceaa",
       "version_major": 2,
       "version_minor": 0
      },
      "text/plain": [
       "  0%|          | Fold : 0/10 [00:00<?,       ?it/s]"
      ]
     },
     "metadata": {},
     "output_type": "display_data"
    },
    {
     "data": {
      "application/vnd.jupyter.widget-view+json": {
       "model_id": "ce6927b4c9b14ec0a9241c2fa3a9e9fd",
       "version_major": 2,
       "version_minor": 0
      },
      "text/plain": [
       "  0%|          | Repairing epochs : 0/120 [00:00<?,       ?it/s]"
      ]
     },
     "metadata": {},
     "output_type": "display_data"
    },
    {
     "data": {
      "application/vnd.jupyter.widget-view+json": {
       "model_id": "136c7ca0fd5a4db69b5728533f828699",
       "version_major": 2,
       "version_minor": 0
      },
      "text/plain": [
       "  0%|          | Fold : 0/10 [00:00<?,       ?it/s]"
      ]
     },
     "metadata": {},
     "output_type": "display_data"
    },
    {
     "name": "stdout",
     "output_type": "stream",
     "text": [
      "\n",
      "\n",
      "\n",
      "\n",
      "Estimated consensus=0.70 and n_interpolate=32\n"
     ]
    },
    {
     "data": {
      "application/vnd.jupyter.widget-view+json": {
       "model_id": "cf228496c317436dbb2c1daa957654d6",
       "version_major": 2,
       "version_minor": 0
      },
      "text/plain": [
       "  0%|          | Repairing epochs : 0/120 [00:00<?,       ?it/s]"
      ]
     },
     "metadata": {},
     "output_type": "display_data"
    },
    {
     "name": "stdout",
     "output_type": "stream",
     "text": [
      "No bad epochs were found for your data. Returning a copy of the data you wanted to clean. Interpolation may have been done.\n",
      "Estimating rejection dictionary for eeg\n"
     ]
    },
    {
     "data": {
      "application/vnd.jupyter.widget-view+json": {
       "model_id": "db851c760c5b4040b1c3ad8e3922dbcd",
       "version_major": 2,
       "version_minor": 0
      },
      "text/plain": [
       "  0%|          | interpolating channels : 0/50 [00:00<?,       ?it/s]"
      ]
     },
     "metadata": {},
     "output_type": "display_data"
    },
    {
     "name": "stderr",
     "output_type": "stream",
     "text": [
      "[Parallel(n_jobs=1)]: Done   1 tasks      | elapsed:    0.1s\n",
      "[Parallel(n_jobs=1)]: Done   1 tasks      | elapsed:    0.1s\n"
     ]
    },
    {
     "data": {
      "application/vnd.jupyter.widget-view+json": {
       "model_id": "e0b03da655ec4284b83c4f456992389f",
       "version_major": 2,
       "version_minor": 0
      },
      "text/plain": [
       "  0%|          | Iterating epochs : 0/120 [00:00<?,       ?it/s]"
      ]
     },
     "metadata": {},
     "output_type": "display_data"
    },
    {
     "name": "stdout",
     "output_type": "stream",
     "text": [
      "[Done]\n",
      "Setting channel interpolation method to {'eeg': 'spline'}.\n",
      "Interpolating bad channels.\n",
      "    Automatic origin fit: head of radius 95.0 mm\n",
      "Computing interpolation matrix from 63 sensor positions\n",
      "Interpolating 1 sensors\n",
      "0 bad epochs dropped\n"
     ]
    },
    {
     "name": "stderr",
     "output_type": "stream",
     "text": [
      "[Parallel(n_jobs=1)]: Done   1 tasks      | elapsed:    4.7s\n",
      "[Parallel(n_jobs=1)]: Done   1 tasks      | elapsed:    4.7s\n",
      "/tmp/ipykernel_97582/156053950.py:185: UserWarning: This figure includes Axes that are not compatible with tight_layout, so results might be incorrect.\n",
      "  plt.tight_layout()\n"
     ]
    },
    {
     "name": "stdout",
     "output_type": "stream",
     "text": [
      "NOTE: plot_psd() is a legacy function. New code should use .compute_psd().plot().\n",
      "    Using multitaper spectrum estimation with 7 DPSS windows\n",
      "Plotting power spectral density (dB=True).\n",
      "Averaging across epochs before plotting...\n",
      "Not setting metadata\n",
      "123 matching events found\n",
      "No baseline correction applied\n",
      "0 projection items activated\n",
      "Using data from preloaded Raw for 123 events and 641 original time points ...\n",
      "1 bad epochs dropped\n",
      "\n",
      "##### Autorejecting bad epochs #####\n",
      "Running autoreject on ch_type=eeg\n"
     ]
    },
    {
     "data": {
      "application/vnd.jupyter.widget-view+json": {
       "model_id": "26f16445f0674ec7b51df52db1a60427",
       "version_major": 2,
       "version_minor": 0
      },
      "text/plain": [
       "  0%|          | Creating augmented epochs : 0/64 [00:00<?,       ?it/s]"
      ]
     },
     "metadata": {},
     "output_type": "display_data"
    },
    {
     "data": {
      "application/vnd.jupyter.widget-view+json": {
       "model_id": "6456a1df961b4e6bbb7755bfe0b624ef",
       "version_major": 2,
       "version_minor": 0
      },
      "text/plain": [
       "  0%|          | Computing thresholds ... : 0/64 [00:00<?,       ?it/s]"
      ]
     },
     "metadata": {},
     "output_type": "display_data"
    },
    {
     "data": {
      "application/vnd.jupyter.widget-view+json": {
       "model_id": "5893726996544a5788086fb0463024a1",
       "version_major": 2,
       "version_minor": 0
      },
      "text/plain": [
       "  0%|          | Repairing epochs : 0/122 [00:00<?,       ?it/s]"
      ]
     },
     "metadata": {},
     "output_type": "display_data"
    },
    {
     "data": {
      "application/vnd.jupyter.widget-view+json": {
       "model_id": "8c00d800525b45179794145674eae834",
       "version_major": 2,
       "version_minor": 0
      },
      "text/plain": [
       "  0%|          | n_interp : 0/3 [00:00<?,       ?it/s]"
      ]
     },
     "metadata": {},
     "output_type": "display_data"
    },
    {
     "data": {
      "application/vnd.jupyter.widget-view+json": {
       "model_id": "173ed8421acb473eb3ac57b85fd331a2",
       "version_major": 2,
       "version_minor": 0
      },
      "text/plain": [
       "  0%|          | Repairing epochs : 0/122 [00:00<?,       ?it/s]"
      ]
     },
     "metadata": {},
     "output_type": "display_data"
    },
    {
     "data": {
      "application/vnd.jupyter.widget-view+json": {
       "model_id": "4f984aed6a33451ea3602069aeb8dc8f",
       "version_major": 2,
       "version_minor": 0
      },
      "text/plain": [
       "  0%|          | Fold : 0/10 [00:00<?,       ?it/s]"
      ]
     },
     "metadata": {},
     "output_type": "display_data"
    },
    {
     "data": {
      "application/vnd.jupyter.widget-view+json": {
       "model_id": "d757d7b8856741dbbea00708d725b0a3",
       "version_major": 2,
       "version_minor": 0
      },
      "text/plain": [
       "  0%|          | Repairing epochs : 0/122 [00:00<?,       ?it/s]"
      ]
     },
     "metadata": {},
     "output_type": "display_data"
    },
    {
     "data": {
      "application/vnd.jupyter.widget-view+json": {
       "model_id": "e6df34df93244e3e8f0b847d699943e4",
       "version_major": 2,
       "version_minor": 0
      },
      "text/plain": [
       "  0%|          | Fold : 0/10 [00:00<?,       ?it/s]"
      ]
     },
     "metadata": {},
     "output_type": "display_data"
    },
    {
     "data": {
      "application/vnd.jupyter.widget-view+json": {
       "model_id": "19a057965c804632b38293bd6b41ee73",
       "version_major": 2,
       "version_minor": 0
      },
      "text/plain": [
       "  0%|          | Repairing epochs : 0/122 [00:00<?,       ?it/s]"
      ]
     },
     "metadata": {},
     "output_type": "display_data"
    },
    {
     "data": {
      "application/vnd.jupyter.widget-view+json": {
       "model_id": "1eed511f3b234f46bd83bb520add945d",
       "version_major": 2,
       "version_minor": 0
      },
      "text/plain": [
       "  0%|          | Fold : 0/10 [00:00<?,       ?it/s]"
      ]
     },
     "metadata": {},
     "output_type": "display_data"
    },
    {
     "name": "stdout",
     "output_type": "stream",
     "text": [
      "\n",
      "\n",
      "\n",
      "\n",
      "Estimated consensus=0.70 and n_interpolate=32\n"
     ]
    },
    {
     "data": {
      "application/vnd.jupyter.widget-view+json": {
       "model_id": "a065367a13d64d1fb329179989a3093b",
       "version_major": 2,
       "version_minor": 0
      },
      "text/plain": [
       "  0%|          | Repairing epochs : 0/122 [00:00<?,       ?it/s]"
      ]
     },
     "metadata": {},
     "output_type": "display_data"
    },
    {
     "name": "stdout",
     "output_type": "stream",
     "text": [
      "Dropped 9 epochs: 91, 92, 94, 95, 96, 97, 98, 99, 100\n",
      "Estimating rejection dictionary for eeg\n"
     ]
    },
    {
     "data": {
      "application/vnd.jupyter.widget-view+json": {
       "model_id": "bc06c946b4f24d20bb7c6e63c5df714c",
       "version_major": 2,
       "version_minor": 0
      },
      "text/plain": [
       "  0%|          | interpolating channels : 0/50 [00:00<?,       ?it/s]"
      ]
     },
     "metadata": {},
     "output_type": "display_data"
    },
    {
     "name": "stderr",
     "output_type": "stream",
     "text": [
      "[Parallel(n_jobs=1)]: Done   1 tasks      | elapsed:    0.1s\n",
      "[Parallel(n_jobs=1)]: Done   1 tasks      | elapsed:    0.1s\n"
     ]
    },
    {
     "data": {
      "application/vnd.jupyter.widget-view+json": {
       "model_id": "4084ed881693487bbdcbabdfbe2b68ea",
       "version_major": 2,
       "version_minor": 0
      },
      "text/plain": [
       "  0%|          | Iterating epochs : 0/113 [00:00<?,       ?it/s]"
      ]
     },
     "metadata": {},
     "output_type": "display_data"
    },
    {
     "name": "stdout",
     "output_type": "stream",
     "text": [
      "[Done]\n",
      "Setting channel interpolation method to {'eeg': 'spline'}.\n",
      "Interpolating bad channels.\n",
      "    Automatic origin fit: head of radius 95.0 mm\n",
      "Computing interpolation matrix from 62 sensor positions\n",
      "Interpolating 2 sensors\n",
      "0 bad epochs dropped\n"
     ]
    },
    {
     "name": "stderr",
     "output_type": "stream",
     "text": [
      "[Parallel(n_jobs=1)]: Done   1 tasks      | elapsed:    4.4s\n",
      "[Parallel(n_jobs=1)]: Done   1 tasks      | elapsed:    4.4s\n",
      "/tmp/ipykernel_97582/156053950.py:238: UserWarning: This figure includes Axes that are not compatible with tight_layout, so results might be incorrect.\n",
      "  plt.tight_layout()\n"
     ]
    },
    {
     "name": "stdout",
     "output_type": "stream",
     "text": [
      "Not setting metadata\n",
      "233 matching events found\n",
      "No baseline correction applied\n",
      "Saved combined epochs to epochs/internal_task/sub-067_epo.fif\n",
      "\n",
      "##### Preprocessing subject 068 #####\n",
      "Extracting EDF parameters from /home/sivert/Documents/Specialization_project/Datasets/ds003969/sub-068/eeg/sub-068_task-med2_eeg.bdf...\n",
      "BDF file detected\n",
      "Setting channel info structure...\n",
      "Creating raw.info structure...\n",
      "Reading 0 ... 616447  =      0.000 ...   601.999 secs...\n",
      "Loaded BDF file for task 'med2': /home/sivert/Documents/Specialization_project/Datasets/ds003969/sub-068/eeg/sub-068_task-med2_eeg.bdf\n",
      "Loaded metadata JSON for task 'med2'\n",
      "Loaded metadata TSV for task 'med2'\n",
      "Extracting EDF parameters from /home/sivert/Documents/Specialization_project/Datasets/ds003969/sub-068/eeg/sub-068_task-think2_eeg.bdf...\n",
      "BDF file detected\n",
      "Setting channel info structure...\n",
      "Creating raw.info structure...\n",
      "Reading 0 ... 615423  =      0.000 ...   600.999 secs...\n",
      "Loaded BDF file for task 'think2': /home/sivert/Documents/Specialization_project/Datasets/ds003969/sub-068/eeg/sub-068_task-think2_eeg.bdf\n",
      "Loaded metadata JSON for task 'think2'\n",
      "Loaded metadata TSV for task 'think2'\n",
      "\n",
      "##### Channel types #####\n",
      "['Fp1', 'AF7', 'AF3', 'F1', 'F3', 'F5', 'F7', 'FT7', 'FC5', 'FC3', 'FC1', 'C1', 'C3', 'C5', 'T7', 'TP7', 'CP5', 'CP3', 'CP1', 'P1', 'P3', 'P5', 'P7', 'P9', 'PO7', 'PO3', 'O1', 'Iz', 'Oz', 'POz', 'Pz', 'CPz', 'Fpz', 'Fp2', 'AF8', 'AF4', 'AFz', 'Fz', 'F2', 'F4', 'F6', 'F8', 'FT8', 'FC6', 'FC4', 'FC2', 'FCz', 'Cz', 'C2', 'C4', 'C6', 'T8', 'TP8', 'CP6', 'CP4', 'CP2', 'P2', 'P4', 'P6', 'P8', 'P10', 'PO8', 'PO4', 'O2']\n",
      "Bad channels in meditation block: []\n",
      "Bad channels in thinking block: []\n",
      "Setting channel interpolation method to {'eeg': 'spline'}.\n",
      "Setting channel interpolation method to {'eeg': 'spline'}.\n",
      "[]\n",
      "[]\n",
      "\n",
      "##### Downsampling #####\n"
     ]
    },
    {
     "name": "stderr",
     "output_type": "stream",
     "text": [
      "/tmp/ipykernel_97582/156053950.py:33: RuntimeWarning: The unit for channel(s) EXG1, EXG2, EXG3, EXG4, EXG5, EXG6, EXG7, EXG8, Erg1, Erg2, GSR1, GSR2 has changed from V to NA.\n",
      "  raw_med.set_channel_types({'EXG1': 'misc',\n",
      "/tmp/ipykernel_97582/156053950.py:49: RuntimeWarning: The unit for channel(s) EXG1, EXG2, EXG3, EXG4, EXG5, EXG6, EXG7, EXG8, Erg1, Erg2, GSR1, GSR2 has changed from V to NA.\n",
      "  raw_mw.set_channel_types({'EXG1': 'misc',\n",
      "/tmp/ipykernel_97582/156053950.py:90: RuntimeWarning: No bad channels to interpolate. Doing nothing...\n",
      "  raw_med.interpolate_bads()\n",
      "/tmp/ipykernel_97582/156053950.py:91: RuntimeWarning: No bad channels to interpolate. Doing nothing...\n",
      "  raw_mw.interpolate_bads()\n"
     ]
    },
    {
     "name": "stdout",
     "output_type": "stream",
     "text": [
      "New sampling frequency: 128.0 Hz\n",
      "\n",
      "##### Averaging and filtering raw data #####\n",
      "1 (FIFFV_MNE_CUSTOM_REF_ON)\n",
      "1 (FIFFV_MNE_CUSTOM_REF_ON)\n",
      "NOTE: plot_psd() is a legacy function. New code should use .compute_psd().plot().\n",
      "Effective window size : 16.000 (s)\n",
      "Plotting power spectral density (dB=True).\n",
      "NOTE: plot_psd() is a legacy function. New code should use .compute_psd().plot().\n",
      "Effective window size : 16.000 (s)\n",
      "Plotting power spectral density (dB=True).\n",
      "Not setting metadata\n",
      "121 matching events found\n",
      "No baseline correction applied\n",
      "0 projection items activated\n",
      "Using data from preloaded Raw for 121 events and 641 original time points ...\n",
      "1 bad epochs dropped\n",
      "\n",
      "##### Autorejecting bad epochs #####\n",
      "Running autoreject on ch_type=eeg\n"
     ]
    },
    {
     "data": {
      "application/vnd.jupyter.widget-view+json": {
       "model_id": "374a11fc5cc649b79336098728d5044e",
       "version_major": 2,
       "version_minor": 0
      },
      "text/plain": [
       "  0%|          | Creating augmented epochs : 0/64 [00:00<?,       ?it/s]"
      ]
     },
     "metadata": {},
     "output_type": "display_data"
    },
    {
     "data": {
      "application/vnd.jupyter.widget-view+json": {
       "model_id": "22e778e3c2594eb988ad225c7ae3cbfc",
       "version_major": 2,
       "version_minor": 0
      },
      "text/plain": [
       "  0%|          | Computing thresholds ... : 0/64 [00:00<?,       ?it/s]"
      ]
     },
     "metadata": {},
     "output_type": "display_data"
    },
    {
     "data": {
      "application/vnd.jupyter.widget-view+json": {
       "model_id": "d96621fb33054927869ceef3587a2bee",
       "version_major": 2,
       "version_minor": 0
      },
      "text/plain": [
       "  0%|          | Repairing epochs : 0/120 [00:00<?,       ?it/s]"
      ]
     },
     "metadata": {},
     "output_type": "display_data"
    },
    {
     "data": {
      "application/vnd.jupyter.widget-view+json": {
       "model_id": "7cb7f36b5cbb4d149851be6c283d1f02",
       "version_major": 2,
       "version_minor": 0
      },
      "text/plain": [
       "  0%|          | n_interp : 0/3 [00:00<?,       ?it/s]"
      ]
     },
     "metadata": {},
     "output_type": "display_data"
    },
    {
     "data": {
      "application/vnd.jupyter.widget-view+json": {
       "model_id": "634a76bdc7044badb2e6e499b2d9f547",
       "version_major": 2,
       "version_minor": 0
      },
      "text/plain": [
       "  0%|          | Repairing epochs : 0/120 [00:00<?,       ?it/s]"
      ]
     },
     "metadata": {},
     "output_type": "display_data"
    },
    {
     "data": {
      "application/vnd.jupyter.widget-view+json": {
       "model_id": "9ae0d0d529454cbdb1830115ae5d2398",
       "version_major": 2,
       "version_minor": 0
      },
      "text/plain": [
       "  0%|          | Fold : 0/10 [00:00<?,       ?it/s]"
      ]
     },
     "metadata": {},
     "output_type": "display_data"
    },
    {
     "data": {
      "application/vnd.jupyter.widget-view+json": {
       "model_id": "9e0d757635eb486899ebdef5afd334e6",
       "version_major": 2,
       "version_minor": 0
      },
      "text/plain": [
       "  0%|          | Repairing epochs : 0/120 [00:00<?,       ?it/s]"
      ]
     },
     "metadata": {},
     "output_type": "display_data"
    },
    {
     "data": {
      "application/vnd.jupyter.widget-view+json": {
       "model_id": "63b0b6474d52404e9e18c01a4422c480",
       "version_major": 2,
       "version_minor": 0
      },
      "text/plain": [
       "  0%|          | Fold : 0/10 [00:00<?,       ?it/s]"
      ]
     },
     "metadata": {},
     "output_type": "display_data"
    },
    {
     "data": {
      "application/vnd.jupyter.widget-view+json": {
       "model_id": "16a60e6227774f569d956ceaf8031af1",
       "version_major": 2,
       "version_minor": 0
      },
      "text/plain": [
       "  0%|          | Repairing epochs : 0/120 [00:00<?,       ?it/s]"
      ]
     },
     "metadata": {},
     "output_type": "display_data"
    },
    {
     "data": {
      "application/vnd.jupyter.widget-view+json": {
       "model_id": "67c7f5d5afe7491bbbb2afb2a284ce8a",
       "version_major": 2,
       "version_minor": 0
      },
      "text/plain": [
       "  0%|          | Fold : 0/10 [00:00<?,       ?it/s]"
      ]
     },
     "metadata": {},
     "output_type": "display_data"
    },
    {
     "name": "stdout",
     "output_type": "stream",
     "text": [
      "\n",
      "\n",
      "\n",
      "\n",
      "Estimated consensus=0.60 and n_interpolate=32\n"
     ]
    },
    {
     "data": {
      "application/vnd.jupyter.widget-view+json": {
       "model_id": "53225ac4215a44ea867ea64783a40b4f",
       "version_major": 2,
       "version_minor": 0
      },
      "text/plain": [
       "  0%|          | Repairing epochs : 0/120 [00:00<?,       ?it/s]"
      ]
     },
     "metadata": {},
     "output_type": "display_data"
    },
    {
     "name": "stdout",
     "output_type": "stream",
     "text": [
      "Dropped 7 epochs: 27, 28, 61, 66, 91, 117, 118\n",
      "Estimating rejection dictionary for eeg\n"
     ]
    },
    {
     "data": {
      "application/vnd.jupyter.widget-view+json": {
       "model_id": "7b8be5d590954f60863ffbc3d1709163",
       "version_major": 2,
       "version_minor": 0
      },
      "text/plain": [
       "  0%|          | interpolating channels : 0/50 [00:00<?,       ?it/s]"
      ]
     },
     "metadata": {},
     "output_type": "display_data"
    },
    {
     "name": "stderr",
     "output_type": "stream",
     "text": [
      "[Parallel(n_jobs=1)]: Done   1 tasks      | elapsed:    0.1s\n",
      "[Parallel(n_jobs=1)]: Done   1 tasks      | elapsed:    0.1s\n"
     ]
    },
    {
     "data": {
      "application/vnd.jupyter.widget-view+json": {
       "model_id": "551eee7b34c84bcb8e6c07c6a6613528",
       "version_major": 2,
       "version_minor": 0
      },
      "text/plain": [
       "  0%|          | Iterating epochs : 0/113 [00:00<?,       ?it/s]"
      ]
     },
     "metadata": {},
     "output_type": "display_data"
    },
    {
     "name": "stdout",
     "output_type": "stream",
     "text": [
      "[Done]\n",
      "Setting channel interpolation method to {'eeg': 'spline'}.\n",
      "Interpolating bad channels.\n",
      "    Automatic origin fit: head of radius 95.0 mm\n",
      "Computing interpolation matrix from 62 sensor positions\n",
      "Interpolating 2 sensors\n",
      "0 bad epochs dropped\n"
     ]
    },
    {
     "name": "stderr",
     "output_type": "stream",
     "text": [
      "[Parallel(n_jobs=1)]: Done   1 tasks      | elapsed:    4.4s\n",
      "[Parallel(n_jobs=1)]: Done   1 tasks      | elapsed:    4.4s\n",
      "/tmp/ipykernel_97582/156053950.py:185: UserWarning: This figure includes Axes that are not compatible with tight_layout, so results might be incorrect.\n",
      "  plt.tight_layout()\n"
     ]
    },
    {
     "name": "stdout",
     "output_type": "stream",
     "text": [
      "NOTE: plot_psd() is a legacy function. New code should use .compute_psd().plot().\n",
      "    Using multitaper spectrum estimation with 7 DPSS windows\n",
      "Plotting power spectral density (dB=True).\n",
      "Averaging across epochs before plotting...\n",
      "Not setting metadata\n",
      "121 matching events found\n",
      "No baseline correction applied\n",
      "0 projection items activated\n",
      "Using data from preloaded Raw for 121 events and 641 original time points ...\n",
      "1 bad epochs dropped\n",
      "\n",
      "##### Autorejecting bad epochs #####\n",
      "Running autoreject on ch_type=eeg\n"
     ]
    },
    {
     "data": {
      "application/vnd.jupyter.widget-view+json": {
       "model_id": "472bd10141884c998d8593591d89626d",
       "version_major": 2,
       "version_minor": 0
      },
      "text/plain": [
       "  0%|          | Creating augmented epochs : 0/64 [00:00<?,       ?it/s]"
      ]
     },
     "metadata": {},
     "output_type": "display_data"
    },
    {
     "data": {
      "application/vnd.jupyter.widget-view+json": {
       "model_id": "ec0a8021601a47c68156068090ef20eb",
       "version_major": 2,
       "version_minor": 0
      },
      "text/plain": [
       "  0%|          | Computing thresholds ... : 0/64 [00:00<?,       ?it/s]"
      ]
     },
     "metadata": {},
     "output_type": "display_data"
    },
    {
     "data": {
      "application/vnd.jupyter.widget-view+json": {
       "model_id": "e4c36dd7170e44fba89abf95b2c8cb49",
       "version_major": 2,
       "version_minor": 0
      },
      "text/plain": [
       "  0%|          | Repairing epochs : 0/120 [00:00<?,       ?it/s]"
      ]
     },
     "metadata": {},
     "output_type": "display_data"
    },
    {
     "data": {
      "application/vnd.jupyter.widget-view+json": {
       "model_id": "dc15208846de4d11822682dbf5b9f878",
       "version_major": 2,
       "version_minor": 0
      },
      "text/plain": [
       "  0%|          | n_interp : 0/3 [00:00<?,       ?it/s]"
      ]
     },
     "metadata": {},
     "output_type": "display_data"
    },
    {
     "data": {
      "application/vnd.jupyter.widget-view+json": {
       "model_id": "7f35cb15b40642e7a9ef1c516ea91096",
       "version_major": 2,
       "version_minor": 0
      },
      "text/plain": [
       "  0%|          | Repairing epochs : 0/120 [00:00<?,       ?it/s]"
      ]
     },
     "metadata": {},
     "output_type": "display_data"
    },
    {
     "data": {
      "application/vnd.jupyter.widget-view+json": {
       "model_id": "6d4cff0e88d74f4097652f23e57a1c73",
       "version_major": 2,
       "version_minor": 0
      },
      "text/plain": [
       "  0%|          | Fold : 0/10 [00:00<?,       ?it/s]"
      ]
     },
     "metadata": {},
     "output_type": "display_data"
    },
    {
     "data": {
      "application/vnd.jupyter.widget-view+json": {
       "model_id": "086831ad4f2843d29936741b145cf879",
       "version_major": 2,
       "version_minor": 0
      },
      "text/plain": [
       "  0%|          | Repairing epochs : 0/120 [00:00<?,       ?it/s]"
      ]
     },
     "metadata": {},
     "output_type": "display_data"
    },
    {
     "data": {
      "application/vnd.jupyter.widget-view+json": {
       "model_id": "ed19121fa656489f81b8f4989f9d1e3c",
       "version_major": 2,
       "version_minor": 0
      },
      "text/plain": [
       "  0%|          | Fold : 0/10 [00:00<?,       ?it/s]"
      ]
     },
     "metadata": {},
     "output_type": "display_data"
    },
    {
     "data": {
      "application/vnd.jupyter.widget-view+json": {
       "model_id": "61823279b5b04ddc89c632bb6580cc9c",
       "version_major": 2,
       "version_minor": 0
      },
      "text/plain": [
       "  0%|          | Repairing epochs : 0/120 [00:00<?,       ?it/s]"
      ]
     },
     "metadata": {},
     "output_type": "display_data"
    },
    {
     "data": {
      "application/vnd.jupyter.widget-view+json": {
       "model_id": "9e8434437ad04522a0565262999cd3f5",
       "version_major": 2,
       "version_minor": 0
      },
      "text/plain": [
       "  0%|          | Fold : 0/10 [00:00<?,       ?it/s]"
      ]
     },
     "metadata": {},
     "output_type": "display_data"
    },
    {
     "name": "stdout",
     "output_type": "stream",
     "text": [
      "\n",
      "\n",
      "\n",
      "\n",
      "Estimated consensus=0.60 and n_interpolate=32\n"
     ]
    },
    {
     "data": {
      "application/vnd.jupyter.widget-view+json": {
       "model_id": "7096ed11fc65476d95555c31a7989f13",
       "version_major": 2,
       "version_minor": 0
      },
      "text/plain": [
       "  0%|          | Repairing epochs : 0/120 [00:00<?,       ?it/s]"
      ]
     },
     "metadata": {},
     "output_type": "display_data"
    },
    {
     "name": "stdout",
     "output_type": "stream",
     "text": [
      "Dropped 1 epoch: 82\n",
      "Estimating rejection dictionary for eeg\n"
     ]
    },
    {
     "data": {
      "application/vnd.jupyter.widget-view+json": {
       "model_id": "3bbccf4f70734742992d5ee9001e3c75",
       "version_major": 2,
       "version_minor": 0
      },
      "text/plain": [
       "  0%|          | interpolating channels : 0/50 [00:00<?,       ?it/s]"
      ]
     },
     "metadata": {},
     "output_type": "display_data"
    },
    {
     "name": "stderr",
     "output_type": "stream",
     "text": [
      "[Parallel(n_jobs=1)]: Done   1 tasks      | elapsed:    0.1s\n",
      "[Parallel(n_jobs=1)]: Done   1 tasks      | elapsed:    0.1s\n"
     ]
    },
    {
     "data": {
      "application/vnd.jupyter.widget-view+json": {
       "model_id": "b55e7f4404bb40c0b0fe0453fc8b4d6d",
       "version_major": 2,
       "version_minor": 0
      },
      "text/plain": [
       "  0%|          | Iterating epochs : 0/119 [00:00<?,       ?it/s]"
      ]
     },
     "metadata": {},
     "output_type": "display_data"
    },
    {
     "name": "stdout",
     "output_type": "stream",
     "text": [
      "[Done]\n",
      "Setting channel interpolation method to {'eeg': 'spline'}.\n",
      "Interpolating bad channels.\n",
      "    Automatic origin fit: head of radius 95.0 mm\n",
      "Computing interpolation matrix from 62 sensor positions\n",
      "Interpolating 2 sensors\n",
      "0 bad epochs dropped\n"
     ]
    },
    {
     "name": "stderr",
     "output_type": "stream",
     "text": [
      "[Parallel(n_jobs=1)]: Done   1 tasks      | elapsed:    4.7s\n",
      "[Parallel(n_jobs=1)]: Done   1 tasks      | elapsed:    4.7s\n",
      "/tmp/ipykernel_97582/156053950.py:238: UserWarning: This figure includes Axes that are not compatible with tight_layout, so results might be incorrect.\n",
      "  plt.tight_layout()\n"
     ]
    },
    {
     "name": "stdout",
     "output_type": "stream",
     "text": [
      "Not setting metadata\n",
      "232 matching events found\n",
      "No baseline correction applied\n",
      "Saved combined epochs to epochs/internal_task/sub-068_epo.fif\n",
      "\n",
      "##### Preprocessing subject 069 #####\n",
      "Extracting EDF parameters from /home/sivert/Documents/Specialization_project/Datasets/ds003969/sub-069/eeg/sub-069_task-med2_eeg.bdf...\n",
      "BDF file detected\n",
      "Setting channel info structure...\n",
      "Creating raw.info structure...\n",
      "Reading 0 ... 614399  =      0.000 ...   599.999 secs...\n",
      "Loaded BDF file for task 'med2': /home/sivert/Documents/Specialization_project/Datasets/ds003969/sub-069/eeg/sub-069_task-med2_eeg.bdf\n",
      "Loaded metadata JSON for task 'med2'\n",
      "Loaded metadata TSV for task 'med2'\n",
      "Extracting EDF parameters from /home/sivert/Documents/Specialization_project/Datasets/ds003969/sub-069/eeg/sub-069_task-think2_eeg.bdf...\n",
      "BDF file detected\n",
      "Setting channel info structure...\n",
      "Creating raw.info structure...\n",
      "Reading 0 ... 618495  =      0.000 ...   603.999 secs...\n",
      "Loaded BDF file for task 'think2': /home/sivert/Documents/Specialization_project/Datasets/ds003969/sub-069/eeg/sub-069_task-think2_eeg.bdf\n",
      "Loaded metadata JSON for task 'think2'\n",
      "Loaded metadata TSV for task 'think2'\n",
      "\n",
      "##### Channel types #####\n",
      "['Fp1', 'AF7', 'AF3', 'F1', 'F3', 'F5', 'F7', 'FT7', 'FC5', 'FC3', 'FC1', 'C1', 'C3', 'C5', 'T7', 'TP7', 'CP5', 'CP3', 'CP1', 'P1', 'P3', 'P5', 'P7', 'P9', 'PO7', 'PO3', 'O1', 'Iz', 'Oz', 'POz', 'Pz', 'CPz', 'Fpz', 'Fp2', 'AF8', 'AF4', 'AFz', 'Fz', 'F2', 'F4', 'F6', 'F8', 'FT8', 'FC6', 'FC4', 'FC2', 'FCz', 'Cz', 'C2', 'C4', 'C6', 'T8', 'TP8', 'CP6', 'CP4', 'CP2', 'P2', 'P4', 'P6', 'P8', 'P10', 'PO8', 'PO4', 'O2']\n",
      "Bad channels in meditation block: ['PO4', 'PO8', 'O2']\n",
      "Bad channels in thinking block: ['PO4', 'PO8', 'O2']\n",
      "Setting channel interpolation method to {'eeg': 'spline'}.\n",
      "Interpolating bad channels.\n"
     ]
    },
    {
     "name": "stderr",
     "output_type": "stream",
     "text": [
      "/tmp/ipykernel_97582/156053950.py:33: RuntimeWarning: The unit for channel(s) EXG1, EXG2, EXG3, EXG4, EXG5, EXG6, EXG7, EXG8, Erg1, Erg2, GSR1, GSR2 has changed from V to NA.\n",
      "  raw_med.set_channel_types({'EXG1': 'misc',\n",
      "/tmp/ipykernel_97582/156053950.py:49: RuntimeWarning: The unit for channel(s) EXG1, EXG2, EXG3, EXG4, EXG5, EXG6, EXG7, EXG8, Erg1, Erg2, GSR1, GSR2 has changed from V to NA.\n",
      "  raw_mw.set_channel_types({'EXG1': 'misc',\n"
     ]
    },
    {
     "name": "stdout",
     "output_type": "stream",
     "text": [
      "    Automatic origin fit: head of radius 95.0 mm\n",
      "Computing interpolation matrix from 61 sensor positions\n",
      "Interpolating 3 sensors\n",
      "Setting channel interpolation method to {'eeg': 'spline'}.\n",
      "Interpolating bad channels.\n",
      "    Automatic origin fit: head of radius 95.0 mm\n",
      "Computing interpolation matrix from 61 sensor positions\n",
      "Interpolating 3 sensors\n",
      "[]\n",
      "[]\n",
      "\n",
      "##### Downsampling #####\n",
      "New sampling frequency: 128.0 Hz\n",
      "\n",
      "##### Averaging and filtering raw data #####\n",
      "1 (FIFFV_MNE_CUSTOM_REF_ON)\n",
      "1 (FIFFV_MNE_CUSTOM_REF_ON)\n",
      "NOTE: plot_psd() is a legacy function. New code should use .compute_psd().plot().\n",
      "Effective window size : 16.000 (s)\n",
      "Plotting power spectral density (dB=True).\n",
      "NOTE: plot_psd() is a legacy function. New code should use .compute_psd().plot().\n",
      "Effective window size : 16.000 (s)\n",
      "Plotting power spectral density (dB=True).\n",
      "Not setting metadata\n",
      "120 matching events found\n",
      "No baseline correction applied\n",
      "0 projection items activated\n",
      "Using data from preloaded Raw for 120 events and 641 original time points ...\n",
      "1 bad epochs dropped\n",
      "\n",
      "##### Autorejecting bad epochs #####\n",
      "Running autoreject on ch_type=eeg\n"
     ]
    },
    {
     "data": {
      "application/vnd.jupyter.widget-view+json": {
       "model_id": "02d93bd2d90d4475be6d7089c26a5cdc",
       "version_major": 2,
       "version_minor": 0
      },
      "text/plain": [
       "  0%|          | Creating augmented epochs : 0/64 [00:00<?,       ?it/s]"
      ]
     },
     "metadata": {},
     "output_type": "display_data"
    },
    {
     "data": {
      "application/vnd.jupyter.widget-view+json": {
       "model_id": "0e0ee848fcb349bbbeaeb00caf8a0261",
       "version_major": 2,
       "version_minor": 0
      },
      "text/plain": [
       "  0%|          | Computing thresholds ... : 0/64 [00:00<?,       ?it/s]"
      ]
     },
     "metadata": {},
     "output_type": "display_data"
    },
    {
     "data": {
      "application/vnd.jupyter.widget-view+json": {
       "model_id": "19048a0431914df9a8cff05cb92b1fa3",
       "version_major": 2,
       "version_minor": 0
      },
      "text/plain": [
       "  0%|          | Repairing epochs : 0/119 [00:00<?,       ?it/s]"
      ]
     },
     "metadata": {},
     "output_type": "display_data"
    },
    {
     "data": {
      "application/vnd.jupyter.widget-view+json": {
       "model_id": "ac868c5b4ab944cd9e09093e4479b307",
       "version_major": 2,
       "version_minor": 0
      },
      "text/plain": [
       "  0%|          | n_interp : 0/3 [00:00<?,       ?it/s]"
      ]
     },
     "metadata": {},
     "output_type": "display_data"
    },
    {
     "data": {
      "application/vnd.jupyter.widget-view+json": {
       "model_id": "a13a90d07c974379878800b353a52184",
       "version_major": 2,
       "version_minor": 0
      },
      "text/plain": [
       "  0%|          | Repairing epochs : 0/119 [00:00<?,       ?it/s]"
      ]
     },
     "metadata": {},
     "output_type": "display_data"
    },
    {
     "data": {
      "application/vnd.jupyter.widget-view+json": {
       "model_id": "de0537cc09b440dea7f7761b6bc526a4",
       "version_major": 2,
       "version_minor": 0
      },
      "text/plain": [
       "  0%|          | Fold : 0/10 [00:00<?,       ?it/s]"
      ]
     },
     "metadata": {},
     "output_type": "display_data"
    },
    {
     "data": {
      "application/vnd.jupyter.widget-view+json": {
       "model_id": "367deddf943640eda0fdb99d4c9889ac",
       "version_major": 2,
       "version_minor": 0
      },
      "text/plain": [
       "  0%|          | Repairing epochs : 0/119 [00:00<?,       ?it/s]"
      ]
     },
     "metadata": {},
     "output_type": "display_data"
    },
    {
     "data": {
      "application/vnd.jupyter.widget-view+json": {
       "model_id": "41dc4ea3a4374d76a8fae0872d62e40e",
       "version_major": 2,
       "version_minor": 0
      },
      "text/plain": [
       "  0%|          | Fold : 0/10 [00:00<?,       ?it/s]"
      ]
     },
     "metadata": {},
     "output_type": "display_data"
    },
    {
     "data": {
      "application/vnd.jupyter.widget-view+json": {
       "model_id": "838a2f67741c41e28d26b720f695e12a",
       "version_major": 2,
       "version_minor": 0
      },
      "text/plain": [
       "  0%|          | Repairing epochs : 0/119 [00:00<?,       ?it/s]"
      ]
     },
     "metadata": {},
     "output_type": "display_data"
    },
    {
     "data": {
      "application/vnd.jupyter.widget-view+json": {
       "model_id": "d2a8cf6100e54b27b954de3bd9c099cf",
       "version_major": 2,
       "version_minor": 0
      },
      "text/plain": [
       "  0%|          | Fold : 0/10 [00:00<?,       ?it/s]"
      ]
     },
     "metadata": {},
     "output_type": "display_data"
    },
    {
     "name": "stdout",
     "output_type": "stream",
     "text": [
      "\n",
      "\n",
      "\n",
      "\n",
      "Estimated consensus=0.80 and n_interpolate=32\n"
     ]
    },
    {
     "data": {
      "application/vnd.jupyter.widget-view+json": {
       "model_id": "01dc05080aae439e9d8d21d98b54d31c",
       "version_major": 2,
       "version_minor": 0
      },
      "text/plain": [
       "  0%|          | Repairing epochs : 0/119 [00:00<?,       ?it/s]"
      ]
     },
     "metadata": {},
     "output_type": "display_data"
    },
    {
     "name": "stdout",
     "output_type": "stream",
     "text": [
      "No bad epochs were found for your data. Returning a copy of the data you wanted to clean. Interpolation may have been done.\n",
      "Estimating rejection dictionary for eeg\n"
     ]
    },
    {
     "data": {
      "application/vnd.jupyter.widget-view+json": {
       "model_id": "5f627aa592824f4f8ff50a798135160c",
       "version_major": 2,
       "version_minor": 0
      },
      "text/plain": [
       "  0%|          | interpolating channels : 0/50 [00:00<?,       ?it/s]"
      ]
     },
     "metadata": {},
     "output_type": "display_data"
    },
    {
     "name": "stderr",
     "output_type": "stream",
     "text": [
      "[Parallel(n_jobs=1)]: Done   1 tasks      | elapsed:    0.1s\n",
      "[Parallel(n_jobs=1)]: Done   1 tasks      | elapsed:    0.1s\n"
     ]
    },
    {
     "data": {
      "application/vnd.jupyter.widget-view+json": {
       "model_id": "6a59dd5debd84730885c533007d5919c",
       "version_major": 2,
       "version_minor": 0
      },
      "text/plain": [
       "  0%|          | Iterating epochs : 0/119 [00:00<?,       ?it/s]"
      ]
     },
     "metadata": {},
     "output_type": "display_data"
    },
    {
     "name": "stdout",
     "output_type": "stream",
     "text": [
      "[Done]\n",
      "Setting channel interpolation method to {'eeg': 'spline'}.\n",
      "Interpolating bad channels.\n",
      "    Automatic origin fit: head of radius 95.0 mm\n",
      "Computing interpolation matrix from 63 sensor positions\n",
      "Interpolating 1 sensors\n",
      "0 bad epochs dropped\n"
     ]
    },
    {
     "name": "stderr",
     "output_type": "stream",
     "text": [
      "[Parallel(n_jobs=1)]: Done   1 tasks      | elapsed:    4.8s\n",
      "[Parallel(n_jobs=1)]: Done   1 tasks      | elapsed:    4.8s\n",
      "/tmp/ipykernel_97582/156053950.py:185: UserWarning: This figure includes Axes that are not compatible with tight_layout, so results might be incorrect.\n",
      "  plt.tight_layout()\n"
     ]
    },
    {
     "name": "stdout",
     "output_type": "stream",
     "text": [
      "NOTE: plot_psd() is a legacy function. New code should use .compute_psd().plot().\n",
      "    Using multitaper spectrum estimation with 7 DPSS windows\n",
      "Plotting power spectral density (dB=True).\n",
      "Averaging across epochs before plotting...\n",
      "Not setting metadata\n",
      "121 matching events found\n",
      "No baseline correction applied\n",
      "0 projection items activated\n",
      "Using data from preloaded Raw for 121 events and 641 original time points ...\n",
      "1 bad epochs dropped\n",
      "\n",
      "##### Autorejecting bad epochs #####\n",
      "Running autoreject on ch_type=eeg\n"
     ]
    },
    {
     "data": {
      "application/vnd.jupyter.widget-view+json": {
       "model_id": "b2ed5b1eaf9d4aba8b2e2b5a385e0c75",
       "version_major": 2,
       "version_minor": 0
      },
      "text/plain": [
       "  0%|          | Creating augmented epochs : 0/64 [00:00<?,       ?it/s]"
      ]
     },
     "metadata": {},
     "output_type": "display_data"
    },
    {
     "data": {
      "application/vnd.jupyter.widget-view+json": {
       "model_id": "4ecb552cafa24691a15b3efa4454ac1d",
       "version_major": 2,
       "version_minor": 0
      },
      "text/plain": [
       "  0%|          | Computing thresholds ... : 0/64 [00:00<?,       ?it/s]"
      ]
     },
     "metadata": {},
     "output_type": "display_data"
    },
    {
     "data": {
      "application/vnd.jupyter.widget-view+json": {
       "model_id": "37993df599e54758bb3abdcd3f60b56d",
       "version_major": 2,
       "version_minor": 0
      },
      "text/plain": [
       "  0%|          | Repairing epochs : 0/120 [00:00<?,       ?it/s]"
      ]
     },
     "metadata": {},
     "output_type": "display_data"
    },
    {
     "data": {
      "application/vnd.jupyter.widget-view+json": {
       "model_id": "34370942dab443199e5cbd87c0365974",
       "version_major": 2,
       "version_minor": 0
      },
      "text/plain": [
       "  0%|          | n_interp : 0/3 [00:00<?,       ?it/s]"
      ]
     },
     "metadata": {},
     "output_type": "display_data"
    },
    {
     "data": {
      "application/vnd.jupyter.widget-view+json": {
       "model_id": "e7a9b2d930d64ee0b79d8a59735556ae",
       "version_major": 2,
       "version_minor": 0
      },
      "text/plain": [
       "  0%|          | Repairing epochs : 0/120 [00:00<?,       ?it/s]"
      ]
     },
     "metadata": {},
     "output_type": "display_data"
    },
    {
     "data": {
      "application/vnd.jupyter.widget-view+json": {
       "model_id": "1b9ff90b136a486fa11e88a1d6f74dbe",
       "version_major": 2,
       "version_minor": 0
      },
      "text/plain": [
       "  0%|          | Fold : 0/10 [00:00<?,       ?it/s]"
      ]
     },
     "metadata": {},
     "output_type": "display_data"
    },
    {
     "data": {
      "application/vnd.jupyter.widget-view+json": {
       "model_id": "fd5c561ed48a4b79968d5f4091219204",
       "version_major": 2,
       "version_minor": 0
      },
      "text/plain": [
       "  0%|          | Repairing epochs : 0/120 [00:00<?,       ?it/s]"
      ]
     },
     "metadata": {},
     "output_type": "display_data"
    },
    {
     "data": {
      "application/vnd.jupyter.widget-view+json": {
       "model_id": "5b37619baeb148c9bf6504b312fedc82",
       "version_major": 2,
       "version_minor": 0
      },
      "text/plain": [
       "  0%|          | Fold : 0/10 [00:00<?,       ?it/s]"
      ]
     },
     "metadata": {},
     "output_type": "display_data"
    },
    {
     "data": {
      "application/vnd.jupyter.widget-view+json": {
       "model_id": "85534960a22446debbe895fc115d3602",
       "version_major": 2,
       "version_minor": 0
      },
      "text/plain": [
       "  0%|          | Repairing epochs : 0/120 [00:00<?,       ?it/s]"
      ]
     },
     "metadata": {},
     "output_type": "display_data"
    },
    {
     "data": {
      "application/vnd.jupyter.widget-view+json": {
       "model_id": "7376a8ef48f34da29139e24d57102438",
       "version_major": 2,
       "version_minor": 0
      },
      "text/plain": [
       "  0%|          | Fold : 0/10 [00:00<?,       ?it/s]"
      ]
     },
     "metadata": {},
     "output_type": "display_data"
    },
    {
     "name": "stdout",
     "output_type": "stream",
     "text": [
      "\n",
      "\n",
      "\n",
      "\n",
      "Estimated consensus=0.60 and n_interpolate=32\n"
     ]
    },
    {
     "data": {
      "application/vnd.jupyter.widget-view+json": {
       "model_id": "3c338a9dd46c4dd4b4d8af6f853227e0",
       "version_major": 2,
       "version_minor": 0
      },
      "text/plain": [
       "  0%|          | Repairing epochs : 0/120 [00:00<?,       ?it/s]"
      ]
     },
     "metadata": {},
     "output_type": "display_data"
    },
    {
     "name": "stdout",
     "output_type": "stream",
     "text": [
      "Dropped 8 epochs: 12, 23, 25, 105, 109, 112, 113, 114\n",
      "Estimating rejection dictionary for eeg\n"
     ]
    },
    {
     "data": {
      "application/vnd.jupyter.widget-view+json": {
       "model_id": "47f961cd71dd49e0b65aa13fcc0e0791",
       "version_major": 2,
       "version_minor": 0
      },
      "text/plain": [
       "  0%|          | interpolating channels : 0/50 [00:00<?,       ?it/s]"
      ]
     },
     "metadata": {},
     "output_type": "display_data"
    },
    {
     "name": "stderr",
     "output_type": "stream",
     "text": [
      "[Parallel(n_jobs=1)]: Done   1 tasks      | elapsed:    0.1s\n",
      "[Parallel(n_jobs=1)]: Done   1 tasks      | elapsed:    0.1s\n"
     ]
    },
    {
     "data": {
      "application/vnd.jupyter.widget-view+json": {
       "model_id": "139b309a6d3d49a7bf0dd9d92f3ca0b6",
       "version_major": 2,
       "version_minor": 0
      },
      "text/plain": [
       "  0%|          | Iterating epochs : 0/112 [00:00<?,       ?it/s]"
      ]
     },
     "metadata": {},
     "output_type": "display_data"
    },
    {
     "name": "stdout",
     "output_type": "stream",
     "text": [
      "[Done]\n",
      "Setting channel interpolation method to {'eeg': 'spline'}.\n",
      "Interpolating bad channels.\n",
      "    Automatic origin fit: head of radius 95.0 mm\n",
      "Computing interpolation matrix from 63 sensor positions\n",
      "Interpolating 1 sensors\n",
      "0 bad epochs dropped\n"
     ]
    },
    {
     "name": "stderr",
     "output_type": "stream",
     "text": [
      "[Parallel(n_jobs=1)]: Done   1 tasks      | elapsed:    4.6s\n",
      "[Parallel(n_jobs=1)]: Done   1 tasks      | elapsed:    4.6s\n",
      "/tmp/ipykernel_97582/156053950.py:238: UserWarning: This figure includes Axes that are not compatible with tight_layout, so results might be incorrect.\n",
      "  plt.tight_layout()\n"
     ]
    },
    {
     "name": "stdout",
     "output_type": "stream",
     "text": [
      "Not setting metadata\n",
      "231 matching events found\n",
      "No baseline correction applied\n",
      "Saved combined epochs to epochs/internal_task/sub-069_epo.fif\n",
      "\n",
      "##### Preprocessing subject 070 #####\n",
      "Extracting EDF parameters from /home/sivert/Documents/Specialization_project/Datasets/ds003969/sub-070/eeg/sub-070_task-med2_eeg.bdf...\n",
      "BDF file detected\n",
      "Setting channel info structure...\n",
      "Creating raw.info structure...\n",
      "Reading 0 ... 616447  =      0.000 ...   601.999 secs...\n",
      "Loaded BDF file for task 'med2': /home/sivert/Documents/Specialization_project/Datasets/ds003969/sub-070/eeg/sub-070_task-med2_eeg.bdf\n",
      "Loaded metadata JSON for task 'med2'\n",
      "Loaded metadata TSV for task 'med2'\n",
      "Extracting EDF parameters from /home/sivert/Documents/Specialization_project/Datasets/ds003969/sub-070/eeg/sub-070_task-think2_eeg.bdf...\n",
      "BDF file detected\n",
      "Setting channel info structure...\n",
      "Creating raw.info structure...\n",
      "Reading 0 ... 623615  =      0.000 ...   608.999 secs...\n",
      "Loaded BDF file for task 'think2': /home/sivert/Documents/Specialization_project/Datasets/ds003969/sub-070/eeg/sub-070_task-think2_eeg.bdf\n",
      "Loaded metadata JSON for task 'think2'\n",
      "Loaded metadata TSV for task 'think2'\n",
      "\n",
      "##### Channel types #####\n",
      "['Fp1', 'AF7', 'AF3', 'F1', 'F3', 'F5', 'F7', 'FT7', 'FC5', 'FC3', 'FC1', 'C1', 'C3', 'C5', 'T7', 'TP7', 'CP5', 'CP3', 'CP1', 'P1', 'P3', 'P5', 'P7', 'P9', 'PO7', 'PO3', 'O1', 'Iz', 'Oz', 'POz', 'Pz', 'CPz', 'Fpz', 'Fp2', 'AF8', 'AF4', 'AFz', 'Fz', 'F2', 'F4', 'F6', 'F8', 'FT8', 'FC6', 'FC4', 'FC2', 'FCz', 'Cz', 'C2', 'C4', 'C6', 'T8', 'TP8', 'CP6', 'CP4', 'CP2', 'P2', 'P4', 'P6', 'P8', 'P10', 'PO8', 'PO4', 'O2']\n",
      "Bad channels in meditation block: []\n",
      "Bad channels in thinking block: []\n",
      "Setting channel interpolation method to {'eeg': 'spline'}.\n",
      "Setting channel interpolation method to {'eeg': 'spline'}.\n"
     ]
    },
    {
     "name": "stderr",
     "output_type": "stream",
     "text": [
      "/tmp/ipykernel_97582/156053950.py:33: RuntimeWarning: The unit for channel(s) EXG1, EXG2, EXG3, EXG4, EXG5, EXG6, EXG7, EXG8, Erg1, Erg2, GSR1, GSR2 has changed from V to NA.\n",
      "  raw_med.set_channel_types({'EXG1': 'misc',\n",
      "/tmp/ipykernel_97582/156053950.py:49: RuntimeWarning: The unit for channel(s) EXG1, EXG2, EXG3, EXG4, EXG5, EXG6, EXG7, EXG8, Erg1, Erg2, GSR1, GSR2 has changed from V to NA.\n",
      "  raw_mw.set_channel_types({'EXG1': 'misc',\n",
      "/tmp/ipykernel_97582/156053950.py:90: RuntimeWarning: No bad channels to interpolate. Doing nothing...\n",
      "  raw_med.interpolate_bads()\n",
      "/tmp/ipykernel_97582/156053950.py:91: RuntimeWarning: No bad channels to interpolate. Doing nothing...\n",
      "  raw_mw.interpolate_bads()\n"
     ]
    },
    {
     "name": "stdout",
     "output_type": "stream",
     "text": [
      "[]\n",
      "[]\n",
      "\n",
      "##### Downsampling #####\n",
      "New sampling frequency: 128.0 Hz\n",
      "\n",
      "##### Averaging and filtering raw data #####\n",
      "1 (FIFFV_MNE_CUSTOM_REF_ON)\n",
      "1 (FIFFV_MNE_CUSTOM_REF_ON)\n",
      "NOTE: plot_psd() is a legacy function. New code should use .compute_psd().plot().\n",
      "Effective window size : 16.000 (s)\n",
      "Plotting power spectral density (dB=True).\n",
      "NOTE: plot_psd() is a legacy function. New code should use .compute_psd().plot().\n",
      "Effective window size : 16.000 (s)\n",
      "Plotting power spectral density (dB=True).\n",
      "Not setting metadata\n",
      "121 matching events found\n",
      "No baseline correction applied\n",
      "0 projection items activated\n",
      "Using data from preloaded Raw for 121 events and 641 original time points ...\n",
      "1 bad epochs dropped\n",
      "\n",
      "##### Autorejecting bad epochs #####\n",
      "Running autoreject on ch_type=eeg\n"
     ]
    },
    {
     "data": {
      "application/vnd.jupyter.widget-view+json": {
       "model_id": "e3559a81a548402b8b9a5538e87f69aa",
       "version_major": 2,
       "version_minor": 0
      },
      "text/plain": [
       "  0%|          | Creating augmented epochs : 0/64 [00:00<?,       ?it/s]"
      ]
     },
     "metadata": {},
     "output_type": "display_data"
    },
    {
     "data": {
      "application/vnd.jupyter.widget-view+json": {
       "model_id": "63bb8ca8484741d3b0257988ee455f3a",
       "version_major": 2,
       "version_minor": 0
      },
      "text/plain": [
       "  0%|          | Computing thresholds ... : 0/64 [00:00<?,       ?it/s]"
      ]
     },
     "metadata": {},
     "output_type": "display_data"
    },
    {
     "data": {
      "application/vnd.jupyter.widget-view+json": {
       "model_id": "7912da879aff403cb1651cdfdd760779",
       "version_major": 2,
       "version_minor": 0
      },
      "text/plain": [
       "  0%|          | Repairing epochs : 0/120 [00:00<?,       ?it/s]"
      ]
     },
     "metadata": {},
     "output_type": "display_data"
    },
    {
     "data": {
      "application/vnd.jupyter.widget-view+json": {
       "model_id": "3f90b3292d9b43b796ba23bd676db553",
       "version_major": 2,
       "version_minor": 0
      },
      "text/plain": [
       "  0%|          | n_interp : 0/3 [00:00<?,       ?it/s]"
      ]
     },
     "metadata": {},
     "output_type": "display_data"
    },
    {
     "data": {
      "application/vnd.jupyter.widget-view+json": {
       "model_id": "ac75dc8204e2488c954aa72d32970633",
       "version_major": 2,
       "version_minor": 0
      },
      "text/plain": [
       "  0%|          | Repairing epochs : 0/120 [00:00<?,       ?it/s]"
      ]
     },
     "metadata": {},
     "output_type": "display_data"
    },
    {
     "data": {
      "application/vnd.jupyter.widget-view+json": {
       "model_id": "789bf08d287a41859c05a394eb8ed01d",
       "version_major": 2,
       "version_minor": 0
      },
      "text/plain": [
       "  0%|          | Fold : 0/10 [00:00<?,       ?it/s]"
      ]
     },
     "metadata": {},
     "output_type": "display_data"
    },
    {
     "data": {
      "application/vnd.jupyter.widget-view+json": {
       "model_id": "cc4eaae777234f41a6e399fa5bc7a30d",
       "version_major": 2,
       "version_minor": 0
      },
      "text/plain": [
       "  0%|          | Repairing epochs : 0/120 [00:00<?,       ?it/s]"
      ]
     },
     "metadata": {},
     "output_type": "display_data"
    },
    {
     "data": {
      "application/vnd.jupyter.widget-view+json": {
       "model_id": "019a86fdd5834484b26029191270e55c",
       "version_major": 2,
       "version_minor": 0
      },
      "text/plain": [
       "  0%|          | Fold : 0/10 [00:00<?,       ?it/s]"
      ]
     },
     "metadata": {},
     "output_type": "display_data"
    },
    {
     "data": {
      "application/vnd.jupyter.widget-view+json": {
       "model_id": "ea6731566dc94a289b6e7d6aca892f31",
       "version_major": 2,
       "version_minor": 0
      },
      "text/plain": [
       "  0%|          | Repairing epochs : 0/120 [00:00<?,       ?it/s]"
      ]
     },
     "metadata": {},
     "output_type": "display_data"
    },
    {
     "data": {
      "application/vnd.jupyter.widget-view+json": {
       "model_id": "a3ac8ca7aa174cd4bc1883b520e9dcd7",
       "version_major": 2,
       "version_minor": 0
      },
      "text/plain": [
       "  0%|          | Fold : 0/10 [00:00<?,       ?it/s]"
      ]
     },
     "metadata": {},
     "output_type": "display_data"
    },
    {
     "name": "stdout",
     "output_type": "stream",
     "text": [
      "\n",
      "\n",
      "\n",
      "\n",
      "Estimated consensus=0.60 and n_interpolate=1\n"
     ]
    },
    {
     "data": {
      "application/vnd.jupyter.widget-view+json": {
       "model_id": "0bf9d99d0c8c4ea7aea42053a26f801e",
       "version_major": 2,
       "version_minor": 0
      },
      "text/plain": [
       "  0%|          | Repairing epochs : 0/120 [00:00<?,       ?it/s]"
      ]
     },
     "metadata": {},
     "output_type": "display_data"
    },
    {
     "name": "stdout",
     "output_type": "stream",
     "text": [
      "Dropped 8 epochs: 12, 23, 39, 75, 76, 94, 99, 104\n",
      "Estimating rejection dictionary for eeg\n"
     ]
    },
    {
     "data": {
      "application/vnd.jupyter.widget-view+json": {
       "model_id": "d48e142bb645425d997ab92eef333f0b",
       "version_major": 2,
       "version_minor": 0
      },
      "text/plain": [
       "  0%|          | interpolating channels : 0/50 [00:00<?,       ?it/s]"
      ]
     },
     "metadata": {},
     "output_type": "display_data"
    },
    {
     "name": "stderr",
     "output_type": "stream",
     "text": [
      "[Parallel(n_jobs=1)]: Done   1 tasks      | elapsed:    0.1s\n",
      "[Parallel(n_jobs=1)]: Done   1 tasks      | elapsed:    0.1s\n"
     ]
    },
    {
     "data": {
      "application/vnd.jupyter.widget-view+json": {
       "model_id": "83ae4f73dbe84850a7346dc7d8713542",
       "version_major": 2,
       "version_minor": 0
      },
      "text/plain": [
       "  0%|          | Iterating epochs : 0/112 [00:00<?,       ?it/s]"
      ]
     },
     "metadata": {},
     "output_type": "display_data"
    },
    {
     "name": "stdout",
     "output_type": "stream",
     "text": [
      "[Done]\n",
      "Setting channel interpolation method to {'eeg': 'spline'}.\n",
      "Interpolating bad channels.\n",
      "    Automatic origin fit: head of radius 95.0 mm\n",
      "Computing interpolation matrix from 63 sensor positions\n",
      "Interpolating 1 sensors\n",
      "0 bad epochs dropped\n"
     ]
    },
    {
     "name": "stderr",
     "output_type": "stream",
     "text": [
      "[Parallel(n_jobs=1)]: Done   1 tasks      | elapsed:    4.7s\n",
      "[Parallel(n_jobs=1)]: Done   1 tasks      | elapsed:    4.7s\n",
      "/tmp/ipykernel_97582/156053950.py:185: UserWarning: This figure includes Axes that are not compatible with tight_layout, so results might be incorrect.\n",
      "  plt.tight_layout()\n"
     ]
    },
    {
     "name": "stdout",
     "output_type": "stream",
     "text": [
      "NOTE: plot_psd() is a legacy function. New code should use .compute_psd().plot().\n",
      "    Using multitaper spectrum estimation with 7 DPSS windows\n",
      "Plotting power spectral density (dB=True).\n",
      "Averaging across epochs before plotting...\n",
      "Not setting metadata\n",
      "122 matching events found\n",
      "No baseline correction applied\n",
      "0 projection items activated\n",
      "Using data from preloaded Raw for 122 events and 641 original time points ...\n",
      "1 bad epochs dropped\n",
      "\n",
      "##### Autorejecting bad epochs #####\n",
      "Running autoreject on ch_type=eeg\n"
     ]
    },
    {
     "data": {
      "application/vnd.jupyter.widget-view+json": {
       "model_id": "f2d327cb4ba14750ab69cc95cb0e2a40",
       "version_major": 2,
       "version_minor": 0
      },
      "text/plain": [
       "  0%|          | Creating augmented epochs : 0/64 [00:00<?,       ?it/s]"
      ]
     },
     "metadata": {},
     "output_type": "display_data"
    },
    {
     "data": {
      "application/vnd.jupyter.widget-view+json": {
       "model_id": "e23b110615794c11af69b6c2751abb63",
       "version_major": 2,
       "version_minor": 0
      },
      "text/plain": [
       "  0%|          | Computing thresholds ... : 0/64 [00:00<?,       ?it/s]"
      ]
     },
     "metadata": {},
     "output_type": "display_data"
    },
    {
     "data": {
      "application/vnd.jupyter.widget-view+json": {
       "model_id": "f3e07e5c379344e3af40fc448a43b8ba",
       "version_major": 2,
       "version_minor": 0
      },
      "text/plain": [
       "  0%|          | Repairing epochs : 0/121 [00:00<?,       ?it/s]"
      ]
     },
     "metadata": {},
     "output_type": "display_data"
    },
    {
     "data": {
      "application/vnd.jupyter.widget-view+json": {
       "model_id": "801f1c2c40f8472d978dfb446e1909fa",
       "version_major": 2,
       "version_minor": 0
      },
      "text/plain": [
       "  0%|          | n_interp : 0/3 [00:00<?,       ?it/s]"
      ]
     },
     "metadata": {},
     "output_type": "display_data"
    },
    {
     "data": {
      "application/vnd.jupyter.widget-view+json": {
       "model_id": "824f44833a50488793072726dee89864",
       "version_major": 2,
       "version_minor": 0
      },
      "text/plain": [
       "  0%|          | Repairing epochs : 0/121 [00:00<?,       ?it/s]"
      ]
     },
     "metadata": {},
     "output_type": "display_data"
    },
    {
     "data": {
      "application/vnd.jupyter.widget-view+json": {
       "model_id": "8905cf6c46da4b8fbdb17ba9aceb5237",
       "version_major": 2,
       "version_minor": 0
      },
      "text/plain": [
       "  0%|          | Fold : 0/10 [00:00<?,       ?it/s]"
      ]
     },
     "metadata": {},
     "output_type": "display_data"
    },
    {
     "data": {
      "application/vnd.jupyter.widget-view+json": {
       "model_id": "d268b2185c7a43719fb03f88bcd6477e",
       "version_major": 2,
       "version_minor": 0
      },
      "text/plain": [
       "  0%|          | Repairing epochs : 0/121 [00:00<?,       ?it/s]"
      ]
     },
     "metadata": {},
     "output_type": "display_data"
    },
    {
     "data": {
      "application/vnd.jupyter.widget-view+json": {
       "model_id": "1ff0bf09de874299a772f6a5aa039db1",
       "version_major": 2,
       "version_minor": 0
      },
      "text/plain": [
       "  0%|          | Fold : 0/10 [00:00<?,       ?it/s]"
      ]
     },
     "metadata": {},
     "output_type": "display_data"
    },
    {
     "data": {
      "application/vnd.jupyter.widget-view+json": {
       "model_id": "92ccf5258c1b465590faf88e44ff88fe",
       "version_major": 2,
       "version_minor": 0
      },
      "text/plain": [
       "  0%|          | Repairing epochs : 0/121 [00:00<?,       ?it/s]"
      ]
     },
     "metadata": {},
     "output_type": "display_data"
    },
    {
     "data": {
      "application/vnd.jupyter.widget-view+json": {
       "model_id": "e6b84b77c0c64085974138a68741a780",
       "version_major": 2,
       "version_minor": 0
      },
      "text/plain": [
       "  0%|          | Fold : 0/10 [00:00<?,       ?it/s]"
      ]
     },
     "metadata": {},
     "output_type": "display_data"
    },
    {
     "name": "stdout",
     "output_type": "stream",
     "text": [
      "\n",
      "\n",
      "\n",
      "\n",
      "Estimated consensus=0.80 and n_interpolate=1\n"
     ]
    },
    {
     "data": {
      "application/vnd.jupyter.widget-view+json": {
       "model_id": "daee952853d54d0682616052f2b34ba0",
       "version_major": 2,
       "version_minor": 0
      },
      "text/plain": [
       "  0%|          | Repairing epochs : 0/121 [00:00<?,       ?it/s]"
      ]
     },
     "metadata": {},
     "output_type": "display_data"
    },
    {
     "name": "stdout",
     "output_type": "stream",
     "text": [
      "Dropped 1 epoch: 105\n",
      "Estimating rejection dictionary for eeg\n"
     ]
    },
    {
     "data": {
      "application/vnd.jupyter.widget-view+json": {
       "model_id": "fe2688747dee4bde9da0353d584f72b2",
       "version_major": 2,
       "version_minor": 0
      },
      "text/plain": [
       "  0%|          | interpolating channels : 0/50 [00:00<?,       ?it/s]"
      ]
     },
     "metadata": {},
     "output_type": "display_data"
    },
    {
     "name": "stderr",
     "output_type": "stream",
     "text": [
      "[Parallel(n_jobs=1)]: Done   1 tasks      | elapsed:    0.1s\n",
      "[Parallel(n_jobs=1)]: Done   1 tasks      | elapsed:    0.1s\n"
     ]
    },
    {
     "data": {
      "application/vnd.jupyter.widget-view+json": {
       "model_id": "ad5b0897c1ef488b8b5e01a138451137",
       "version_major": 2,
       "version_minor": 0
      },
      "text/plain": [
       "  0%|          | Iterating epochs : 0/120 [00:00<?,       ?it/s]"
      ]
     },
     "metadata": {},
     "output_type": "display_data"
    },
    {
     "name": "stdout",
     "output_type": "stream",
     "text": [
      "[Done]\n",
      "Setting channel interpolation method to {'eeg': 'spline'}.\n",
      "Interpolating bad channels.\n",
      "    Automatic origin fit: head of radius 95.0 mm\n",
      "Computing interpolation matrix from 62 sensor positions\n",
      "Interpolating 2 sensors\n",
      "0 bad epochs dropped\n"
     ]
    },
    {
     "name": "stderr",
     "output_type": "stream",
     "text": [
      "[Parallel(n_jobs=1)]: Done   1 tasks      | elapsed:    5.1s\n",
      "[Parallel(n_jobs=1)]: Done   1 tasks      | elapsed:    5.1s\n",
      "/tmp/ipykernel_97582/156053950.py:238: UserWarning: This figure includes Axes that are not compatible with tight_layout, so results might be incorrect.\n",
      "  plt.tight_layout()\n"
     ]
    },
    {
     "name": "stdout",
     "output_type": "stream",
     "text": [
      "Not setting metadata\n",
      "232 matching events found\n",
      "No baseline correction applied\n",
      "Saved combined epochs to epochs/internal_task/sub-070_epo.fif\n",
      "\n",
      "##### Preprocessing subject 071 #####\n",
      "Extracting EDF parameters from /home/sivert/Documents/Specialization_project/Datasets/ds003969/sub-071/eeg/sub-071_task-med2_eeg.bdf...\n",
      "BDF file detected\n",
      "Setting channel info structure...\n",
      "Creating raw.info structure...\n",
      "Reading 0 ... 639999  =      0.000 ...   624.999 secs...\n",
      "Loaded BDF file for task 'med2': /home/sivert/Documents/Specialization_project/Datasets/ds003969/sub-071/eeg/sub-071_task-med2_eeg.bdf\n",
      "Loaded metadata JSON for task 'med2'\n",
      "Loaded metadata TSV for task 'med2'\n",
      "Extracting EDF parameters from /home/sivert/Documents/Specialization_project/Datasets/ds003969/sub-071/eeg/sub-071_task-think2_eeg.bdf...\n",
      "BDF file detected\n",
      "Setting channel info structure...\n",
      "Creating raw.info structure...\n",
      "Reading 0 ... 634879  =      0.000 ...   619.999 secs...\n",
      "Loaded BDF file for task 'think2': /home/sivert/Documents/Specialization_project/Datasets/ds003969/sub-071/eeg/sub-071_task-think2_eeg.bdf\n",
      "Loaded metadata JSON for task 'think2'\n",
      "Loaded metadata TSV for task 'think2'\n",
      "\n",
      "##### Channel types #####\n",
      "['Fp1', 'AF7', 'AF3', 'F1', 'F3', 'F5', 'F7', 'FT7', 'FC5', 'FC3', 'FC1', 'C1', 'C3', 'C5', 'T7', 'TP7', 'CP5', 'CP3', 'CP1', 'P1', 'P3', 'P5', 'P7', 'P9', 'PO7', 'PO3', 'O1', 'Iz', 'Oz', 'POz', 'Pz', 'CPz', 'Fpz', 'Fp2', 'AF8', 'AF4', 'AFz', 'Fz', 'F2', 'F4', 'F6', 'F8', 'FT8', 'FC6', 'FC4', 'FC2', 'FCz', 'Cz', 'C2', 'C4', 'C6', 'T8', 'TP8', 'CP6', 'CP4', 'CP2', 'P2', 'P4', 'P6', 'P8', 'P10', 'PO8', 'PO4', 'O2']\n",
      "Bad channels in meditation block: []\n",
      "Bad channels in thinking block: []\n",
      "Setting channel interpolation method to {'eeg': 'spline'}.\n",
      "Setting channel interpolation method to {'eeg': 'spline'}.\n"
     ]
    },
    {
     "name": "stderr",
     "output_type": "stream",
     "text": [
      "/tmp/ipykernel_97582/156053950.py:33: RuntimeWarning: The unit for channel(s) EXG1, EXG2, EXG3, EXG4, EXG5, EXG6, EXG7, EXG8, Erg1, Erg2, GSR1, GSR2 has changed from V to NA.\n",
      "  raw_med.set_channel_types({'EXG1': 'misc',\n",
      "/tmp/ipykernel_97582/156053950.py:49: RuntimeWarning: The unit for channel(s) EXG1, EXG2, EXG3, EXG4, EXG5, EXG6, EXG7, EXG8, Erg1, Erg2, GSR1, GSR2 has changed from V to NA.\n",
      "  raw_mw.set_channel_types({'EXG1': 'misc',\n",
      "/tmp/ipykernel_97582/156053950.py:90: RuntimeWarning: No bad channels to interpolate. Doing nothing...\n",
      "  raw_med.interpolate_bads()\n",
      "/tmp/ipykernel_97582/156053950.py:91: RuntimeWarning: No bad channels to interpolate. Doing nothing...\n",
      "  raw_mw.interpolate_bads()\n"
     ]
    },
    {
     "name": "stdout",
     "output_type": "stream",
     "text": [
      "[]\n",
      "[]\n",
      "\n",
      "##### Downsampling #####\n",
      "New sampling frequency: 128.0 Hz\n",
      "\n",
      "##### Averaging and filtering raw data #####\n",
      "1 (FIFFV_MNE_CUSTOM_REF_ON)\n",
      "1 (FIFFV_MNE_CUSTOM_REF_ON)\n",
      "NOTE: plot_psd() is a legacy function. New code should use .compute_psd().plot().\n",
      "Effective window size : 16.000 (s)\n",
      "Plotting power spectral density (dB=True).\n",
      "NOTE: plot_psd() is a legacy function. New code should use .compute_psd().plot().\n",
      "Effective window size : 16.000 (s)\n",
      "Plotting power spectral density (dB=True).\n",
      "Not setting metadata\n",
      "125 matching events found\n",
      "No baseline correction applied\n",
      "0 projection items activated\n",
      "Using data from preloaded Raw for 125 events and 641 original time points ...\n",
      "1 bad epochs dropped\n",
      "\n",
      "##### Autorejecting bad epochs #####\n",
      "Running autoreject on ch_type=eeg\n"
     ]
    },
    {
     "data": {
      "application/vnd.jupyter.widget-view+json": {
       "model_id": "90b698bcaa224c9087104e3b979de880",
       "version_major": 2,
       "version_minor": 0
      },
      "text/plain": [
       "  0%|          | Creating augmented epochs : 0/64 [00:00<?,       ?it/s]"
      ]
     },
     "metadata": {},
     "output_type": "display_data"
    },
    {
     "data": {
      "application/vnd.jupyter.widget-view+json": {
       "model_id": "f2c2a780cc81473ea4710c722299995a",
       "version_major": 2,
       "version_minor": 0
      },
      "text/plain": [
       "  0%|          | Computing thresholds ... : 0/64 [00:00<?,       ?it/s]"
      ]
     },
     "metadata": {},
     "output_type": "display_data"
    },
    {
     "data": {
      "application/vnd.jupyter.widget-view+json": {
       "model_id": "cce70c3f7b3b4dc6bea8a3e2e710fdb4",
       "version_major": 2,
       "version_minor": 0
      },
      "text/plain": [
       "  0%|          | Repairing epochs : 0/124 [00:00<?,       ?it/s]"
      ]
     },
     "metadata": {},
     "output_type": "display_data"
    },
    {
     "data": {
      "application/vnd.jupyter.widget-view+json": {
       "model_id": "91dfdddd4690434fb460040b7f8b983b",
       "version_major": 2,
       "version_minor": 0
      },
      "text/plain": [
       "  0%|          | n_interp : 0/3 [00:00<?,       ?it/s]"
      ]
     },
     "metadata": {},
     "output_type": "display_data"
    },
    {
     "data": {
      "application/vnd.jupyter.widget-view+json": {
       "model_id": "9b7c2bf84af04550b8ff481b95b0fbfd",
       "version_major": 2,
       "version_minor": 0
      },
      "text/plain": [
       "  0%|          | Repairing epochs : 0/124 [00:00<?,       ?it/s]"
      ]
     },
     "metadata": {},
     "output_type": "display_data"
    },
    {
     "data": {
      "application/vnd.jupyter.widget-view+json": {
       "model_id": "c0f974cf5c984a1cbf7ebbd24ffccc17",
       "version_major": 2,
       "version_minor": 0
      },
      "text/plain": [
       "  0%|          | Fold : 0/10 [00:00<?,       ?it/s]"
      ]
     },
     "metadata": {},
     "output_type": "display_data"
    },
    {
     "data": {
      "application/vnd.jupyter.widget-view+json": {
       "model_id": "2f5a5641bd8540dcb1c467f203ceecf3",
       "version_major": 2,
       "version_minor": 0
      },
      "text/plain": [
       "  0%|          | Repairing epochs : 0/124 [00:00<?,       ?it/s]"
      ]
     },
     "metadata": {},
     "output_type": "display_data"
    },
    {
     "data": {
      "application/vnd.jupyter.widget-view+json": {
       "model_id": "09ca2f499a0f446a96e0433127c0b405",
       "version_major": 2,
       "version_minor": 0
      },
      "text/plain": [
       "  0%|          | Fold : 0/10 [00:00<?,       ?it/s]"
      ]
     },
     "metadata": {},
     "output_type": "display_data"
    },
    {
     "data": {
      "application/vnd.jupyter.widget-view+json": {
       "model_id": "b79397bacc094207a8bcffefad37c81f",
       "version_major": 2,
       "version_minor": 0
      },
      "text/plain": [
       "  0%|          | Repairing epochs : 0/124 [00:00<?,       ?it/s]"
      ]
     },
     "metadata": {},
     "output_type": "display_data"
    },
    {
     "data": {
      "application/vnd.jupyter.widget-view+json": {
       "model_id": "a7394f54e9fa4360b6400267351d394f",
       "version_major": 2,
       "version_minor": 0
      },
      "text/plain": [
       "  0%|          | Fold : 0/10 [00:00<?,       ?it/s]"
      ]
     },
     "metadata": {},
     "output_type": "display_data"
    },
    {
     "name": "stdout",
     "output_type": "stream",
     "text": [
      "\n",
      "\n",
      "\n",
      "\n",
      "Estimated consensus=0.80 and n_interpolate=32\n"
     ]
    },
    {
     "data": {
      "application/vnd.jupyter.widget-view+json": {
       "model_id": "eba1a481535345a5924cc933420bbf9f",
       "version_major": 2,
       "version_minor": 0
      },
      "text/plain": [
       "  0%|          | Repairing epochs : 0/124 [00:00<?,       ?it/s]"
      ]
     },
     "metadata": {},
     "output_type": "display_data"
    },
    {
     "name": "stdout",
     "output_type": "stream",
     "text": [
      "No bad epochs were found for your data. Returning a copy of the data you wanted to clean. Interpolation may have been done.\n",
      "Estimating rejection dictionary for eeg\n"
     ]
    },
    {
     "data": {
      "application/vnd.jupyter.widget-view+json": {
       "model_id": "dd26b52c8c444da3bc6b36fa5c83bd2d",
       "version_major": 2,
       "version_minor": 0
      },
      "text/plain": [
       "  0%|          | interpolating channels : 0/50 [00:00<?,       ?it/s]"
      ]
     },
     "metadata": {},
     "output_type": "display_data"
    },
    {
     "name": "stderr",
     "output_type": "stream",
     "text": [
      "[Parallel(n_jobs=1)]: Done   1 tasks      | elapsed:    0.1s\n",
      "[Parallel(n_jobs=1)]: Done   1 tasks      | elapsed:    0.1s\n"
     ]
    },
    {
     "data": {
      "application/vnd.jupyter.widget-view+json": {
       "model_id": "75ffba0cadbc42bba7f76283a8bffe5a",
       "version_major": 2,
       "version_minor": 0
      },
      "text/plain": [
       "  0%|          | Iterating epochs : 0/124 [00:00<?,       ?it/s]"
      ]
     },
     "metadata": {},
     "output_type": "display_data"
    },
    {
     "name": "stdout",
     "output_type": "stream",
     "text": [
      "[Done]\n",
      "Setting channel interpolation method to {'eeg': 'spline'}.\n",
      "Interpolating bad channels.\n",
      "    Automatic origin fit: head of radius 95.0 mm\n",
      "Computing interpolation matrix from 63 sensor positions\n",
      "Interpolating 1 sensors\n",
      "0 bad epochs dropped\n"
     ]
    },
    {
     "name": "stderr",
     "output_type": "stream",
     "text": [
      "[Parallel(n_jobs=1)]: Done   1 tasks      | elapsed:    5.1s\n",
      "[Parallel(n_jobs=1)]: Done   1 tasks      | elapsed:    5.1s\n",
      "/tmp/ipykernel_97582/156053950.py:185: UserWarning: This figure includes Axes that are not compatible with tight_layout, so results might be incorrect.\n",
      "  plt.tight_layout()\n"
     ]
    },
    {
     "name": "stdout",
     "output_type": "stream",
     "text": [
      "NOTE: plot_psd() is a legacy function. New code should use .compute_psd().plot().\n",
      "    Using multitaper spectrum estimation with 7 DPSS windows\n",
      "Plotting power spectral density (dB=True).\n",
      "Averaging across epochs before plotting...\n",
      "Not setting metadata\n",
      "124 matching events found\n",
      "No baseline correction applied\n",
      "0 projection items activated\n",
      "Using data from preloaded Raw for 124 events and 641 original time points ...\n",
      "1 bad epochs dropped\n",
      "\n",
      "##### Autorejecting bad epochs #####\n",
      "Running autoreject on ch_type=eeg\n"
     ]
    },
    {
     "data": {
      "application/vnd.jupyter.widget-view+json": {
       "model_id": "245bdaf762ec49a3833afadad86ed8be",
       "version_major": 2,
       "version_minor": 0
      },
      "text/plain": [
       "  0%|          | Creating augmented epochs : 0/64 [00:00<?,       ?it/s]"
      ]
     },
     "metadata": {},
     "output_type": "display_data"
    },
    {
     "data": {
      "application/vnd.jupyter.widget-view+json": {
       "model_id": "d7012abf95e84d75a257442114649249",
       "version_major": 2,
       "version_minor": 0
      },
      "text/plain": [
       "  0%|          | Computing thresholds ... : 0/64 [00:00<?,       ?it/s]"
      ]
     },
     "metadata": {},
     "output_type": "display_data"
    },
    {
     "data": {
      "application/vnd.jupyter.widget-view+json": {
       "model_id": "7a0c6ddfb2d048ccbe65ec1868bc47eb",
       "version_major": 2,
       "version_minor": 0
      },
      "text/plain": [
       "  0%|          | Repairing epochs : 0/123 [00:00<?,       ?it/s]"
      ]
     },
     "metadata": {},
     "output_type": "display_data"
    },
    {
     "data": {
      "application/vnd.jupyter.widget-view+json": {
       "model_id": "ad17a6e280b4470f9398fd8b854e641d",
       "version_major": 2,
       "version_minor": 0
      },
      "text/plain": [
       "  0%|          | n_interp : 0/3 [00:00<?,       ?it/s]"
      ]
     },
     "metadata": {},
     "output_type": "display_data"
    },
    {
     "data": {
      "application/vnd.jupyter.widget-view+json": {
       "model_id": "5f1ba48937a44827976b8d40c3b388e3",
       "version_major": 2,
       "version_minor": 0
      },
      "text/plain": [
       "  0%|          | Repairing epochs : 0/123 [00:00<?,       ?it/s]"
      ]
     },
     "metadata": {},
     "output_type": "display_data"
    },
    {
     "data": {
      "application/vnd.jupyter.widget-view+json": {
       "model_id": "b880083e82934584990dc3242f0384d7",
       "version_major": 2,
       "version_minor": 0
      },
      "text/plain": [
       "  0%|          | Fold : 0/10 [00:00<?,       ?it/s]"
      ]
     },
     "metadata": {},
     "output_type": "display_data"
    },
    {
     "data": {
      "application/vnd.jupyter.widget-view+json": {
       "model_id": "d16b7fa0a9304758870cdbefceead28a",
       "version_major": 2,
       "version_minor": 0
      },
      "text/plain": [
       "  0%|          | Repairing epochs : 0/123 [00:00<?,       ?it/s]"
      ]
     },
     "metadata": {},
     "output_type": "display_data"
    },
    {
     "data": {
      "application/vnd.jupyter.widget-view+json": {
       "model_id": "58c7960e160e48feab3e118de204ea08",
       "version_major": 2,
       "version_minor": 0
      },
      "text/plain": [
       "  0%|          | Fold : 0/10 [00:00<?,       ?it/s]"
      ]
     },
     "metadata": {},
     "output_type": "display_data"
    },
    {
     "data": {
      "application/vnd.jupyter.widget-view+json": {
       "model_id": "3b1f33eb2b7044a38c99a0419b48fdbe",
       "version_major": 2,
       "version_minor": 0
      },
      "text/plain": [
       "  0%|          | Repairing epochs : 0/123 [00:00<?,       ?it/s]"
      ]
     },
     "metadata": {},
     "output_type": "display_data"
    },
    {
     "data": {
      "application/vnd.jupyter.widget-view+json": {
       "model_id": "8d0afa32734e46ca83b5069c01a9f7c0",
       "version_major": 2,
       "version_minor": 0
      },
      "text/plain": [
       "  0%|          | Fold : 0/10 [00:00<?,       ?it/s]"
      ]
     },
     "metadata": {},
     "output_type": "display_data"
    },
    {
     "name": "stdout",
     "output_type": "stream",
     "text": [
      "\n",
      "\n",
      "\n",
      "\n",
      "Estimated consensus=0.60 and n_interpolate=32\n"
     ]
    },
    {
     "data": {
      "application/vnd.jupyter.widget-view+json": {
       "model_id": "2cdedbb88abe446fa90d5c8ad995d318",
       "version_major": 2,
       "version_minor": 0
      },
      "text/plain": [
       "  0%|          | Repairing epochs : 0/123 [00:00<?,       ?it/s]"
      ]
     },
     "metadata": {},
     "output_type": "display_data"
    },
    {
     "name": "stdout",
     "output_type": "stream",
     "text": [
      "No bad epochs were found for your data. Returning a copy of the data you wanted to clean. Interpolation may have been done.\n",
      "Estimating rejection dictionary for eeg\n"
     ]
    },
    {
     "data": {
      "application/vnd.jupyter.widget-view+json": {
       "model_id": "224dc03ed09646dcb49ec9862bcc7a73",
       "version_major": 2,
       "version_minor": 0
      },
      "text/plain": [
       "  0%|          | interpolating channels : 0/50 [00:00<?,       ?it/s]"
      ]
     },
     "metadata": {},
     "output_type": "display_data"
    },
    {
     "name": "stderr",
     "output_type": "stream",
     "text": [
      "[Parallel(n_jobs=1)]: Done   1 tasks      | elapsed:    0.1s\n",
      "[Parallel(n_jobs=1)]: Done   1 tasks      | elapsed:    0.1s\n"
     ]
    },
    {
     "data": {
      "application/vnd.jupyter.widget-view+json": {
       "model_id": "ca65428708cf45c6adae58f84a73fc5a",
       "version_major": 2,
       "version_minor": 0
      },
      "text/plain": [
       "  0%|          | Iterating epochs : 0/123 [00:00<?,       ?it/s]"
      ]
     },
     "metadata": {},
     "output_type": "display_data"
    },
    {
     "name": "stdout",
     "output_type": "stream",
     "text": [
      "[Done]\n",
      "Setting channel interpolation method to {'eeg': 'spline'}.\n",
      "Interpolating bad channels.\n",
      "    Automatic origin fit: head of radius 95.0 mm\n",
      "Computing interpolation matrix from 63 sensor positions\n",
      "Interpolating 1 sensors\n",
      "0 bad epochs dropped\n"
     ]
    },
    {
     "name": "stderr",
     "output_type": "stream",
     "text": [
      "[Parallel(n_jobs=1)]: Done   1 tasks      | elapsed:    5.2s\n",
      "[Parallel(n_jobs=1)]: Done   1 tasks      | elapsed:    5.2s\n",
      "/tmp/ipykernel_97582/156053950.py:238: UserWarning: This figure includes Axes that are not compatible with tight_layout, so results might be incorrect.\n",
      "  plt.tight_layout()\n"
     ]
    },
    {
     "name": "stdout",
     "output_type": "stream",
     "text": [
      "Not setting metadata\n",
      "247 matching events found\n",
      "No baseline correction applied\n",
      "Saved combined epochs to epochs/internal_task/sub-071_epo.fif\n"
     ]
    }
   ],
   "source": [
    "bids_root = \"/home/sivert/Documents/Specialization_project/Datasets/ds003969/\"\n",
    "subjects = [\"060\", \"061\", \"062\", \"063\", \"064\", \"065\", \"066\", \"067\", \"068\", \"069\", \"070\", \"071\"]\n",
    "tasks = [\"med2\", \"think2\"]\n",
    "subject_group = subject_groups['sub-'+subject_id]\n",
    "\n",
    "def save_epochs(epochs_med, epochs_mw, subject_id):\n",
    "    # Merge the two epochs objects\n",
    "    epochs_combined = mne.concatenate_epochs([epochs_med, epochs_mw])\n",
    "    \n",
    "    # Create the output directory if it doesn't exist\n",
    "    output_dir = os.path.join(\"epochs\", \"internal_task\")\n",
    "    os.makedirs(output_dir, exist_ok=True)\n",
    "    \n",
    "    # Define the filename\n",
    "    combined_filename = os.path.join(output_dir, f\"sub-{subject_id}_epo.fif\")\n",
    "    \n",
    "    # Save the combined epochs object\n",
    "    epochs_combined.save(combined_filename, overwrite=True)\n",
    "    \n",
    "    print(f\"Saved combined epochs to {combined_filename}\")\n",
    "\n",
    "for subject_id in subjects:\n",
    "    print(f\"\\n##### Preprocessing subject {subject_id} #####\")\n",
    "\n",
    "    subject_data = load_task_data(bids_root, subject_id, tasks)\n",
    "\n",
    "    # Access raw data for a specific task\n",
    "    raw_med = subject_data['med2']['raw']\n",
    "    raw_mw = subject_data['think2']['raw']\n",
    "\n",
    "    print('\\n##### Channel types #####')\n",
    "    # Set channel types\n",
    "    raw_med.set_channel_types({'EXG1': 'misc',\n",
    "                        'EXG2': 'misc',\n",
    "                        'EXG3': 'misc',\n",
    "                        'EXG4': 'misc',\n",
    "                        'EXG5': 'misc',\n",
    "                        'EXG6': 'misc',\n",
    "                        'EXG7': 'misc',\n",
    "                        'EXG8': 'misc',\n",
    "                        'GSR1': 'misc',\n",
    "                        'GSR2': 'misc',\n",
    "                        'Erg1': 'misc',\n",
    "                        'Erg2': 'misc',\n",
    "                        'Resp': 'bio',\n",
    "                        'Plet': 'bio',\n",
    "                        'Temp': 'bio'\n",
    "    })\n",
    "    raw_mw.set_channel_types({'EXG1': 'misc',\n",
    "                        'EXG2': 'misc',\n",
    "                        'EXG3': 'misc',\n",
    "                        'EXG4': 'misc',\n",
    "                        'EXG5': 'misc',\n",
    "                        'EXG6': 'misc',\n",
    "                        'EXG7': 'misc',\n",
    "                        'EXG8': 'misc',\n",
    "                        'GSR1': 'misc',\n",
    "                        'GSR2': 'misc',\n",
    "                        'Erg1': 'misc',\n",
    "                        'Erg2': 'misc',\n",
    "                        'Resp': 'bio',\n",
    "                        'Plet': 'bio',\n",
    "                        'Temp': 'bio'\n",
    "    })\n",
    "\n",
    "    # Drop non-eeg channels\n",
    "    raw_med.pick('eeg')\n",
    "    raw_mw.pick('eeg')\n",
    "\n",
    "    # Verify the remaining channels\n",
    "    print(raw_med.info['ch_names'])\n",
    "\n",
    "    #Load the BioSemi 64-channel montage\n",
    "    montage = mne.channels.make_standard_montage('biosemi64')\n",
    "    raw_med.set_montage(montage)\n",
    "    raw_mw.set_montage(montage)\n",
    "\n",
    "    # Exclude bad channels\n",
    "    bad_channels_med = []\n",
    "    bad_channels_mw = []\n",
    "    if subject_id == \"069\":\n",
    "        bad_channels = [\"PO4\", \"PO8\", \"O2\"]\n",
    "        raw_med.info['bads'] = bad_channels\n",
    "        raw_mw.info['bads'] = bad_channels\n",
    "\n",
    "    print('Bad channels in meditation block:', raw_med.info['bads']) \n",
    "    print('Bad channels in thinking block:', raw_mw.info['bads'])  \n",
    "\n",
    "    # Interpolate bad channels\n",
    "    raw_med.interpolate_bads()\n",
    "    raw_mw.interpolate_bads()\n",
    "\n",
    "    # Verify that the bad channels have been interpolated\n",
    "    print(raw_med.info['bads'])  # Should be an empty list\n",
    "    print(raw_mw.info['bads'])  # Should be an empty list\n",
    "\n",
    "    # Plot the data\n",
    "    #raw_med.plot()\n",
    "    #raw_mw.plot()\n",
    "\n",
    "    print(\"\\n##### Downsampling #####\")\n",
    "\n",
    "    # Downsample the data to 128 Hz\n",
    "    raw_med.resample(sfreq=128, npad=\"auto\", verbose=False)\n",
    "    raw_mw.resample(sfreq=128, npad=\"auto\", verbose=False)\n",
    "\n",
    "    # Print the new sampling frequency\n",
    "    print(f\"New sampling frequency: {raw_med.info['sfreq']} Hz\")\n",
    "\n",
    "    print(\"\\n##### Averaging and filtering raw data #####\")\n",
    "\n",
    "    preprocessed_data_med = raw_med.copy()\n",
    "    preprocessed_data_mw = raw_mw.copy()\n",
    "    # Apply an average reference to the data\n",
    "    preprocessed_data_med.set_eeg_reference(ref_channels='average', verbose=False)\n",
    "    preprocessed_data_mw.set_eeg_reference(ref_channels='average', verbose=False)\n",
    "\n",
    "    # Filter out low frequencies and high frequencies\n",
    "    preprocessed_data_med.filter(l_freq=1, h_freq=40, verbose=False)\n",
    "    preprocessed_data_mw.filter(l_freq=1, h_freq=40, verbose=False)\n",
    "\n",
    "    # average reference\n",
    "    preprocessed_data_med.set_eeg_reference(ref_channels='average', verbose=False)\n",
    "    preprocessed_data_mw.set_eeg_reference(ref_channels='average', verbose=False)\n",
    "\n",
    "    # Verify the new reference\n",
    "    print(preprocessed_data_med.info['custom_ref_applied'])  # Should be 1 if referencing was applied\n",
    "    print(preprocessed_data_mw.info['custom_ref_applied'])  # Should be 1 if referencing was applied\n",
    "\n",
    "\n",
    "    preprocessed_data_med.plot_psd(fmin=1, fmax=40, average=True)\n",
    "    preprocessed_data_mw.plot_psd(fmin=1, fmax=40, average=True)\n",
    "    ICA_cleaned_data_med = preprocessed_data_med.copy()\n",
    "    ICA_cleaned_data_mw = preprocessed_data_mw.copy()\n",
    "\n",
    "    # Define the length of each epoch (in seconds)\n",
    "    epoch_length = 5  # 5 seconds\n",
    "\n",
    "    # Create custom events: start at 0, 5, 10, ... seconds\n",
    "    n_samples = ICA_cleaned_data_med.n_times\n",
    "    sfreq = ICA_cleaned_data_med.info['sfreq']\n",
    "    epochs_samples = np.arange(0, n_samples, epoch_length * sfreq, dtype=int)\n",
    "\n",
    "    # Create event array with [sample, 0, event_id] for each epoch\n",
    "    event_code = event_id[f\"{subject_group}/med2\"]\n",
    "    events = np.column_stack([epochs_samples, np.zeros(len(epochs_samples), dtype=int), event_code * np.ones(len(epochs_samples), dtype=int)])\n",
    "\n",
    "    # Create event id for meditation task\n",
    "    event_id_med = {f\"{subject_group}/med2\": event_code}\n",
    "\n",
    "    # Define the epochs object using the custom events\n",
    "    epochs_med = mne.Epochs(ICA_cleaned_data_med, events, event_id=event_id_med, tmin=0, tmax=epoch_length, baseline=None, detrend=1, preload=True)\n",
    "\n",
    "    print(\"\\n##### Autorejecting bad epochs #####\")\n",
    "\n",
    "    epochs_original_med = epochs_med.copy()\n",
    "\n",
    "    ar = AutoReject() ################################                                    REMEMBER TO CITE\n",
    "    epochs_med, reject_log = ar.fit_transform(epochs_med, return_log=True)\n",
    "    get_rejection_threshold(epochs_med)  # Get the rejection threshold dictionary\n",
    "\n",
    "    rsc = Ransac()\n",
    "    epochs_med = rsc.fit_transform(epochs_med)\n",
    "\n",
    "    #  Plot the epoch average before and after autorejection and RANSAC\n",
    "    evoked_before = epochs_original_med.average()\n",
    "    evoked_after = epochs_med.average()\n",
    "\n",
    "    # Dropping bad epochs after autorejection\n",
    "    reject = dict(eeg=200-6)\n",
    "    epochs_med.drop_bad(reject=reject)\n",
    "    epochs_med.plot_drop_log()\n",
    "\n",
    "    # Create a figure with subplots\n",
    "    fig, axes = plt.subplots(2, 1, figsize=(12, 6))  # 1 row, 2 columns\n",
    "\n",
    "    # Plot the averages\n",
    "    evoked_before.plot(axes=axes[0], show=False, spatial_colors=True, time_unit='s')\n",
    "    axes[0].set_title(\"Average Before Auto-Rejection\")\n",
    "\n",
    "    evoked_after.plot(axes=axes[1], show=False, spatial_colors=True, time_unit='s')\n",
    "    axes[1].set_title(\"Average After Auto-Rejection\")\n",
    "\n",
    "    # Adjust layout\n",
    "    plt.tight_layout()\n",
    "\n",
    "    # save the plot\n",
    "    output_dir = \"./plots/autoreject\"\n",
    "    os.makedirs(output_dir, exist_ok=True)\n",
    "    plt.savefig(os.path.join(output_dir,f\"sub-{subject_id}_meditation_task_epoch_averages_before_after.png\"))\n",
    "    plt.show()\n",
    "\n",
    "    epochs_med.plot_psd(fmin=1, fmax=40, average=True, spatial_colors=False)\n",
    "\n",
    "    # Create custom events: start at 0, 5, 10, ... seconds\n",
    "    n_samples = ICA_cleaned_data_mw.n_times\n",
    "    sfreq = ICA_cleaned_data_mw.info['sfreq']\n",
    "    epochs_samples = np.arange(0, n_samples, epoch_length * sfreq, dtype=int)\n",
    "\n",
    "    # Create event array with [sample, 0, event_id] for each epoch\n",
    "    event_code = event_id[f\"{subject_group}/think2\"]\n",
    "    events = np.column_stack([epochs_samples, np.zeros(len(epochs_samples), dtype=int), event_code * np.ones(len(epochs_samples), dtype=int)])\n",
    "\n",
    "    # create event_id for think task\n",
    "    event_id_think = {f\"{subject_group}/think2\": event_code}\n",
    "\n",
    "    # Define the epochs object using the custom events\n",
    "    epochs_mw = mne.Epochs(ICA_cleaned_data_mw, events, event_id=event_id_think, tmin=0, tmax=epoch_length, baseline=None, detrend=1, preload=True)\n",
    "\n",
    "    print(\"\\n##### Autorejecting bad epochs #####\")\n",
    "\n",
    "    epochs_original_mw = epochs_mw.copy()\n",
    "\n",
    "    epochs_mw, reject_log = ar.fit_transform(epochs_mw, return_log=True)\n",
    "    get_rejection_threshold(epochs_mw)  # Get the rejection threshold dictionary\n",
    "    epochs_mw = rsc.fit_transform(epochs_mw)\n",
    "\n",
    "    #  Plot the epoch average before and after autorejection and RANSAC\n",
    "    evoked_before = epochs_original_mw.average()\n",
    "    evoked_after = epochs_mw.average()\n",
    "\n",
    "    # Dropping bad epochs after autorejection\n",
    "    reject = dict(eeg=200-6)\n",
    "    epochs_mw.drop_bad(reject=reject)\n",
    "    epochs_mw.plot_drop_log()\n",
    "\n",
    "    # Create a figure with subplots\n",
    "    fig, axes = plt.subplots(2, 1, figsize=(12, 6))  # 1 row, 2 columns\n",
    "\n",
    "    # Plot the averages\n",
    "    evoked_before.plot(axes=axes[0], show=False, spatial_colors=True, time_unit='s')\n",
    "    axes[0].set_title(\"Average Before Auto-Rejection\")\n",
    "\n",
    "    evoked_after.plot(axes=axes[1], show=False, spatial_colors=True, time_unit='s')\n",
    "    axes[1].set_title(\"Average After Auto-Rejection\")\n",
    "\n",
    "    # Adjust layout\n",
    "    plt.tight_layout()\n",
    "\n",
    "    # save the plot\n",
    "    output_dir = \"./plots/autoreject\"\n",
    "    os.makedirs(output_dir, exist_ok=True)\n",
    "    plt.savefig(os.path.join(output_dir,f\"sub-{subject_id}_think_task_epoch_averages_before_after.png\"))\n",
    "    plt.show()\n",
    "\n",
    "\n",
    "\n",
    "\n",
    "\n",
    "    save_epochs(epochs_med, epochs_mw, subject_id)"
   ]
  },
  {
   "cell_type": "code",
   "execution_count": 14,
   "metadata": {},
   "outputs": [
    {
     "name": "stdout",
     "output_type": "stream",
     "text": [
      "Loading ./epochs/internal_task/sub-060_epo.fif\n",
      "Reading /home/sivert/Documents/Specialization_project/epochs/internal_task/sub-060_epo.fif ...\n",
      "    Found the data of interest:\n",
      "        t =       0.00 ...    5000.00 ms\n",
      "        0 CTF compensation matrices available\n",
      "Not setting metadata\n",
      "242 matching events found\n",
      "No baseline correction applied\n",
      "0 projection items activated\n",
      "Fitting ICA...\n",
      "Fitting ICA to data using 64 channels (please be patient, this may take a while)\n",
      "Selecting by number: 20 components\n",
      "Computing Infomax ICA\n",
      "Fitting ICA took 6.6s.\n",
      "ICA fitting complete.\n",
      "Displaying ICA components. Use the interactive GUI to select components for exclusion.\n",
      "Displaying ICA sources. Use this to examine the time-series for artifact-related components.\n",
      "Not setting metadata\n",
      "120 matching events found\n",
      "No baseline correction applied\n",
      "0 projection items activated\n",
      "Applying ICA to remove selected components...\n",
      "Applying ICA to Epochs instance\n",
      "    Transforming to ICA space (20 components)\n",
      "    Zeroing out 1 ICA component\n",
      "    Projecting back using 64 PCA components\n",
      "ICA cleaning complete.\n",
      "Fitting ICA...\n",
      "Fitting ICA to data using 64 channels (please be patient, this may take a while)\n",
      "Selecting by number: 20 components\n",
      "Computing Infomax ICA\n",
      "Fitting ICA took 8.0s.\n",
      "ICA fitting complete.\n",
      "Displaying ICA components. Use the interactive GUI to select components for exclusion.\n",
      "Displaying ICA sources. Use this to examine the time-series for artifact-related components.\n",
      "Not setting metadata\n",
      "122 matching events found\n",
      "No baseline correction applied\n",
      "0 projection items activated\n",
      "Applying ICA to remove selected components...\n",
      "Applying ICA to Epochs instance\n",
      "    Transforming to ICA space (20 components)\n",
      "    Zeroing out 3 ICA components\n",
      "    Projecting back using 64 PCA components\n",
      "ICA cleaning complete.\n",
      "Not setting metadata\n",
      "242 matching events found\n",
      "No baseline correction applied\n",
      "Overwriting existing file.\n",
      "Overwriting existing file.\n",
      "Saved combined epochs to epochs/internal_task/sub-060_epo.fif\n",
      "Loading ./epochs/internal_task/sub-061_epo.fif\n",
      "Reading /home/sivert/Documents/Specialization_project/epochs/internal_task/sub-061_epo.fif ...\n",
      "    Found the data of interest:\n",
      "        t =       0.00 ...    5000.00 ms\n",
      "        0 CTF compensation matrices available\n",
      "Not setting metadata\n",
      "240 matching events found\n",
      "No baseline correction applied\n",
      "0 projection items activated\n",
      "Fitting ICA...\n",
      "Fitting ICA to data using 64 channels (please be patient, this may take a while)\n",
      "Selecting by number: 20 components\n",
      "Computing Infomax ICA\n",
      "Fitting ICA took 7.0s.\n",
      "ICA fitting complete.\n",
      "Displaying ICA components. Use the interactive GUI to select components for exclusion.\n",
      "Displaying ICA sources. Use this to examine the time-series for artifact-related components.\n",
      "Not setting metadata\n",
      "120 matching events found\n",
      "No baseline correction applied\n",
      "0 projection items activated\n",
      "Applying ICA to remove selected components...\n",
      "Applying ICA to Epochs instance\n",
      "    Transforming to ICA space (20 components)\n",
      "    Zeroing out 1 ICA component\n",
      "    Projecting back using 64 PCA components\n",
      "ICA cleaning complete.\n",
      "Fitting ICA...\n",
      "Fitting ICA to data using 64 channels (please be patient, this may take a while)\n",
      "Selecting by number: 20 components\n",
      "Computing Infomax ICA\n",
      "Fitting ICA took 6.9s.\n",
      "ICA fitting complete.\n",
      "Displaying ICA components. Use the interactive GUI to select components for exclusion.\n",
      "Displaying ICA sources. Use this to examine the time-series for artifact-related components.\n",
      "Not setting metadata\n",
      "120 matching events found\n",
      "No baseline correction applied\n",
      "0 projection items activated\n",
      "Applying ICA to remove selected components...\n",
      "Applying ICA to Epochs instance\n",
      "    Transforming to ICA space (20 components)\n",
      "    Zeroing out 1 ICA component\n",
      "    Projecting back using 64 PCA components\n",
      "ICA cleaning complete.\n",
      "Not setting metadata\n",
      "240 matching events found\n",
      "No baseline correction applied\n",
      "Overwriting existing file.\n",
      "Overwriting existing file.\n",
      "Saved combined epochs to epochs/internal_task/sub-061_epo.fif\n",
      "Loading ./epochs/internal_task/sub-062_epo.fif\n",
      "Reading /home/sivert/Documents/Specialization_project/epochs/internal_task/sub-062_epo.fif ...\n",
      "    Found the data of interest:\n",
      "        t =       0.00 ...    5000.00 ms\n",
      "        0 CTF compensation matrices available\n",
      "Not setting metadata\n",
      "240 matching events found\n",
      "No baseline correction applied\n",
      "0 projection items activated\n",
      "Fitting ICA...\n",
      "Fitting ICA to data using 64 channels (please be patient, this may take a while)\n",
      "Selecting by number: 20 components\n",
      "Computing Infomax ICA\n",
      "Fitting ICA took 6.8s.\n",
      "ICA fitting complete.\n",
      "Displaying ICA components. Use the interactive GUI to select components for exclusion.\n",
      "Displaying ICA sources. Use this to examine the time-series for artifact-related components.\n",
      "Not setting metadata\n",
      "120 matching events found\n",
      "No baseline correction applied\n",
      "0 projection items activated\n",
      "Applying ICA to remove selected components...\n",
      "Applying ICA to Epochs instance\n",
      "    Transforming to ICA space (20 components)\n",
      "    Zeroing out 0 ICA components\n",
      "    Projecting back using 64 PCA components\n",
      "ICA cleaning complete.\n",
      "Fitting ICA...\n",
      "Fitting ICA to data using 64 channels (please be patient, this may take a while)\n",
      "Selecting by number: 20 components\n",
      "Computing Infomax ICA\n",
      "Fitting ICA took 6.9s.\n",
      "ICA fitting complete.\n",
      "Displaying ICA components. Use the interactive GUI to select components for exclusion.\n",
      "Displaying ICA sources. Use this to examine the time-series for artifact-related components.\n",
      "Not setting metadata\n",
      "120 matching events found\n",
      "No baseline correction applied\n",
      "0 projection items activated\n",
      "Applying ICA to remove selected components...\n",
      "Applying ICA to Epochs instance\n",
      "    Transforming to ICA space (20 components)\n",
      "    Zeroing out 0 ICA components\n",
      "    Projecting back using 64 PCA components\n",
      "ICA cleaning complete.\n",
      "Not setting metadata\n",
      "240 matching events found\n",
      "No baseline correction applied\n",
      "Overwriting existing file.\n",
      "Overwriting existing file.\n",
      "Saved combined epochs to epochs/internal_task/sub-062_epo.fif\n",
      "Loading ./epochs/internal_task/sub-063_epo.fif\n",
      "Reading /home/sivert/Documents/Specialization_project/epochs/internal_task/sub-063_epo.fif ...\n",
      "    Found the data of interest:\n",
      "        t =       0.00 ...    5000.00 ms\n",
      "        0 CTF compensation matrices available\n",
      "Not setting metadata\n",
      "240 matching events found\n",
      "No baseline correction applied\n",
      "0 projection items activated\n",
      "Fitting ICA...\n",
      "Fitting ICA to data using 64 channels (please be patient, this may take a while)\n",
      "Selecting by number: 20 components\n",
      "Computing Infomax ICA\n",
      "Fitting ICA took 6.7s.\n",
      "ICA fitting complete.\n",
      "Displaying ICA components. Use the interactive GUI to select components for exclusion.\n",
      "Displaying ICA sources. Use this to examine the time-series for artifact-related components.\n",
      "Not setting metadata\n",
      "119 matching events found\n",
      "No baseline correction applied\n",
      "0 projection items activated\n",
      "Applying ICA to remove selected components...\n",
      "Applying ICA to Epochs instance\n",
      "    Transforming to ICA space (20 components)\n",
      "    Zeroing out 4 ICA components\n",
      "    Projecting back using 64 PCA components\n",
      "ICA cleaning complete.\n",
      "Fitting ICA...\n",
      "Fitting ICA to data using 64 channels (please be patient, this may take a while)\n",
      "Selecting by number: 20 components\n",
      "Computing Infomax ICA\n",
      "Fitting ICA took 6.8s.\n",
      "ICA fitting complete.\n",
      "Displaying ICA components. Use the interactive GUI to select components for exclusion.\n",
      "Displaying ICA sources. Use this to examine the time-series for artifact-related components.\n",
      "Not setting metadata\n",
      "121 matching events found\n",
      "No baseline correction applied\n",
      "0 projection items activated\n",
      "Applying ICA to remove selected components...\n",
      "Applying ICA to Epochs instance\n",
      "    Transforming to ICA space (20 components)\n",
      "    Zeroing out 1 ICA component\n",
      "    Projecting back using 64 PCA components\n",
      "ICA cleaning complete.\n",
      "Not setting metadata\n",
      "240 matching events found\n",
      "No baseline correction applied\n",
      "Overwriting existing file.\n",
      "Overwriting existing file.\n",
      "Saved combined epochs to epochs/internal_task/sub-063_epo.fif\n",
      "Loading ./epochs/internal_task/sub-064_epo.fif\n",
      "Reading /home/sivert/Documents/Specialization_project/epochs/internal_task/sub-064_epo.fif ...\n",
      "    Found the data of interest:\n",
      "        t =       0.00 ...    5000.00 ms\n",
      "        0 CTF compensation matrices available\n",
      "Not setting metadata\n",
      "247 matching events found\n",
      "No baseline correction applied\n",
      "0 projection items activated\n",
      "Fitting ICA...\n",
      "Fitting ICA to data using 64 channels (please be patient, this may take a while)\n",
      "Selecting by number: 20 components\n",
      "Computing Infomax ICA\n",
      "Fitting ICA took 6.8s.\n",
      "ICA fitting complete.\n",
      "Displaying ICA components. Use the interactive GUI to select components for exclusion.\n",
      "Displaying ICA sources. Use this to examine the time-series for artifact-related components.\n",
      "Not setting metadata\n",
      "121 matching events found\n",
      "No baseline correction applied\n",
      "0 projection items activated\n",
      "Applying ICA to remove selected components...\n",
      "Applying ICA to Epochs instance\n",
      "    Transforming to ICA space (20 components)\n",
      "    Zeroing out 2 ICA components\n",
      "    Projecting back using 64 PCA components\n",
      "ICA cleaning complete.\n",
      "Fitting ICA...\n",
      "Fitting ICA to data using 64 channels (please be patient, this may take a while)\n",
      "Selecting by number: 20 components\n",
      "Computing Infomax ICA\n",
      "Fitting ICA took 8.1s.\n",
      "ICA fitting complete.\n",
      "Displaying ICA components. Use the interactive GUI to select components for exclusion.\n",
      "Displaying ICA sources. Use this to examine the time-series for artifact-related components.\n",
      "Not setting metadata\n",
      "126 matching events found\n",
      "No baseline correction applied\n",
      "0 projection items activated\n",
      "Applying ICA to remove selected components...\n",
      "Applying ICA to Epochs instance\n",
      "    Transforming to ICA space (20 components)\n",
      "    Zeroing out 1 ICA component\n",
      "    Projecting back using 64 PCA components\n",
      "ICA cleaning complete.\n",
      "Not setting metadata\n",
      "247 matching events found\n",
      "No baseline correction applied\n",
      "Overwriting existing file.\n",
      "Overwriting existing file.\n",
      "Saved combined epochs to epochs/internal_task/sub-064_epo.fif\n",
      "Loading ./epochs/internal_task/sub-065_epo.fif\n",
      "Reading /home/sivert/Documents/Specialization_project/epochs/internal_task/sub-065_epo.fif ...\n",
      "    Found the data of interest:\n",
      "        t =       0.00 ...    5000.00 ms\n",
      "        0 CTF compensation matrices available\n",
      "Not setting metadata\n",
      "259 matching events found\n",
      "No baseline correction applied\n",
      "0 projection items activated\n",
      "Fitting ICA...\n",
      "Fitting ICA to data using 64 channels (please be patient, this may take a while)\n",
      "Selecting by number: 20 components\n",
      "Computing Infomax ICA\n",
      "Fitting ICA took 8.5s.\n",
      "ICA fitting complete.\n",
      "Displaying ICA components. Use the interactive GUI to select components for exclusion.\n",
      "Displaying ICA sources. Use this to examine the time-series for artifact-related components.\n",
      "Not setting metadata\n",
      "141 matching events found\n",
      "No baseline correction applied\n",
      "0 projection items activated\n",
      "Applying ICA to remove selected components...\n",
      "Applying ICA to Epochs instance\n",
      "    Transforming to ICA space (20 components)\n",
      "    Zeroing out 1 ICA component\n",
      "    Projecting back using 64 PCA components\n",
      "ICA cleaning complete.\n",
      "Fitting ICA...\n",
      "Fitting ICA to data using 64 channels (please be patient, this may take a while)\n",
      "Selecting by number: 20 components\n",
      "Computing Infomax ICA\n",
      "Fitting ICA took 6.5s.\n",
      "ICA fitting complete.\n",
      "Displaying ICA components. Use the interactive GUI to select components for exclusion.\n",
      "Displaying ICA sources. Use this to examine the time-series for artifact-related components.\n",
      "Not setting metadata\n",
      "118 matching events found\n",
      "No baseline correction applied\n",
      "0 projection items activated\n",
      "Applying ICA to remove selected components...\n",
      "Applying ICA to Epochs instance\n",
      "    Transforming to ICA space (20 components)\n",
      "    Zeroing out 2 ICA components\n",
      "    Projecting back using 64 PCA components\n",
      "ICA cleaning complete.\n",
      "Not setting metadata\n",
      "259 matching events found\n",
      "No baseline correction applied\n",
      "Overwriting existing file.\n",
      "Overwriting existing file.\n",
      "Saved combined epochs to epochs/internal_task/sub-065_epo.fif\n",
      "Loading ./epochs/internal_task/sub-066_epo.fif\n",
      "Reading /home/sivert/Documents/Specialization_project/epochs/internal_task/sub-066_epo.fif ...\n",
      "    Found the data of interest:\n",
      "        t =       0.00 ...    5000.00 ms\n",
      "        0 CTF compensation matrices available\n",
      "Not setting metadata\n",
      "209 matching events found\n",
      "No baseline correction applied\n",
      "0 projection items activated\n",
      "Fitting ICA...\n",
      "Fitting ICA to data using 64 channels (please be patient, this may take a while)\n",
      "Selecting by number: 20 components\n",
      "Computing Infomax ICA\n",
      "Fitting ICA took 6.6s.\n",
      "ICA fitting complete.\n",
      "Displaying ICA components. Use the interactive GUI to select components for exclusion.\n",
      "Displaying ICA sources. Use this to examine the time-series for artifact-related components.\n",
      "Not setting metadata\n",
      "117 matching events found\n",
      "No baseline correction applied\n",
      "0 projection items activated\n",
      "Applying ICA to remove selected components...\n",
      "Applying ICA to Epochs instance\n",
      "    Transforming to ICA space (20 components)\n",
      "    Zeroing out 3 ICA components\n",
      "    Projecting back using 64 PCA components\n",
      "ICA cleaning complete.\n",
      "Fitting ICA...\n",
      "Fitting ICA to data using 64 channels (please be patient, this may take a while)\n",
      "Selecting by number: 20 components\n",
      "Computing Infomax ICA\n",
      "Fitting ICA took 5.1s.\n",
      "ICA fitting complete.\n",
      "Displaying ICA components. Use the interactive GUI to select components for exclusion.\n",
      "Displaying ICA sources. Use this to examine the time-series for artifact-related components.\n",
      "Not setting metadata\n",
      "92 matching events found\n",
      "No baseline correction applied\n",
      "0 projection items activated\n",
      "Applying ICA to remove selected components...\n",
      "Applying ICA to Epochs instance\n",
      "    Transforming to ICA space (20 components)\n",
      "    Zeroing out 5 ICA components\n",
      "    Projecting back using 64 PCA components\n",
      "ICA cleaning complete.\n",
      "Not setting metadata\n",
      "209 matching events found\n",
      "No baseline correction applied\n",
      "Overwriting existing file.\n",
      "Overwriting existing file.\n",
      "Saved combined epochs to epochs/internal_task/sub-066_epo.fif\n",
      "Loading ./epochs/internal_task/sub-067_epo.fif\n",
      "Reading /home/sivert/Documents/Specialization_project/epochs/internal_task/sub-067_epo.fif ...\n",
      "    Found the data of interest:\n",
      "        t =       0.00 ...    5000.00 ms\n",
      "        0 CTF compensation matrices available\n",
      "Not setting metadata\n",
      "233 matching events found\n",
      "No baseline correction applied\n",
      "0 projection items activated\n",
      "Fitting ICA...\n",
      "Fitting ICA to data using 64 channels (please be patient, this may take a while)\n",
      "Selecting by number: 20 components\n",
      "Computing Infomax ICA\n",
      "Fitting ICA took 6.7s.\n",
      "ICA fitting complete.\n",
      "Displaying ICA components. Use the interactive GUI to select components for exclusion.\n",
      "Displaying ICA sources. Use this to examine the time-series for artifact-related components.\n",
      "Not setting metadata\n",
      "120 matching events found\n",
      "No baseline correction applied\n",
      "0 projection items activated\n",
      "Applying ICA to remove selected components...\n",
      "Applying ICA to Epochs instance\n",
      "    Transforming to ICA space (20 components)\n",
      "    Zeroing out 3 ICA components\n",
      "    Projecting back using 64 PCA components\n",
      "ICA cleaning complete.\n",
      "Fitting ICA...\n",
      "Fitting ICA to data using 64 channels (please be patient, this may take a while)\n",
      "Selecting by number: 20 components\n",
      "Computing Infomax ICA\n",
      "Fitting ICA took 6.4s.\n",
      "ICA fitting complete.\n",
      "Displaying ICA components. Use the interactive GUI to select components for exclusion.\n",
      "Displaying ICA sources. Use this to examine the time-series for artifact-related components.\n",
      "Not setting metadata\n",
      "113 matching events found\n",
      "No baseline correction applied\n",
      "0 projection items activated\n",
      "Applying ICA to remove selected components...\n",
      "Applying ICA to Epochs instance\n",
      "    Transforming to ICA space (20 components)\n",
      "    Zeroing out 5 ICA components\n",
      "    Projecting back using 64 PCA components\n",
      "ICA cleaning complete.\n",
      "Not setting metadata\n",
      "233 matching events found\n",
      "No baseline correction applied\n",
      "Overwriting existing file.\n",
      "Overwriting existing file.\n",
      "Saved combined epochs to epochs/internal_task/sub-067_epo.fif\n",
      "Loading ./epochs/internal_task/sub-068_epo.fif\n",
      "Reading /home/sivert/Documents/Specialization_project/epochs/internal_task/sub-068_epo.fif ...\n",
      "    Found the data of interest:\n",
      "        t =       0.00 ...    5000.00 ms\n",
      "        0 CTF compensation matrices available\n",
      "Not setting metadata\n",
      "232 matching events found\n",
      "No baseline correction applied\n",
      "0 projection items activated\n",
      "Fitting ICA...\n",
      "Fitting ICA to data using 64 channels (please be patient, this may take a while)\n",
      "Selecting by number: 20 components\n",
      "Computing Infomax ICA\n",
      "Fitting ICA took 6.3s.\n",
      "ICA fitting complete.\n",
      "Displaying ICA components. Use the interactive GUI to select components for exclusion.\n",
      "Displaying ICA sources. Use this to examine the time-series for artifact-related components.\n",
      "Not setting metadata\n",
      "113 matching events found\n",
      "No baseline correction applied\n",
      "0 projection items activated\n",
      "Applying ICA to remove selected components...\n",
      "Applying ICA to Epochs instance\n",
      "    Transforming to ICA space (20 components)\n",
      "    Zeroing out 3 ICA components\n",
      "    Projecting back using 64 PCA components\n",
      "ICA cleaning complete.\n",
      "Fitting ICA...\n",
      "Fitting ICA to data using 64 channels (please be patient, this may take a while)\n",
      "Selecting by number: 20 components\n",
      "Computing Infomax ICA\n",
      "Fitting ICA took 6.9s.\n",
      "ICA fitting complete.\n",
      "Displaying ICA components. Use the interactive GUI to select components for exclusion.\n",
      "Displaying ICA sources. Use this to examine the time-series for artifact-related components.\n",
      "Not setting metadata\n",
      "119 matching events found\n",
      "No baseline correction applied\n",
      "0 projection items activated\n",
      "Applying ICA to remove selected components...\n",
      "Applying ICA to Epochs instance\n",
      "    Transforming to ICA space (20 components)\n",
      "    Zeroing out 4 ICA components\n",
      "    Projecting back using 64 PCA components\n",
      "ICA cleaning complete.\n",
      "Not setting metadata\n",
      "232 matching events found\n",
      "No baseline correction applied\n",
      "Overwriting existing file.\n",
      "Overwriting existing file.\n",
      "Saved combined epochs to epochs/internal_task/sub-068_epo.fif\n",
      "Loading ./epochs/internal_task/sub-069_epo.fif\n",
      "Reading /home/sivert/Documents/Specialization_project/epochs/internal_task/sub-069_epo.fif ...\n",
      "    Found the data of interest:\n",
      "        t =       0.00 ...    5000.00 ms\n",
      "        0 CTF compensation matrices available\n",
      "Not setting metadata\n",
      "231 matching events found\n",
      "No baseline correction applied\n",
      "0 projection items activated\n",
      "Fitting ICA...\n",
      "Fitting ICA to data using 64 channels (please be patient, this may take a while)\n",
      "Selecting by number: 20 components\n",
      "Computing Infomax ICA\n",
      "Fitting ICA took 6.8s.\n",
      "ICA fitting complete.\n",
      "Displaying ICA components. Use the interactive GUI to select components for exclusion.\n",
      "Displaying ICA sources. Use this to examine the time-series for artifact-related components.\n",
      "Not setting metadata\n",
      "119 matching events found\n",
      "No baseline correction applied\n",
      "0 projection items activated\n",
      "Applying ICA to remove selected components...\n",
      "Applying ICA to Epochs instance\n",
      "    Transforming to ICA space (20 components)\n",
      "    Zeroing out 1 ICA component\n",
      "    Projecting back using 64 PCA components\n",
      "ICA cleaning complete.\n",
      "Fitting ICA...\n",
      "Fitting ICA to data using 64 channels (please be patient, this may take a while)\n",
      "Selecting by number: 20 components\n",
      "Computing Infomax ICA\n",
      "Fitting ICA took 6.2s.\n",
      "ICA fitting complete.\n",
      "Displaying ICA components. Use the interactive GUI to select components for exclusion.\n",
      "Displaying ICA sources. Use this to examine the time-series for artifact-related components.\n",
      "Not setting metadata\n",
      "112 matching events found\n",
      "No baseline correction applied\n",
      "0 projection items activated\n",
      "Applying ICA to remove selected components...\n",
      "Applying ICA to Epochs instance\n",
      "    Transforming to ICA space (20 components)\n",
      "    Zeroing out 4 ICA components\n",
      "    Projecting back using 64 PCA components\n",
      "ICA cleaning complete.\n",
      "Not setting metadata\n",
      "231 matching events found\n",
      "No baseline correction applied\n",
      "Overwriting existing file.\n",
      "Overwriting existing file.\n",
      "Saved combined epochs to epochs/internal_task/sub-069_epo.fif\n",
      "Loading ./epochs/internal_task/sub-070_epo.fif\n",
      "Reading /home/sivert/Documents/Specialization_project/epochs/internal_task/sub-070_epo.fif ...\n",
      "    Found the data of interest:\n",
      "        t =       0.00 ...    5000.00 ms\n",
      "        0 CTF compensation matrices available\n",
      "Not setting metadata\n",
      "232 matching events found\n",
      "No baseline correction applied\n",
      "0 projection items activated\n",
      "Fitting ICA...\n",
      "Fitting ICA to data using 64 channels (please be patient, this may take a while)\n",
      "Selecting by number: 20 components\n",
      "Computing Infomax ICA\n",
      "Fitting ICA took 6.2s.\n",
      "ICA fitting complete.\n",
      "Displaying ICA components. Use the interactive GUI to select components for exclusion.\n",
      "Displaying ICA sources. Use this to examine the time-series for artifact-related components.\n",
      "Not setting metadata\n",
      "112 matching events found\n",
      "No baseline correction applied\n",
      "0 projection items activated\n",
      "Applying ICA to remove selected components...\n",
      "Applying ICA to Epochs instance\n",
      "    Transforming to ICA space (20 components)\n",
      "    Zeroing out 0 ICA components\n",
      "    Projecting back using 64 PCA components\n",
      "ICA cleaning complete.\n",
      "Fitting ICA...\n",
      "Fitting ICA to data using 64 channels (please be patient, this may take a while)\n",
      "Selecting by number: 20 components\n",
      "Computing Infomax ICA\n",
      "Fitting ICA took 6.9s.\n",
      "ICA fitting complete.\n",
      "Displaying ICA components. Use the interactive GUI to select components for exclusion.\n",
      "Displaying ICA sources. Use this to examine the time-series for artifact-related components.\n",
      "Not setting metadata\n",
      "120 matching events found\n",
      "No baseline correction applied\n",
      "0 projection items activated\n",
      "Applying ICA to remove selected components...\n",
      "Applying ICA to Epochs instance\n",
      "    Transforming to ICA space (20 components)\n",
      "    Zeroing out 2 ICA components\n",
      "    Projecting back using 64 PCA components\n",
      "ICA cleaning complete.\n",
      "Not setting metadata\n",
      "232 matching events found\n",
      "No baseline correction applied\n",
      "Overwriting existing file.\n",
      "Overwriting existing file.\n",
      "Saved combined epochs to epochs/internal_task/sub-070_epo.fif\n",
      "Loading ./epochs/internal_task/sub-071_epo.fif\n",
      "Reading /home/sivert/Documents/Specialization_project/epochs/internal_task/sub-071_epo.fif ...\n",
      "    Found the data of interest:\n",
      "        t =       0.00 ...    5000.00 ms\n",
      "        0 CTF compensation matrices available\n",
      "Not setting metadata\n",
      "247 matching events found\n",
      "No baseline correction applied\n",
      "0 projection items activated\n",
      "Fitting ICA...\n",
      "Fitting ICA to data using 64 channels (please be patient, this may take a while)\n",
      "Selecting by number: 20 components\n",
      "Computing Infomax ICA\n",
      "Fitting ICA took 8.3s.\n",
      "ICA fitting complete.\n",
      "Displaying ICA components. Use the interactive GUI to select components for exclusion.\n",
      "Displaying ICA sources. Use this to examine the time-series for artifact-related components.\n",
      "Not setting metadata\n",
      "124 matching events found\n",
      "No baseline correction applied\n",
      "0 projection items activated\n",
      "Applying ICA to remove selected components...\n",
      "Applying ICA to Epochs instance\n",
      "    Transforming to ICA space (20 components)\n",
      "    Zeroing out 0 ICA components\n",
      "    Projecting back using 64 PCA components\n",
      "ICA cleaning complete.\n",
      "Fitting ICA...\n",
      "Fitting ICA to data using 64 channels (please be patient, this may take a while)\n",
      "Selecting by number: 20 components\n",
      "Computing Infomax ICA\n",
      "Fitting ICA took 8.4s.\n",
      "ICA fitting complete.\n",
      "Displaying ICA components. Use the interactive GUI to select components for exclusion.\n",
      "Displaying ICA sources. Use this to examine the time-series for artifact-related components.\n",
      "Not setting metadata\n",
      "123 matching events found\n",
      "No baseline correction applied\n",
      "0 projection items activated\n",
      "Applying ICA to remove selected components...\n",
      "Applying ICA to Epochs instance\n",
      "    Transforming to ICA space (20 components)\n",
      "    Zeroing out 0 ICA components\n",
      "    Projecting back using 64 PCA components\n",
      "ICA cleaning complete.\n",
      "Not setting metadata\n",
      "247 matching events found\n",
      "No baseline correction applied\n",
      "Overwriting existing file.\n",
      "Overwriting existing file.\n",
      "Saved combined epochs to epochs/internal_task/sub-071_epo.fif\n"
     ]
    }
   ],
   "source": [
    "from mne.preprocessing import ICA\n",
    "\n",
    "def perform_ica_cleaning(epochs, subject, n_components=20, method='infomax', random_state=97):\n",
    "    \"\"\"\n",
    "    Perform ICA on the provided epochs and allow manual selection of components for exclusion.\n",
    "\n",
    "    Parameters:\n",
    "        epochs (mne.Epochs): The epochs object to clean.\n",
    "        n_components (int): Number of ICA components to compute (default: 20).\n",
    "        method (str): ICA method to use ('infomax' by default).\n",
    "        random_state (int): Random seed for ICA initialization (default: 42).\n",
    "\n",
    "    Returns:\n",
    "        mne.Epochs: Cleaned epochs after ICA.\n",
    "        ICA: The ICA object used for the analysis.\n",
    "    \"\"\"\n",
    "    print(\"Fitting ICA...\")\n",
    "    # Initialize ICA\n",
    "    ica = ICA(n_components=n_components, method=method, random_state=random_state)\n",
    "\n",
    "    # Fit ICA to the epochs\n",
    "    ica.fit(epochs)\n",
    "    print(\"ICA fitting complete.\")\n",
    "\n",
    "    # Plot ICA components\n",
    "    print(\"Displaying ICA components. Use the interactive GUI to select components for exclusion.\")\n",
    "    ica.plot_components(title=f\"ICA decomposition on subject {subject}\") \n",
    "\n",
    "    # Plot sources to identify artifacts\n",
    "    print(\"Displaying ICA sources. Use this to examine the time-series for artifact-related components.\")\n",
    "    ica.plot_sources(epochs, block = True)  # Opens an interactive source plot\n",
    "\n",
    "    # Apply ICA to remove the selected components\n",
    "    print(\"Applying ICA to remove selected components...\")\n",
    "    cleaned_epochs = ica.apply(epochs.copy())\n",
    "    print(\"ICA cleaning complete.\")\n",
    "\n",
    "    return cleaned_epochs, ica\n",
    "\n",
    "# Load in the epochs and do ICA\n",
    "for subject in subjects:\n",
    "    file_path = f'./epochs/internal_task/sub-{subject}_epo.fif'\n",
    "    if not os.path.exists(file_path):\n",
    "        raise FileNotFoundError(f\"No epochs found for subject {subject} at {file_path}\")\n",
    "\n",
    "    print(f\"Loading {file_path}\")\n",
    "    epochs = mne.read_epochs(file_path, preload=True)\n",
    "\n",
    "    # Extract epochs for each session\n",
    "    epochs_med2 = epochs[\"med2\"]\n",
    "    epochs_think2 = epochs[\"think2\"]\n",
    "\n",
    "    # Perform ICA on med2 epochs\n",
    "    cleaned_epochs_med2, ica_med2 = perform_ica_cleaning(epochs_med2, subject)\n",
    "\n",
    "    # Perform ICA on think2 epochs\n",
    "    cleaned_epochs_think2, ica_think2 = perform_ica_cleaning(epochs_think2, subject)\n",
    "\n",
    "    # Save the epochs\n",
    "    save_epochs(cleaned_epochs_med2, cleaned_epochs_think2, subject)\n",
    "\n"
   ]
  }
 ],
 "metadata": {
  "kernelspec": {
   "display_name": "mne-env",
   "language": "python",
   "name": "python3"
  },
  "language_info": {
   "codemirror_mode": {
    "name": "ipython",
    "version": 3
   },
   "file_extension": ".py",
   "mimetype": "text/x-python",
   "name": "python",
   "nbconvert_exporter": "python",
   "pygments_lexer": "ipython3",
   "version": "3.9.20"
  }
 },
 "nbformat": 4,
 "nbformat_minor": 2
}
